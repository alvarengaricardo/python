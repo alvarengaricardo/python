{
 "cells": [
  {
   "cell_type": "markdown",
   "id": "a7303fbb",
   "metadata": {},
   "source": [
    "# Recursividade"
   ]
  },
  {
   "cell_type": "markdown",
   "id": "e6c97dad",
   "metadata": {},
   "source": [
    "##### Fatorial"
   ]
  },
  {
   "cell_type": "markdown",
   "id": "737c76ab",
   "metadata": {},
   "source": [
    "Fórmula geral:\n",
    "\n",
    "* fatorial(num) = 1, se num == 0 ou num == 1 (caso base)\n",
    "* fatorial(num) = num * fatorial(num - 1), para num > 1 (caso recursivo)"
   ]
  },
  {
   "cell_type": "code",
   "execution_count": 1,
   "id": "327e5c04",
   "metadata": {},
   "outputs": [],
   "source": [
    "def fat_r(numero):\n",
    "    if numero <= 1:\n",
    "        return 1\n",
    "    else:\n",
    "        return numero * fat_r(numero - 1)"
   ]
  },
  {
   "cell_type": "code",
   "execution_count": 2,
   "id": "b2919787",
   "metadata": {},
   "outputs": [
    {
     "data": {
      "text/plain": [
       "1"
      ]
     },
     "execution_count": 2,
     "metadata": {},
     "output_type": "execute_result"
    }
   ],
   "source": [
    "fat_r(0)"
   ]
  },
  {
   "cell_type": "code",
   "execution_count": 3,
   "id": "97fa3742",
   "metadata": {},
   "outputs": [
    {
     "data": {
      "text/plain": [
       "1"
      ]
     },
     "execution_count": 3,
     "metadata": {},
     "output_type": "execute_result"
    }
   ],
   "source": [
    "fat_r(1)"
   ]
  },
  {
   "cell_type": "code",
   "execution_count": 4,
   "id": "cc62e27a",
   "metadata": {},
   "outputs": [
    {
     "data": {
      "text/plain": [
       "6"
      ]
     },
     "execution_count": 4,
     "metadata": {},
     "output_type": "execute_result"
    }
   ],
   "source": [
    "fat_r(3)"
   ]
  },
  {
   "cell_type": "code",
   "execution_count": 5,
   "id": "1cab21f2",
   "metadata": {},
   "outputs": [
    {
     "data": {
      "text/plain": [
       "120"
      ]
     },
     "execution_count": 5,
     "metadata": {},
     "output_type": "execute_result"
    }
   ],
   "source": [
    "fat_r(5)"
   ]
  },
  {
   "cell_type": "code",
   "execution_count": null,
   "id": "8f47a3b2",
   "metadata": {},
   "outputs": [],
   "source": []
  }
 ],
 "metadata": {
  "kernelspec": {
   "display_name": "Python 3 (ipykernel)",
   "language": "python",
   "name": "python3"
  },
  "language_info": {
   "codemirror_mode": {
    "name": "ipython",
    "version": 3
   },
   "file_extension": ".py",
   "mimetype": "text/x-python",
   "name": "python",
   "nbconvert_exporter": "python",
   "pygments_lexer": "ipython3",
   "version": "3.8.10"
  }
 },
 "nbformat": 4,
 "nbformat_minor": 5
}
