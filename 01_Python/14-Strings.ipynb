{
 "cells": [
  {
   "cell_type": "markdown",
   "id": "e3addd4a",
   "metadata": {},
   "source": [
    "# Strings"
   ]
  },
  {
   "cell_type": "markdown",
   "id": "b9ea1767",
   "metadata": {},
   "source": [
    "Strings são imutáveis, mas a variável que contém uma string é mutável."
   ]
  },
  {
   "cell_type": "code",
   "execution_count": 1,
   "id": "7b6d9585",
   "metadata": {},
   "outputs": [
    {
     "data": {
      "text/plain": [
       "'ã'"
      ]
     },
     "execution_count": 1,
     "metadata": {},
     "output_type": "execute_result"
    }
   ],
   "source": [
    "nome = 'João'\n",
    "nome[2]"
   ]
  },
  {
   "cell_type": "code",
   "execution_count": 2,
   "id": "c7c9bde6",
   "metadata": {},
   "outputs": [
    {
     "data": {
      "text/plain": [
       "'O melhor aluno é o João'"
      ]
     },
     "execution_count": 2,
     "metadata": {},
     "output_type": "execute_result"
    }
   ],
   "source": [
    "'O melhor aluno é o ' + nome"
   ]
  },
  {
   "cell_type": "code",
   "execution_count": 3,
   "id": "93258840",
   "metadata": {},
   "outputs": [],
   "source": [
    "frase = 'Dia de aprender Python'"
   ]
  },
  {
   "cell_type": "code",
   "execution_count": 4,
   "id": "d5841326",
   "metadata": {},
   "outputs": [
    {
     "data": {
      "text/plain": [
       "['Dia', 'de', 'aprender', 'Python']"
      ]
     },
     "execution_count": 4,
     "metadata": {},
     "output_type": "execute_result"
    }
   ],
   "source": [
    "palavras = frase.split()\n",
    "palavras"
   ]
  },
  {
   "cell_type": "code",
   "execution_count": 5,
   "id": "5b9bef3f",
   "metadata": {},
   "outputs": [
    {
     "data": {
      "text/plain": [
       "'aprender'"
      ]
     },
     "execution_count": 5,
     "metadata": {},
     "output_type": "execute_result"
    }
   ],
   "source": [
    "palavras[2]"
   ]
  },
  {
   "cell_type": "code",
   "execution_count": 6,
   "id": "ce7c2871",
   "metadata": {},
   "outputs": [
    {
     "name": "stdout",
     "output_type": "stream",
     "text": [
      "D\n",
      "i\n",
      "a\n",
      " \n",
      "d\n",
      "e\n",
      " \n",
      "a\n",
      "p\n",
      "r\n",
      "e\n",
      "n\n",
      "d\n",
      "e\n",
      "r\n",
      " \n",
      "P\n",
      "y\n",
      "t\n",
      "h\n",
      "o\n",
      "n\n"
     ]
    }
   ],
   "source": [
    "for letra in frase:\n",
    "    print(letra)"
   ]
  },
  {
   "cell_type": "code",
   "execution_count": 7,
   "id": "63c05699",
   "metadata": {},
   "outputs": [
    {
     "name": "stdout",
     "output_type": "stream",
     "text": [
      "Dia\n",
      "de\n",
      "aprender\n",
      "Python\n"
     ]
    }
   ],
   "source": [
    "for palavra in palavras:\n",
    "    print(palavra)"
   ]
  },
  {
   "cell_type": "code",
   "execution_count": 8,
   "id": "420d4ebf",
   "metadata": {},
   "outputs": [
    {
     "name": "stdout",
     "output_type": "stream",
     "text": [
      "D\n",
      "i\n",
      "a\n",
      "d\n",
      "e\n",
      "a\n",
      "p\n",
      "r\n",
      "e\n",
      "n\n",
      "d\n",
      "e\n",
      "r\n",
      "P\n",
      "y\n",
      "t\n",
      "h\n",
      "o\n",
      "n\n"
     ]
    }
   ],
   "source": [
    "for palavra in palavras:\n",
    "    for letra in palavra:\n",
    "        print(letra)"
   ]
  },
  {
   "cell_type": "code",
   "execution_count": 9,
   "id": "57133bf3",
   "metadata": {},
   "outputs": [
    {
     "data": {
      "text/plain": [
       "'de aprender Pyth'"
      ]
     },
     "execution_count": 9,
     "metadata": {},
     "output_type": "execute_result"
    }
   ],
   "source": [
    "frase[4:20]"
   ]
  },
  {
   "cell_type": "code",
   "execution_count": 10,
   "id": "2c8098c2",
   "metadata": {},
   "outputs": [
    {
     "name": "stdout",
     "output_type": "stream",
     "text": [
      "alvarenga.r.ricardo\n",
      "gmail.com\n"
     ]
    }
   ],
   "source": [
    "email = 'alvarenga.r.ricardo@gmail.com'\n",
    "arroba = email.find('@')\n",
    "usuario = email[:arroba]\n",
    "dominio = email[arroba+1:]\n",
    "print(usuario)\n",
    "print(dominio)"
   ]
  },
  {
   "cell_type": "code",
   "execution_count": 11,
   "id": "3217e8be",
   "metadata": {},
   "outputs": [
    {
     "data": {
      "text/plain": [
       "True"
      ]
     },
     "execution_count": 11,
     "metadata": {},
     "output_type": "execute_result"
    }
   ],
   "source": [
    "'gmail' in email"
   ]
  },
  {
   "cell_type": "code",
   "execution_count": 12,
   "id": "b03bce24",
   "metadata": {},
   "outputs": [
    {
     "data": {
      "text/plain": [
       "False"
      ]
     },
     "execution_count": 12,
     "metadata": {},
     "output_type": "execute_result"
    }
   ],
   "source": [
    "'uol' in email"
   ]
  },
  {
   "cell_type": "code",
   "execution_count": 13,
   "id": "db262521",
   "metadata": {},
   "outputs": [
    {
     "data": {
      "text/plain": [
       "20"
      ]
     },
     "execution_count": 13,
     "metadata": {},
     "output_type": "execute_result"
    }
   ],
   "source": [
    "posicao = email.find('gmail')\n",
    "posicao"
   ]
  },
  {
   "cell_type": "code",
   "execution_count": 14,
   "id": "b1fbe206",
   "metadata": {},
   "outputs": [
    {
     "data": {
      "text/plain": [
       "-1"
      ]
     },
     "execution_count": 14,
     "metadata": {},
     "output_type": "execute_result"
    }
   ],
   "source": [
    "posicao = email.find('uol') #retrona '-1' caso não exista o argumento\n",
    "posicao"
   ]
  },
  {
   "cell_type": "code",
   "execution_count": 15,
   "id": "60040ed8",
   "metadata": {},
   "outputs": [],
   "source": [
    "objeto_celeste = 'galáxia esPiral M31'"
   ]
  },
  {
   "cell_type": "code",
   "execution_count": 16,
   "id": "069bac90",
   "metadata": {},
   "outputs": [
    {
     "data": {
      "text/plain": [
       "'GALÁXIA ESPIRAL M31'"
      ]
     },
     "execution_count": 16,
     "metadata": {},
     "output_type": "execute_result"
    }
   ],
   "source": [
    "objeto_celeste.upper()"
   ]
  },
  {
   "cell_type": "code",
   "execution_count": 17,
   "id": "3c372d32",
   "metadata": {},
   "outputs": [
    {
     "data": {
      "text/plain": [
       "'galáxia espiral m31'"
      ]
     },
     "execution_count": 17,
     "metadata": {},
     "output_type": "execute_result"
    }
   ],
   "source": [
    "objeto_celeste.lower()"
   ]
  },
  {
   "cell_type": "code",
   "execution_count": 18,
   "id": "d1979757",
   "metadata": {},
   "outputs": [
    {
     "data": {
      "text/plain": [
       "'Galáxia espiral m31'"
      ]
     },
     "execution_count": 18,
     "metadata": {},
     "output_type": "execute_result"
    }
   ],
   "source": [
    "objeto_celeste.capitalize()"
   ]
  },
  {
   "cell_type": "code",
   "execution_count": 19,
   "id": "472b400f",
   "metadata": {},
   "outputs": [
    {
     "data": {
      "text/plain": [
       "'Galáxia Espiral M31'"
      ]
     },
     "execution_count": 19,
     "metadata": {},
     "output_type": "execute_result"
    }
   ],
   "source": [
    "objeto_celeste.title()"
   ]
  },
  {
   "cell_type": "code",
   "execution_count": 20,
   "id": "f77a4fa0",
   "metadata": {},
   "outputs": [
    {
     "name": "stdout",
     "output_type": "stream",
     "text": [
      "galáxia esPiral M31\n",
      "galáxia esPiral M-31\n"
     ]
    }
   ],
   "source": [
    "print(objeto_celeste)\n",
    "print(objeto_celeste.replace('M31', 'M-31'))"
   ]
  },
  {
   "cell_type": "code",
   "execution_count": 21,
   "id": "b3ef841d",
   "metadata": {},
   "outputs": [
    {
     "name": "stdout",
     "output_type": "stream",
     "text": [
      "         Ômega 3 é bom para a saúde!    \n",
      "Ômega 3 é bom para a saúde!    \n",
      "         Ômega 3 é bom para a saúde!\n",
      "Ômega 3 é bom para a saúde!\n"
     ]
    }
   ],
   "source": [
    "frase = '         Ômega 3 é bom para a saúde!    '\n",
    "print(frase)\n",
    "print(frase.lstrip())\n",
    "print(frase.rstrip())\n",
    "print(frase.strip())"
   ]
  },
  {
   "cell_type": "code",
   "execution_count": 22,
   "id": "aa7ef3b0",
   "metadata": {},
   "outputs": [
    {
     "name": "stdout",
     "output_type": "stream",
     "text": [
      "Abacate\n",
      "             Abacate\n",
      "      Abacate       \n",
      "Abacate-------------\n",
      "------Abacate-------\n"
     ]
    }
   ],
   "source": [
    "fruta = 'Abacate'\n",
    "print(fruta)\n",
    "print(fruta.rjust(20))\n",
    "print(fruta.center(20))\n",
    "print(fruta.ljust(20, \"-\"))\n",
    "print(fruta.center(20, \"-\"))"
   ]
  },
  {
   "cell_type": "code",
   "execution_count": 23,
   "id": "cefbea12",
   "metadata": {},
   "outputs": [
    {
     "data": {
      "text/plain": [
       "True"
      ]
     },
     "execution_count": 23,
     "metadata": {},
     "output_type": "execute_result"
    }
   ],
   "source": [
    "email.startswith('alva')"
   ]
  },
  {
   "cell_type": "code",
   "execution_count": 24,
   "id": "ac7f360a",
   "metadata": {},
   "outputs": [
    {
     "data": {
      "text/plain": [
       "False"
      ]
     },
     "execution_count": 24,
     "metadata": {},
     "output_type": "execute_result"
    }
   ],
   "source": [
    "email.endswith('.br')"
   ]
  },
  {
   "cell_type": "markdown",
   "id": "a30b7fae",
   "metadata": {},
   "source": [
    "##### Docstrings"
   ]
  },
  {
   "cell_type": "code",
   "execution_count": 25,
   "id": "cb2b8568",
   "metadata": {},
   "outputs": [
    {
     "data": {
      "text/plain": [
       "'\\n\\nDocstring é um tipo de documentação, multilinha\\n\\n   que respeita identação, e pode ser inserida em vários locais\\n   (módulo, função ou classe, entre outros.).\\n\\n'"
      ]
     },
     "execution_count": 25,
     "metadata": {},
     "output_type": "execute_result"
    }
   ],
   "source": [
    "texto = \"\"\"\n",
    "\n",
    "Docstring é um tipo de documentação, multilinha\n",
    "\n",
    "   que respeita identação, e pode ser inserida em vários locais\n",
    "   (módulo, função ou classe, entre outros.).\n",
    "\n",
    "\"\"\"\n",
    "texto"
   ]
  },
  {
   "cell_type": "code",
   "execution_count": 26,
   "id": "d08a10c9",
   "metadata": {},
   "outputs": [
    {
     "name": "stdout",
     "output_type": "stream",
     "text": [
      "\n",
      "\n",
      "Docstring é um tipo de documentação, multilinha\n",
      "\n",
      "   que respeita identação, e pode ser inserida em vários locais\n",
      "   (módulo, função ou classe, entre outros.).\n",
      "\n",
      "\n"
     ]
    }
   ],
   "source": [
    "print(texto)"
   ]
  },
  {
   "cell_type": "code",
   "execution_count": null,
   "id": "76ed6a90",
   "metadata": {},
   "outputs": [],
   "source": []
  }
 ],
 "metadata": {
  "kernelspec": {
   "display_name": "Python 3 (ipykernel)",
   "language": "python",
   "name": "python3"
  },
  "language_info": {
   "codemirror_mode": {
    "name": "ipython",
    "version": 3
   },
   "file_extension": ".py",
   "mimetype": "text/x-python",
   "name": "python",
   "nbconvert_exporter": "python",
   "pygments_lexer": "ipython3",
   "version": "3.8.10"
  }
 },
 "nbformat": 4,
 "nbformat_minor": 5
}
