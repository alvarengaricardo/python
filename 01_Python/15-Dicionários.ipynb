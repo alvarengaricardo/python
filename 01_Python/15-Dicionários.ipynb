{
 "cells": [
  {
   "cell_type": "markdown",
   "id": "08b42b8f",
   "metadata": {},
   "source": [
    "# Dicionários"
   ]
  },
  {
   "cell_type": "markdown",
   "id": "e7812263",
   "metadata": {},
   "source": [
    "Armazena dados em pares: Chave e Valor\n",
    "Os dicionários não aceitam valores mutaveis, como por exemplo listas."
   ]
  },
  {
   "cell_type": "code",
   "execution_count": 1,
   "id": "7b36fff3",
   "metadata": {},
   "outputs": [],
   "source": [
    "elemento = {\n",
    "    'Z': 3,\n",
    "    'nome': 'Lítio',\n",
    "    'grupo': 'Metais Alcalinos',\n",
    "    'densidade': 0.534\n",
    "}"
   ]
  },
  {
   "cell_type": "code",
   "execution_count": 2,
   "id": "2b9d8294",
   "metadata": {},
   "outputs": [
    {
     "data": {
      "text/plain": [
       "{'Z': 3, 'nome': 'Lítio', 'grupo': 'Metais Alcalinos', 'densidade': 0.534}"
      ]
     },
     "execution_count": 2,
     "metadata": {},
     "output_type": "execute_result"
    }
   ],
   "source": [
    "elemento"
   ]
  },
  {
   "cell_type": "code",
   "execution_count": 3,
   "id": "543c7de8",
   "metadata": {},
   "outputs": [
    {
     "data": {
      "text/plain": [
       "dict"
      ]
     },
     "execution_count": 3,
     "metadata": {},
     "output_type": "execute_result"
    }
   ],
   "source": [
    "type(elemento)"
   ]
  },
  {
   "cell_type": "code",
   "execution_count": 4,
   "id": "e3a83de9",
   "metadata": {},
   "outputs": [
    {
     "name": "stdout",
     "output_type": "stream",
     "text": [
      "Elemento: Lítio\n"
     ]
    }
   ],
   "source": [
    "print(f\"Elemento: {elemento['nome']}\")"
   ]
  },
  {
   "cell_type": "code",
   "execution_count": 5,
   "id": "313e5a45",
   "metadata": {},
   "outputs": [
    {
     "data": {
      "text/plain": [
       "4"
      ]
     },
     "execution_count": 5,
     "metadata": {},
     "output_type": "execute_result"
    }
   ],
   "source": [
    "len(elemento)"
   ]
  },
  {
   "cell_type": "markdown",
   "id": "4d5b58ff",
   "metadata": {},
   "source": [
    "Atualizar"
   ]
  },
  {
   "cell_type": "code",
   "execution_count": 6,
   "id": "9c8dff1d",
   "metadata": {},
   "outputs": [],
   "source": [
    "elemento['grupo'] = 'Alcalinos'"
   ]
  },
  {
   "cell_type": "code",
   "execution_count": 7,
   "id": "c76438a8",
   "metadata": {},
   "outputs": [
    {
     "data": {
      "text/plain": [
       "{'Z': 3, 'nome': 'Lítio', 'grupo': 'Alcalinos', 'densidade': 0.534}"
      ]
     },
     "execution_count": 7,
     "metadata": {},
     "output_type": "execute_result"
    }
   ],
   "source": [
    "elemento"
   ]
  },
  {
   "cell_type": "markdown",
   "id": "80184b6b",
   "metadata": {},
   "source": [
    "Adicionar entrada"
   ]
  },
  {
   "cell_type": "code",
   "execution_count": 8,
   "id": "f4ecc5ef",
   "metadata": {},
   "outputs": [],
   "source": [
    "elemento['período'] = 1"
   ]
  },
  {
   "cell_type": "code",
   "execution_count": 9,
   "id": "0e07865e",
   "metadata": {},
   "outputs": [
    {
     "data": {
      "text/plain": [
       "{'Z': 3,\n",
       " 'nome': 'Lítio',\n",
       " 'grupo': 'Alcalinos',\n",
       " 'densidade': 0.534,\n",
       " 'período': 1}"
      ]
     },
     "execution_count": 9,
     "metadata": {},
     "output_type": "execute_result"
    }
   ],
   "source": [
    "elemento"
   ]
  },
  {
   "cell_type": "markdown",
   "id": "0085865a",
   "metadata": {},
   "source": [
    "Remover"
   ]
  },
  {
   "cell_type": "code",
   "execution_count": 10,
   "id": "4321b3b9",
   "metadata": {},
   "outputs": [],
   "source": [
    "del elemento['grupo']"
   ]
  },
  {
   "cell_type": "code",
   "execution_count": 11,
   "id": "798c5b67",
   "metadata": {},
   "outputs": [
    {
     "data": {
      "text/plain": [
       "{'Z': 3, 'nome': 'Lítio', 'densidade': 0.534, 'período': 1}"
      ]
     },
     "execution_count": 11,
     "metadata": {},
     "output_type": "execute_result"
    }
   ],
   "source": [
    "elemento"
   ]
  },
  {
   "cell_type": "code",
   "execution_count": 12,
   "id": "c8303658",
   "metadata": {},
   "outputs": [],
   "source": [
    "elemento.clear()"
   ]
  },
  {
   "cell_type": "code",
   "execution_count": 13,
   "id": "8d87203f",
   "metadata": {},
   "outputs": [
    {
     "data": {
      "text/plain": [
       "{}"
      ]
     },
     "execution_count": 13,
     "metadata": {},
     "output_type": "execute_result"
    }
   ],
   "source": [
    "elemento"
   ]
  },
  {
   "cell_type": "code",
   "execution_count": 14,
   "id": "4625a138",
   "metadata": {},
   "outputs": [],
   "source": [
    "del elemento # destroi o dicionário"
   ]
  },
  {
   "cell_type": "markdown",
   "id": "88fdc0a6",
   "metadata": {},
   "source": [
    "##### Outras funções"
   ]
  },
  {
   "cell_type": "code",
   "execution_count": 15,
   "id": "2eed1c52",
   "metadata": {},
   "outputs": [],
   "source": [
    "elemento = {\n",
    "    'Z': 3,\n",
    "    'nome': 'Lítio',\n",
    "    'grupo': 'Metais Alcalinos',\n",
    "    'densidade': 0.534\n",
    "}"
   ]
  },
  {
   "cell_type": "code",
   "execution_count": 16,
   "id": "81786f3e",
   "metadata": {},
   "outputs": [
    {
     "data": {
      "text/plain": [
       "dict_items([('Z', 3), ('nome', 'Lítio'), ('grupo', 'Metais Alcalinos'), ('densidade', 0.534)])"
      ]
     },
     "execution_count": 16,
     "metadata": {},
     "output_type": "execute_result"
    }
   ],
   "source": [
    "elemento.items() # observe que cada item está em uma tupla"
   ]
  },
  {
   "cell_type": "code",
   "execution_count": 17,
   "id": "65765274",
   "metadata": {},
   "outputs": [
    {
     "name": "stdout",
     "output_type": "stream",
     "text": [
      "('Z', 3)\n",
      "('nome', 'Lítio')\n",
      "('grupo', 'Metais Alcalinos')\n",
      "('densidade', 0.534)\n"
     ]
    }
   ],
   "source": [
    "for i in elemento.items():\n",
    "    print(i)"
   ]
  },
  {
   "cell_type": "code",
   "execution_count": 18,
   "id": "fe384206",
   "metadata": {},
   "outputs": [
    {
     "data": {
      "text/plain": [
       "dict_keys(['Z', 'nome', 'grupo', 'densidade'])"
      ]
     },
     "execution_count": 18,
     "metadata": {},
     "output_type": "execute_result"
    }
   ],
   "source": [
    "elemento.keys()"
   ]
  },
  {
   "cell_type": "code",
   "execution_count": 19,
   "id": "7fc9383e",
   "metadata": {},
   "outputs": [
    {
     "name": "stdout",
     "output_type": "stream",
     "text": [
      "Z\n",
      "nome\n",
      "grupo\n",
      "densidade\n"
     ]
    }
   ],
   "source": [
    "for k in elemento.keys():\n",
    "    print(k)"
   ]
  },
  {
   "cell_type": "code",
   "execution_count": 20,
   "id": "92ee7c9c",
   "metadata": {},
   "outputs": [
    {
     "data": {
      "text/plain": [
       "dict_values([3, 'Lítio', 'Metais Alcalinos', 0.534])"
      ]
     },
     "execution_count": 20,
     "metadata": {},
     "output_type": "execute_result"
    }
   ],
   "source": [
    "elemento.values()"
   ]
  },
  {
   "cell_type": "code",
   "execution_count": 21,
   "id": "fa337809",
   "metadata": {},
   "outputs": [
    {
     "name": "stdout",
     "output_type": "stream",
     "text": [
      "3\n",
      "Lítio\n",
      "Metais Alcalinos\n",
      "0.534\n"
     ]
    }
   ],
   "source": [
    "for v in elemento.values():\n",
    "    print(v)"
   ]
  },
  {
   "cell_type": "code",
   "execution_count": 22,
   "id": "93af2529",
   "metadata": {},
   "outputs": [
    {
     "name": "stdout",
     "output_type": "stream",
     "text": [
      "Z: 3\n",
      "nome: Lítio\n",
      "grupo: Metais Alcalinos\n",
      "densidade: 0.534\n"
     ]
    }
   ],
   "source": [
    "for i, j in elemento.items():\n",
    "    print(f'{i}: {j}')"
   ]
  },
  {
   "cell_type": "code",
   "execution_count": null,
   "id": "2b0d5e84",
   "metadata": {},
   "outputs": [],
   "source": []
  }
 ],
 "metadata": {
  "kernelspec": {
   "display_name": "Python 3 (ipykernel)",
   "language": "python",
   "name": "python3"
  },
  "language_info": {
   "codemirror_mode": {
    "name": "ipython",
    "version": 3
   },
   "file_extension": ".py",
   "mimetype": "text/x-python",
   "name": "python",
   "nbconvert_exporter": "python",
   "pygments_lexer": "ipython3",
   "version": "3.8.10"
  }
 },
 "nbformat": 4,
 "nbformat_minor": 5
}
