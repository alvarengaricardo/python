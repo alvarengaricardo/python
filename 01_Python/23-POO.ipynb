{
 "cells": [
  {
   "cell_type": "markdown",
   "id": "cefe5b4c",
   "metadata": {},
   "source": [
    "# POO"
   ]
  },
  {
   "cell_type": "markdown",
   "id": "bbe6ae20",
   "metadata": {},
   "source": [
    "Classes: Modelos abstrados\n",
    "\n",
    "Objetos: Ocorrências das classes"
   ]
  },
  {
   "cell_type": "code",
   "execution_count": 1,
   "id": "5170a1ba",
   "metadata": {},
   "outputs": [],
   "source": [
    "class Veiculo:\n",
    "    def movimentar(self):\n",
    "        print('Em deslocamento.')\n",
    "    # Construtor\n",
    "    def __init__(self, fabricante, modelo):\n",
    "        self.fabricante = fabricante\n",
    "        self.modelo = modelo\n",
    "        self.num_registro = None\n",
    "    # Getter\n",
    "    def get_fabr_modelo(self):\n",
    "        print(f'Modelo: {self.modelo}, Fabricante: {self.fabricante}.\\n')\n",
    "    def get_num_registro(self):\n",
    "        return self.num_registro\n",
    "    # Setter\n",
    "    def set_num_registro(self, registro):\n",
    "        self.num_registro = registro"
   ]
  },
  {
   "cell_type": "code",
   "execution_count": 2,
   "id": "82717aed",
   "metadata": {},
   "outputs": [
    {
     "name": "stdout",
     "output_type": "stream",
     "text": [
      "Em deslocamento.\n"
     ]
    }
   ],
   "source": [
    "meu_veiculo = Veiculo('Ford', 'Mustang')\n",
    "meu_veiculo.movimentar()"
   ]
  },
  {
   "cell_type": "code",
   "execution_count": 3,
   "id": "8548c99b",
   "metadata": {},
   "outputs": [
    {
     "data": {
      "text/plain": [
       "'Ford'"
      ]
     },
     "execution_count": 3,
     "metadata": {},
     "output_type": "execute_result"
    }
   ],
   "source": [
    "meu_veiculo.fabricante"
   ]
  },
  {
   "cell_type": "code",
   "execution_count": 4,
   "id": "cf4dc87f",
   "metadata": {},
   "outputs": [
    {
     "data": {
      "text/plain": [
       "'Mustang'"
      ]
     },
     "execution_count": 4,
     "metadata": {},
     "output_type": "execute_result"
    }
   ],
   "source": [
    "meu_veiculo.modelo"
   ]
  },
  {
   "cell_type": "code",
   "execution_count": 5,
   "id": "640cc774",
   "metadata": {},
   "outputs": [
    {
     "data": {
      "text/plain": [
       "<__main__.Veiculo at 0x1ffa8f33eb0>"
      ]
     },
     "execution_count": 5,
     "metadata": {},
     "output_type": "execute_result"
    }
   ],
   "source": [
    "meu_veiculo"
   ]
  },
  {
   "cell_type": "code",
   "execution_count": 6,
   "id": "96de1fdd",
   "metadata": {},
   "outputs": [
    {
     "data": {
      "text/plain": [
       "__main__.Veiculo"
      ]
     },
     "execution_count": 6,
     "metadata": {},
     "output_type": "execute_result"
    }
   ],
   "source": [
    "type(meu_veiculo)"
   ]
  },
  {
   "cell_type": "code",
   "execution_count": 7,
   "id": "ba4fd0c5",
   "metadata": {},
   "outputs": [
    {
     "name": "stdout",
     "output_type": "stream",
     "text": [
      "Modelo: Mustang, Fabricante: Ford.\n",
      "\n"
     ]
    }
   ],
   "source": [
    "meu_veiculo.get_fabr_modelo()"
   ]
  },
  {
   "cell_type": "code",
   "execution_count": 8,
   "id": "6b4bac4f",
   "metadata": {},
   "outputs": [],
   "source": [
    "meu_veiculo.set_num_registro('42')"
   ]
  },
  {
   "cell_type": "code",
   "execution_count": 9,
   "id": "3918c47f",
   "metadata": {},
   "outputs": [
    {
     "data": {
      "text/plain": [
       "'42'"
      ]
     },
     "execution_count": 9,
     "metadata": {},
     "output_type": "execute_result"
    }
   ],
   "source": [
    "meu_veiculo.get_num_registro()"
   ]
  },
  {
   "cell_type": "markdown",
   "id": "7cae0476",
   "metadata": {},
   "source": [
    "##### Herança"
   ]
  },
  {
   "cell_type": "code",
   "execution_count": 10,
   "id": "0e7fba89",
   "metadata": {},
   "outputs": [],
   "source": [
    "class Carro(Veiculo):\n",
    "    # Método __init__ herdado\n",
    "    def movimentar(self):\n",
    "        print('Carro em deslocamento.')"
   ]
  },
  {
   "cell_type": "code",
   "execution_count": 11,
   "id": "732f9ef7",
   "metadata": {},
   "outputs": [
    {
     "name": "stdout",
     "output_type": "stream",
     "text": [
      "Carro em deslocamento.\n"
     ]
    }
   ],
   "source": [
    "meu_carro = Carro('Fiat', 'Punto')\n",
    "meu_carro.movimentar()"
   ]
  },
  {
   "cell_type": "code",
   "execution_count": 12,
   "id": "05bf3237",
   "metadata": {},
   "outputs": [
    {
     "name": "stdout",
     "output_type": "stream",
     "text": [
      "Modelo: Punto, Fabricante: Fiat.\n",
      "\n"
     ]
    }
   ],
   "source": [
    "meu_carro.get_fabr_modelo()"
   ]
  },
  {
   "cell_type": "code",
   "execution_count": 13,
   "id": "d9eb3739",
   "metadata": {},
   "outputs": [],
   "source": [
    "seu_carro = Carro('GM', 'Astra')"
   ]
  },
  {
   "cell_type": "code",
   "execution_count": 14,
   "id": "962fb2ed",
   "metadata": {},
   "outputs": [
    {
     "name": "stdout",
     "output_type": "stream",
     "text": [
      "Modelo: Astra, Fabricante: GM.\n",
      "\n"
     ]
    }
   ],
   "source": [
    "seu_carro.get_fabr_modelo()"
   ]
  },
  {
   "cell_type": "code",
   "execution_count": 15,
   "id": "092827d6",
   "metadata": {},
   "outputs": [],
   "source": [
    "class Motocicleta(Veiculo):\n",
    "    def movimentar(self):\n",
    "        print('Precisa de equilibrio!')"
   ]
  },
  {
   "cell_type": "code",
   "execution_count": 16,
   "id": "83f2ce2e",
   "metadata": {},
   "outputs": [],
   "source": [
    "moto = Motocicleta('Honda', 'CG 125')"
   ]
  },
  {
   "cell_type": "code",
   "execution_count": 17,
   "id": "c0f55f6b",
   "metadata": {},
   "outputs": [
    {
     "name": "stdout",
     "output_type": "stream",
     "text": [
      "Modelo: CG 125, Fabricante: Honda.\n",
      "\n"
     ]
    }
   ],
   "source": [
    "moto.get_fabr_modelo()"
   ]
  },
  {
   "cell_type": "code",
   "execution_count": 18,
   "id": "8f926c6d",
   "metadata": {},
   "outputs": [],
   "source": [
    "moto.set_num_registro('M42')"
   ]
  },
  {
   "cell_type": "code",
   "execution_count": 19,
   "id": "9e3c5dd4",
   "metadata": {},
   "outputs": [
    {
     "data": {
      "text/plain": [
       "'M42'"
      ]
     },
     "execution_count": 19,
     "metadata": {},
     "output_type": "execute_result"
    }
   ],
   "source": [
    "moto.get_num_registro()"
   ]
  },
  {
   "cell_type": "code",
   "execution_count": 20,
   "id": "efdac02c",
   "metadata": {},
   "outputs": [],
   "source": [
    "class Aviao(Veiculo):\n",
    "    def __init__ (self, fabricante, modelo, categoria):\n",
    "        self.categoria = categoria\n",
    "        super().__init__(fabricante, modelo) # Herda fabricante e modelo de Veículo\n",
    "        \n",
    "    def get_categoria(self):\n",
    "        return categoria\n",
    "    \n",
    "    def movimentar(self):\n",
    "        print('Voando!')\n",
    "    \n",
    "    def ficha(self):\n",
    "        print(f'Fabricante: {self.fabricante}')\n",
    "        print(f'Modelo: {self.modelo}')\n",
    "        print(f'Categoria: {self.categoria}')"
   ]
  },
  {
   "cell_type": "code",
   "execution_count": 21,
   "id": "d9e1d4d3",
   "metadata": {},
   "outputs": [],
   "source": [
    "aviao = Aviao('Embraer', 'KC-390', 'Cargueiro Militar')"
   ]
  },
  {
   "cell_type": "code",
   "execution_count": 22,
   "id": "b69e489f",
   "metadata": {},
   "outputs": [
    {
     "name": "stdout",
     "output_type": "stream",
     "text": [
      "Fabricante: Embraer\n",
      "Modelo: KC-390\n",
      "Categoria: Cargueiro Militar\n"
     ]
    }
   ],
   "source": [
    "aviao.ficha()"
   ]
  },
  {
   "cell_type": "code",
   "execution_count": 23,
   "id": "65ebfd4a",
   "metadata": {},
   "outputs": [
    {
     "name": "stdout",
     "output_type": "stream",
     "text": [
      "Voando!\n"
     ]
    }
   ],
   "source": [
    "aviao.movimentar()"
   ]
  },
  {
   "cell_type": "code",
   "execution_count": null,
   "id": "afcbe152",
   "metadata": {},
   "outputs": [],
   "source": []
  }
 ],
 "metadata": {
  "kernelspec": {
   "display_name": "Python 3 (ipykernel)",
   "language": "python",
   "name": "python3"
  },
  "language_info": {
   "codemirror_mode": {
    "name": "ipython",
    "version": 3
   },
   "file_extension": ".py",
   "mimetype": "text/x-python",
   "name": "python",
   "nbconvert_exporter": "python",
   "pygments_lexer": "ipython3",
   "version": "3.8.10"
  }
 },
 "nbformat": 4,
 "nbformat_minor": 5
}
