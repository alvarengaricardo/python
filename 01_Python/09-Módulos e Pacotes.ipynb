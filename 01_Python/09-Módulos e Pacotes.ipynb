{
 "cells": [
  {
   "cell_type": "markdown",
   "id": "51756798",
   "metadata": {},
   "source": [
    "# Módulos e Pacotes"
   ]
  },
  {
   "cell_type": "markdown",
   "id": "4473726d",
   "metadata": {},
   "source": [
    "### www.pypi.org"
   ]
  },
  {
   "cell_type": "code",
   "execution_count": 1,
   "id": "22014558",
   "metadata": {},
   "outputs": [
    {
     "name": "stdout",
     "output_type": "stream",
     "text": [
      "Python 3.8.10\n"
     ]
    }
   ],
   "source": [
    "# pip install <nome do pacote>\n",
    "# no Jupyter Notebook use '!' antes do comando de terminal\n",
    "\n",
    "!py --version"
   ]
  },
  {
   "cell_type": "code",
   "execution_count": 3,
   "id": "6a9c80ab",
   "metadata": {},
   "outputs": [
    {
     "name": "stdout",
     "output_type": "stream",
     "text": [
      "Package               Version\n",
      "--------------------- -----------\n",
      "aiosignal             1.2.0\n",
      "anyio                 3.5.0\n",
      "argon2-cffi           21.3.0\n",
      "argon2-cffi-bindings  21.2.0\n",
      "asttokens             2.0.5\n",
      "attrs                 21.4.0\n",
      "autopep8              1.6.0\n",
      "Babel                 2.9.1\n",
      "backcall              0.2.0\n",
      "beautifulsoup4        4.11.1\n",
      "black                 22.1.0\n",
      "bleach                4.1.0\n",
      "build                 1.0.3\n",
      "certifi               2021.10.8\n",
      "cffi                  1.15.0\n",
      "charset-normalizer    2.0.12\n",
      "click                 8.0.3\n",
      "colorama              0.4.4\n"
     ]
    },
    {
     "name": "stderr",
     "output_type": "stream",
     "text": [
      "\n",
      "[notice] A new release of pip is available: 23.3.1 -> 23.3.2\n",
      "[notice] To update, run: python.exe -m pip install --upgrade pip\n"
     ]
    },
    {
     "name": "stdout",
     "output_type": "stream",
     "text": [
      "commonmark            0.9.1\n",
      "coverage              7.3.2\n",
      "cycler                0.11.0\n",
      "debugpy               1.5.1\n",
      "decorator             5.1.1\n",
      "defusedxml            0.7.1\n",
      "distlib               0.3.5\n",
      "dnspython             2.3.0\n",
      "docutils              0.19\n",
      "entrypoints           0.4\n",
      "et-xmlfile            1.1.0\n",
      "exceptiongroup        1.1.3\n",
      "execnet               2.0.2\n",
      "executing             0.8.2\n",
      "filelock              3.7.1\n",
      "Flask                 2.2.2\n",
      "fonttools             4.29.1\n",
      "frozenlist            1.3.0\n",
      "gdown                 4.7.1\n",
      "generativepy          3.2\n",
      "graphviz              0.20.1\n",
      "grpcio                1.43.0\n",
      "idna                  3.3\n",
      "imbalanced-learn      0.10.1\n",
      "importlib-metadata    4.12.0\n",
      "importlib-resources   5.4.0\n",
      "iniconfig             2.0.0\n",
      "ipykernel             6.9.0\n",
      "ipython               8.0.1\n",
      "ipython-genutils      0.2.0\n",
      "ipywidgets            8.0.4\n",
      "itsdangerous          2.1.2\n",
      "jedi                  0.18.1\n",
      "Jinja2                3.0.3\n",
      "joblib                1.2.0\n",
      "json5                 0.9.6\n",
      "jsonschema            4.4.0\n",
      "jupyter               1.0.0\n",
      "jupyter-client        7.1.2\n",
      "jupyter-console       6.4.4\n",
      "jupyter-core          4.9.1\n",
      "jupyter-server        1.13.5\n",
      "jupyterlab            3.2.9\n",
      "jupyterlab-pygments   0.1.2\n",
      "jupyterlab-server     2.10.3\n",
      "jupyterlab-widgets    3.0.5\n",
      "keyring               23.8.2\n",
      "kiwisolver            1.3.2\n",
      "MarkupSafe            2.1.2\n",
      "matplotlib            3.4.3\n",
      "matplotlib-inline     0.1.3\n",
      "mistune               0.8.4\n",
      "MouseInfo             0.1.3\n",
      "mpmath                1.2.1\n",
      "msgpack               1.0.4\n",
      "multtestlib           2023.4\n",
      "mypy                  0.971\n",
      "mypy-extensions       0.4.3\n",
      "nbclassic             0.4.8\n",
      "nbclient              0.5.11\n",
      "nbconvert             6.4.2\n",
      "nbformat              5.1.3\n",
      "nest-asyncio          1.5.4\n",
      "nose2                 0.14.0\n",
      "notebook              6.5.2\n",
      "notebook_shim         0.2.2\n",
      "numpy                 1.20.3\n",
      "octopus               0.3.5\n",
      "openpyxl              3.0.10\n",
      "pack-ricardoalvarenga 0.0.1\n",
      "packaging             21.3\n",
      "pandas                1.4.3\n",
      "pandocfilters         1.5.0\n",
      "parso                 0.8.3\n",
      "pathspec              0.9.0\n",
      "patsy                 0.5.3\n",
      "pep517                0.13.0\n",
      "pickleshare           0.7.5\n",
      "Pillow                9.0.1\n",
      "pip                   23.3.1\n",
      "pkginfo               1.8.3\n",
      "platformdirs          2.5.0\n",
      "pluggy                1.3.0\n",
      "prometheus-client     0.13.1\n",
      "prompt-toolkit        3.0.28\n",
      "protobuf              3.20.1\n",
      "pure-eval             0.2.2\n",
      "PyAutoGUI             0.9.53\n",
      "pycairo               1.23.0\n",
      "pycodestyle           2.8.0\n",
      "pycparser             2.21\n",
      "PyGetWindow           0.0.9\n",
      "Pygments              2.11.2\n",
      "PyJWT                 2.6.0\n",
      "pymongo               4.3.3\n",
      "PyMsgBox              1.0.9\n",
      "pyparsing             3.0.7\n",
      "pyperclip             1.8.2\n",
      "pyproject_hooks       1.0.0\n",
      "PyRect                0.2.0\n",
      "pyrsistent            0.18.1\n",
      "PyScreeze             0.1.28\n",
      "PySimpleGUI           4.60.3\n",
      "PySocks               1.7.1\n",
      "pytest                7.4.2\n",
      "pytest-xdist          3.3.1\n",
      "python-dateutil       2.8.2\n",
      "pytube                11.0.2\n",
      "pytweening            1.0.4\n",
      "pytz                  2021.3\n",
      "pywhatkit             5.4\n",
      "pywin32               303\n",
      "pywin32-ctypes        0.2.0\n",
      "pywinpty              1.1.6\n",
      "PyYAML                6.0\n",
      "pyzmq                 22.3.0\n",
      "qtconsole             5.4.0\n",
      "QtPy                  2.3.0\n",
      "ray                   1.13.0\n",
      "readme-renderer       36.0\n",
      "requests              2.27.1\n",
      "requests-toolbelt     0.9.1\n",
      "rfc3986               2.0.0\n",
      "ricardoalvarenga      0.0.1\n",
      "rich                  12.5.1\n",
      "scikit-learn          0.24.2\n",
      "scipy                 1.9.0\n",
      "seaborn               0.9.0\n",
      "Send2Trash            1.8.0\n",
      "setuptools            56.0.0\n",
      "six                   1.16.0\n",
      "sniffio               1.2.0\n",
      "soupsieve             2.3.2.post1\n",
      "stack-data            0.2.0\n",
      "statsmodels           0.14.0\n",
      "tarjan                0.2.3.2\n",
      "terminado             0.13.1\n",
      "testpath              0.5.0\n",
      "threadpoolctl         3.1.0\n",
      "toml                  0.10.2\n",
      "tomli                 2.0.1\n",
      "toposort              1.7\n",
      "tornado               6.1\n",
      "tqdm                  4.63.0\n",
      "traitlets             5.1.1\n",
      "twilio                7.16.1\n",
      "twine                 4.0.2\n",
      "typing_extensions     4.1.1\n",
      "unittest-parallel     1.6.1\n",
      "urllib3               1.26.8\n",
      "virtualenv            20.16.2\n",
      "wasm                  1.2\n",
      "wcwidth               0.2.5\n",
      "webencodings          0.5.1\n",
      "websocket-client      1.2.3\n",
      "Werkzeug              2.2.2\n",
      "widgetsnbextension    4.0.5\n",
      "wikipedia             1.4.0\n",
      "z3-solver             4.10.1.0\n",
      "zipp                  3.7.0\n"
     ]
    }
   ],
   "source": [
    "# Quais pacotes estão instalados?\n",
    "\n",
    "!py -m pip list"
   ]
  },
  {
   "cell_type": "code",
   "execution_count": 4,
   "id": "acca4aaf",
   "metadata": {},
   "outputs": [
    {
     "name": "stdout",
     "output_type": "stream",
     "text": [
      "Requirement already satisfied: pip in c:\\users\\ricardo\\appdata\\local\\programs\\python\\python38\\lib\\site-packages (23.3.1)\n",
      "Collecting pip\n",
      "  Downloading pip-23.3.2-py3-none-any.whl.metadata (3.5 kB)\n",
      "Downloading pip-23.3.2-py3-none-any.whl (2.1 MB)\n",
      "   ---------------------------------------- 2.1/2.1 MB 4.1 MB/s eta 0:00:00\n",
      "Installing collected packages: pip\n",
      "  Attempting uninstall: pip\n",
      "    Found existing installation: pip 23.3.1\n",
      "    Uninstalling pip-23.3.1:\n",
      "      Successfully uninstalled pip-23.3.1\n",
      "Successfully installed pip-23.3.2\n"
     ]
    }
   ],
   "source": [
    "# atualizando o pip\n",
    "\n",
    "!py -m pip install --upgrade pip"
   ]
  },
  {
   "cell_type": "code",
   "execution_count": 5,
   "id": "b258ed8f",
   "metadata": {},
   "outputs": [
    {
     "name": "stdout",
     "output_type": "stream",
     "text": [
      "Requirement already satisfied: matplotlib in c:\\users\\ricardo\\appdata\\local\\programs\\python\\python38\\lib\\site-packages (3.4.3)\n",
      "Requirement already satisfied: cycler>=0.10 in c:\\users\\ricardo\\appdata\\local\\programs\\python\\python38\\lib\\site-packages (from matplotlib) (0.11.0)\n",
      "Requirement already satisfied: kiwisolver>=1.0.1 in c:\\users\\ricardo\\appdata\\local\\programs\\python\\python38\\lib\\site-packages (from matplotlib) (1.3.2)\n",
      "Requirement already satisfied: numpy>=1.16 in c:\\users\\ricardo\\appdata\\local\\programs\\python\\python38\\lib\\site-packages (from matplotlib) (1.20.3)\n",
      "Requirement already satisfied: pillow>=6.2.0 in c:\\users\\ricardo\\appdata\\local\\programs\\python\\python38\\lib\\site-packages (from matplotlib) (9.0.1)\n",
      "Requirement already satisfied: pyparsing>=2.2.1 in c:\\users\\ricardo\\appdata\\local\\programs\\python\\python38\\lib\\site-packages (from matplotlib) (3.0.7)\n",
      "Requirement already satisfied: python-dateutil>=2.7 in c:\\users\\ricardo\\appdata\\local\\programs\\python\\python38\\lib\\site-packages (from matplotlib) (2.8.2)\n",
      "Requirement already satisfied: six>=1.5 in c:\\users\\ricardo\\appdata\\local\\programs\\python\\python38\\lib\\site-packages (from python-dateutil>=2.7->matplotlib) (1.16.0)\n"
     ]
    }
   ],
   "source": [
    "# instalando matplotlib\n",
    "\n",
    "!py -m pip install matplotlib"
   ]
  },
  {
   "cell_type": "code",
   "execution_count": 6,
   "id": "7e22da7f",
   "metadata": {},
   "outputs": [
    {
     "name": "stdout",
     "output_type": "stream",
     "text": [
      "Name: matplotlib\n",
      "Version: 3.4.3\n",
      "Summary: Python plotting package\n",
      "Home-page: https://matplotlib.org\n",
      "Author: John D. Hunter, Michael Droettboom\n",
      "Author-email: matplotlib-users@python.org\n",
      "License: PSF\n",
      "Location: c:\\users\\ricardo\\appdata\\local\\programs\\python\\python38\\lib\\site-packages\n",
      "Requires: cycler, kiwisolver, numpy, pillow, pyparsing, python-dateutil\n",
      "Required-by: seaborn\n"
     ]
    }
   ],
   "source": [
    "# informações sobre o pacote\n",
    "\n",
    "!py -m pip show matplotlib"
   ]
  },
  {
   "cell_type": "code",
   "execution_count": 9,
   "id": "d50cca96",
   "metadata": {},
   "outputs": [
    {
     "name": "stdout",
     "output_type": "stream",
     "text": [
      "Name: multtestlib\n",
      "Version: 2023.4\n",
      "Summary: Library for executing unit tests, in Python, using parallel processing.\n",
      "Home-page: \n",
      "Author: \n",
      "Author-email: Ricardo Alvarenga <alvarenga.r.ricardo@gmail.com>\n",
      "License: Copyright (c) 2022 Ricardo Ribeiro de Alvarenga\n",
      "        \n",
      "         Permission is hereby granted, free of charge, to any person obtaining a copy\n",
      "         of this software and associated documentation files (the \"Software\"), to deal\n",
      "         in the Software without restriction, including without limitation the rights\n",
      "         to use, copy, modify, merge, publish, distribute, sublicense, and/or sell\n",
      "         copies of the Software, and to permit persons to whom the Software is\n",
      "         furnished to do so, subject to the following conditions:\n",
      "        \n",
      "         The above copyright notice and this permission notice shall be included in\n",
      "         all copies or substantial portions of the Software.\n",
      "        \n",
      "         THE SOFTWARE IS PROVIDED \"AS IS\", WITHOUT WARRANTY OF ANY KIND, EXPRESS OR\n",
      "         IMPLIED, INCLUDING BUT NOT LIMITED TO THE WARRANTIES OF MERCHANTABILITY,\n",
      "         FITNESS FOR A PARTICULAR PURPOSE AND NONINFRINGEMENT. IN NO EVENT SHALL THE\n",
      "         AUTHORS OR COPYRIGHT HOLDERS BE LIABLE FOR ANY CLAIM, DAMAGES OR OTHER\n",
      "         LIABILITY, WHETHER IN AN ACTION OF CONTRACT, TORT OR OTHERWISE, ARISING FROM,\n",
      "         OUT OF OR IN CONNECTION WITH THE SOFTWARE OR THE USE OR OTHER DEALINGS IN\n",
      "         THE SOFTWARE.\n",
      "Location: c:\\users\\ricardo\\appdata\\local\\programs\\python\\python38\\lib\\site-packages\n",
      "Requires: \n",
      "Required-by: \n"
     ]
    }
   ],
   "source": [
    "!py -m pip show multtestlib"
   ]
  },
  {
   "cell_type": "code",
   "execution_count": 10,
   "id": "d66d90d0",
   "metadata": {},
   "outputs": [],
   "source": [
    "# desistalar um pacote\n",
    "\n",
    "# py -m pip uninstall '<pacote>'"
   ]
  },
  {
   "cell_type": "markdown",
   "id": "1c2837ed",
   "metadata": {},
   "source": [
    "##### Importando pacotes e funções"
   ]
  },
  {
   "cell_type": "code",
   "execution_count": 11,
   "id": "0099a7b3",
   "metadata": {},
   "outputs": [
    {
     "name": "stdout",
     "output_type": "stream",
     "text": [
      "9.0\n"
     ]
    }
   ],
   "source": [
    "import math\n",
    "\n",
    "print(math.sqrt(81))"
   ]
  },
  {
   "cell_type": "code",
   "execution_count": 12,
   "id": "c4c3ef70",
   "metadata": {},
   "outputs": [
    {
     "name": "stdout",
     "output_type": "stream",
     "text": [
      "9.0\n"
     ]
    }
   ],
   "source": [
    "from math import sqrt\n",
    "\n",
    "print(sqrt(81))"
   ]
  },
  {
   "cell_type": "code",
   "execution_count": 13,
   "id": "b67ca25a",
   "metadata": {},
   "outputs": [
    {
     "name": "stdout",
     "output_type": "stream",
     "text": [
      "9.0\n"
     ]
    }
   ],
   "source": [
    "# alternativa NÃO recomendada por risco de conflito entre funções:\n",
    "\n",
    "from math import *\n",
    "\n",
    "print(sqrt(81))"
   ]
  },
  {
   "cell_type": "code",
   "execution_count": 15,
   "id": "b9950024",
   "metadata": {},
   "outputs": [
    {
     "name": "stdout",
     "output_type": "stream",
     "text": [
      "2.23606797749979\n"
     ]
    }
   ],
   "source": [
    "# usando alias\n",
    "\n",
    "import math as m\n",
    "\n",
    "print(m.sqrt(5))"
   ]
  },
  {
   "cell_type": "markdown",
   "id": "6f505461",
   "metadata": {},
   "source": [
    "##### main()"
   ]
  },
  {
   "cell_type": "markdown",
   "id": "3eee3687",
   "metadata": {},
   "source": [
    "if __name__ == \"__main__\":\n",
    "\n",
    "A expressão if __name__ == \"__main__\": em Python é uma construção comumente usada para controlar a execução de código quando um script Python é executado. Essa construção é especialmente útil quando você tem um script que pode ser usado tanto como um programa independente quanto como um módulo importado por outro script.\n",
    "\n",
    "Aqui está uma explicação do funcionamento dessa construção:\n",
    "\n",
    "* __name__ é uma variável especial: Em Python, __name__ é uma variável que é definida automaticamente pelo interpretador. Quando um script Python é executado, o Python atribui automaticamente à variável __name__ o valor \"main\" se o script estiver sendo executado como o programa principal.\n",
    "\n",
    "* if __name__ == \"__main__\": como guarda: A expressão if __name__ == \"__main__\": é usada como uma guarda para determinar se o script está sendo executado como o programa principal ou se está sendo importado como um módulo em outro script.\n",
    "\n",
    "* Quando é verdadeiro: Se a expressão for verdadeira, isso significa que o script está sendo executado como o programa principal. Nesse caso, o bloco de código dentro do if __name__ == \"__main__\": será executado.\n",
    "\n",
    "* Quando é falso (importação como módulo): Se a expressão for falsa, isso significa que o script está sendo importado como um módulo em outro script. Nesse caso, o bloco de código dentro do if __name__ == \"__main__\": não será executado. Isso evita que o código destinado apenas para a execução do script principal seja executado quando o script é importado como um módulo."
   ]
  },
  {
   "cell_type": "code",
   "execution_count": null,
   "id": "1eef2646",
   "metadata": {},
   "outputs": [],
   "source": []
  }
 ],
 "metadata": {
  "kernelspec": {
   "display_name": "Python 3 (ipykernel)",
   "language": "python",
   "name": "python3"
  },
  "language_info": {
   "codemirror_mode": {
    "name": "ipython",
    "version": 3
   },
   "file_extension": ".py",
   "mimetype": "text/x-python",
   "name": "python",
   "nbconvert_exporter": "python",
   "pygments_lexer": "ipython3",
   "version": "3.8.10"
  }
 },
 "nbformat": 4,
 "nbformat_minor": 5
}
