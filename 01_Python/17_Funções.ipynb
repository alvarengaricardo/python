{
 "cells": [
  {
   "cell_type": "markdown",
   "id": "bade065a",
   "metadata": {},
   "source": [
    "# Funções"
   ]
  },
  {
   "cell_type": "markdown",
   "id": "cfedfb6e",
   "metadata": {},
   "source": [
    "**Funções em Linguagens de Programação:**\n",
    "\n",
    "Uma função em linguagens de programação é um bloco de código autônomo que realiza uma tarefa específica. As funções são utilizadas para organizar o código em partes menores, reutilizáveis e mais gerenciáveis. Elas recebem entradas, realizam operações e podem retornar resultados. Além disso, as funções ajudam na modularização e na promoção de um código mais legível e eficiente.\n",
    "\n",
    "**Vantagens do Uso de Funções:**\n",
    "\n",
    "1. **Reutilização de Código:** As funções permitem encapsular uma lógica específica, tornando-a fácil de ser reutilizada em diferentes partes do programa. Isso promove a modularidade e reduz a duplicação de código.\n",
    "\n",
    "2. **Legibilidade e Manutenibilidade:** Ao dividir o código em funções mais pequenas e focadas, o código geral torna-se mais legível e fácil de entender. Isso facilita a manutenção e a resolução de problemas.\n",
    "\n",
    "3. **Abstração:** As funções fornecem uma camada de abstração, permitindo que os desenvolvedores interajam com o código sem precisar entender todos os detalhes da implementação interna.\n",
    "\n",
    "4. **Organização:** Funções ajudam na organização lógica do código, dividindo-o em unidades mais gerenciáveis. Isso facilita a navegação e compreensão da estrutura geral do programa.\n",
    "\n",
    "5. **Testabilidade:** Funções independentes são mais fáceis de testar, pois podem ser isoladas para verificar se produzem os resultados esperados.\n",
    "\n",
    "**Desvantagens do Uso de Funções:**\n",
    "\n",
    "1. **Overhead:** Chamar uma função adiciona um certo overhead ao programa devido à necessidade de empilhar e desempilhar informações. Em alguns casos, a chamada excessiva de funções pode impactar o desempenho.\n",
    "\n",
    "2. **Escopo e Variáveis Globais:** O uso excessivo de variáveis globais ou compartilhadas entre funções pode tornar o controle do escopo desafiador, levando a problemas de legibilidade e manutenibilidade.\n",
    "\n",
    "3. **Complexidade em Excesso:** Uma proliferação excessiva de funções pequenas pode tornar o código difícil de acompanhar, especialmente se as funções são muito especializadas.\n",
    "\n",
    "4. **Dificuldades na Depuração:** Quando ocorre um erro dentro de uma função, pode ser desafiador rastrear a origem do problema, especialmente em programas grandes.\n",
    "\n",
    "5. **Possível Perda de Desempenho:** Em algumas situações, a decomposição excessiva do código em funções pode resultar em chamadas excessivas, o que pode impactar o desempenho, embora modernos compiladores otimizem muitos desses casos."
   ]
  },
  {
   "cell_type": "code",
   "execution_count": 1,
   "id": "c1e6ada9",
   "metadata": {},
   "outputs": [
    {
     "data": {
      "text/plain": [
       "'\\ndef <nome_função>([argumentos]):\\n    <instruções>\\n    return <retorno>\\n'"
      ]
     },
     "execution_count": 1,
     "metadata": {},
     "output_type": "execute_result"
    }
   ],
   "source": [
    "# Criação de uma função\n",
    "\n",
    "'''\n",
    "def <nome_função>([argumentos]):\n",
    "    <instruções>\n",
    "    return <retorno>\n",
    "'''"
   ]
  },
  {
   "cell_type": "code",
   "execution_count": 2,
   "id": "7d383f0f",
   "metadata": {},
   "outputs": [],
   "source": [
    "def mensagem():\n",
    "    print('Revisão de Python')\n",
    "    print('Tópico: Funções')"
   ]
  },
  {
   "cell_type": "code",
   "execution_count": 3,
   "id": "612c4b79",
   "metadata": {},
   "outputs": [
    {
     "name": "stdout",
     "output_type": "stream",
     "text": [
      "Revisão de Python\n",
      "Tópico: Funções\n"
     ]
    }
   ],
   "source": [
    "mensagem()"
   ]
  },
  {
   "cell_type": "code",
   "execution_count": 4,
   "id": "49d8c66e",
   "metadata": {},
   "outputs": [],
   "source": [
    "def somar(a, b):\n",
    "    print(a + b)"
   ]
  },
  {
   "cell_type": "code",
   "execution_count": 5,
   "id": "93e215b4",
   "metadata": {},
   "outputs": [
    {
     "name": "stdout",
     "output_type": "stream",
     "text": [
      "4\n"
     ]
    }
   ],
   "source": [
    "somar(1, 3)"
   ]
  },
  {
   "cell_type": "code",
   "execution_count": 6,
   "id": "5be058d2",
   "metadata": {},
   "outputs": [],
   "source": [
    "def multiplicar(a, b):\n",
    "    return a * b"
   ]
  },
  {
   "cell_type": "code",
   "execution_count": 7,
   "id": "eca2d141",
   "metadata": {},
   "outputs": [
    {
     "data": {
      "text/plain": [
       "15"
      ]
     },
     "execution_count": 7,
     "metadata": {},
     "output_type": "execute_result"
    }
   ],
   "source": [
    "resultado = multiplicar(3, 5)\n",
    "resultado"
   ]
  },
  {
   "cell_type": "code",
   "execution_count": 8,
   "id": "bb823453",
   "metadata": {},
   "outputs": [],
   "source": [
    "def dividir(a, b):\n",
    "    if(b != 0):\n",
    "        return a / b\n",
    "    else:\n",
    "        return 'Divisão por zero.'"
   ]
  },
  {
   "cell_type": "code",
   "execution_count": 9,
   "id": "c5d72096",
   "metadata": {},
   "outputs": [
    {
     "data": {
      "text/plain": [
       "2.5"
      ]
     },
     "execution_count": 9,
     "metadata": {},
     "output_type": "execute_result"
    }
   ],
   "source": [
    "dividir(5, 2)"
   ]
  },
  {
   "cell_type": "code",
   "execution_count": 10,
   "id": "c8218cff",
   "metadata": {},
   "outputs": [
    {
     "data": {
      "text/plain": [
       "'Divisão por zero.'"
      ]
     },
     "execution_count": 10,
     "metadata": {},
     "output_type": "execute_result"
    }
   ],
   "source": [
    "dividir(7, 0)"
   ]
  },
  {
   "cell_type": "code",
   "execution_count": 11,
   "id": "27055d11",
   "metadata": {},
   "outputs": [],
   "source": [
    "def quadrado(val):\n",
    "    quadrados = []\n",
    "    for x in val:\n",
    "        quadrados.append(x ** 2)\n",
    "    return quadrados"
   ]
  },
  {
   "cell_type": "code",
   "execution_count": 12,
   "id": "b3c3f846",
   "metadata": {},
   "outputs": [
    {
     "data": {
      "text/plain": [
       "[1, 4, 9, 25, 49, 121, 169, 289, 361]"
      ]
     },
     "execution_count": 12,
     "metadata": {},
     "output_type": "execute_result"
    }
   ],
   "source": [
    "valores = [1, 2, 3, 5, 7, 11, 13, 17, 19]\n",
    "quadrado(valores)"
   ]
  },
  {
   "cell_type": "markdown",
   "id": "40df2837",
   "metadata": {},
   "source": [
    "##### *args"
   ]
  },
  {
   "cell_type": "code",
   "execution_count": 13,
   "id": "79ac3f8e",
   "metadata": {},
   "outputs": [],
   "source": [
    "def somar_numeros(*args):\n",
    "    total = 0\n",
    "    for num in args:\n",
    "        total += num\n",
    "    return total"
   ]
  },
  {
   "cell_type": "markdown",
   "id": "3c4e66b6",
   "metadata": {},
   "source": [
    "Exemplo de chamada da função com diferentes números de argumentos:"
   ]
  },
  {
   "cell_type": "code",
   "execution_count": 14,
   "id": "f3ca38d4",
   "metadata": {},
   "outputs": [
    {
     "data": {
      "text/plain": [
       "6"
      ]
     },
     "execution_count": 14,
     "metadata": {},
     "output_type": "execute_result"
    }
   ],
   "source": [
    "resultado1 = somar_numeros(1, 2, 3)\n",
    "resultado1"
   ]
  },
  {
   "cell_type": "code",
   "execution_count": 15,
   "id": "366a3c6a",
   "metadata": {},
   "outputs": [
    {
     "data": {
      "text/plain": [
       "150"
      ]
     },
     "execution_count": 15,
     "metadata": {},
     "output_type": "execute_result"
    }
   ],
   "source": [
    "resultado2 = somar_numeros(10, 20, 30, 40, 50)\n",
    "resultado2"
   ]
  },
  {
   "cell_type": "markdown",
   "id": "06885d66",
   "metadata": {},
   "source": [
    "##### **kwargs"
   ]
  },
  {
   "cell_type": "code",
   "execution_count": 16,
   "id": "c16c532c",
   "metadata": {},
   "outputs": [],
   "source": [
    "def exibir_info(**kwargs):\n",
    "    if 'nome' in kwargs and 'idade' in kwargs:\n",
    "        nome = kwargs['nome']\n",
    "        idade = kwargs['idade']\n",
    "        print(f\"Nome: {nome}, Idade: {idade}\")\n",
    "    else:\n",
    "        print(\"Nome e/ou idade não especificados.\")"
   ]
  },
  {
   "cell_type": "code",
   "execution_count": 17,
   "id": "1f50dab6",
   "metadata": {},
   "outputs": [
    {
     "name": "stdout",
     "output_type": "stream",
     "text": [
      "Nome: João, Idade: 25\n"
     ]
    }
   ],
   "source": [
    "exibir_info(nome=\"João\", idade=25)"
   ]
  },
  {
   "cell_type": "code",
   "execution_count": 18,
   "id": "fb7aef52",
   "metadata": {},
   "outputs": [
    {
     "name": "stdout",
     "output_type": "stream",
     "text": [
      "Nome: João, Idade: 25\n"
     ]
    }
   ],
   "source": [
    "exibir_info(idade=25, nome=\"João\")"
   ]
  },
  {
   "cell_type": "code",
   "execution_count": 19,
   "id": "c7d31c78",
   "metadata": {},
   "outputs": [
    {
     "name": "stdout",
     "output_type": "stream",
     "text": [
      "Nome e/ou idade não especificados.\n"
     ]
    }
   ],
   "source": [
    "exibir_info(nome=\"Maria\", profissao=\"Engenheira\")"
   ]
  },
  {
   "cell_type": "code",
   "execution_count": 20,
   "id": "6239032b",
   "metadata": {},
   "outputs": [
    {
     "name": "stdout",
     "output_type": "stream",
     "text": [
      "Nome e/ou idade não especificados.\n"
     ]
    }
   ],
   "source": [
    "exibir_info(profissao=\"Professor\")"
   ]
  },
  {
   "cell_type": "code",
   "execution_count": 21,
   "id": "c7062b03",
   "metadata": {},
   "outputs": [
    {
     "name": "stdout",
     "output_type": "stream",
     "text": [
      "Nome e/ou idade não especificados.\n"
     ]
    }
   ],
   "source": [
    "exibir_info()"
   ]
  },
  {
   "cell_type": "code",
   "execution_count": null,
   "id": "3e73255e",
   "metadata": {},
   "outputs": [],
   "source": []
  }
 ],
 "metadata": {
  "kernelspec": {
   "display_name": "Python 3 (ipykernel)",
   "language": "python",
   "name": "python3"
  },
  "language_info": {
   "codemirror_mode": {
    "name": "ipython",
    "version": 3
   },
   "file_extension": ".py",
   "mimetype": "text/x-python",
   "name": "python",
   "nbconvert_exporter": "python",
   "pygments_lexer": "ipython3",
   "version": "3.8.10"
  }
 },
 "nbformat": 4,
 "nbformat_minor": 5
}
