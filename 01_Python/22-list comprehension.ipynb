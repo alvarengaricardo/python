{
 "cells": [
  {
   "cell_type": "markdown",
   "id": "9944fb98",
   "metadata": {},
   "source": [
    "# List Comprehension"
   ]
  },
  {
   "cell_type": "markdown",
   "id": "408e36dd",
   "metadata": {},
   "source": [
    "Permite criar e processar listas de forma limpa e fácil."
   ]
  },
  {
   "cell_type": "markdown",
   "id": "2aeff04f",
   "metadata": {},
   "source": [
    "sintaxe: [expressão for item in lista]"
   ]
  },
  {
   "cell_type": "markdown",
   "id": "ff86cc43",
   "metadata": {},
   "source": [
    "Usando map, list e lambda para gerar o quadrado dos elementos de uma lista:"
   ]
  },
  {
   "cell_type": "code",
   "execution_count": 1,
   "id": "ee79606e",
   "metadata": {},
   "outputs": [],
   "source": [
    "numeros = [1, 2, 4, 7, 9, 10, 12, 17, 21, 42]"
   ]
  },
  {
   "cell_type": "code",
   "execution_count": 2,
   "id": "e9d55d94",
   "metadata": {},
   "outputs": [
    {
     "data": {
      "text/plain": [
       "[1, 4, 16, 49, 81, 100, 144, 289, 441, 1764]"
      ]
     },
     "execution_count": 2,
     "metadata": {},
     "output_type": "execute_result"
    }
   ],
   "source": [
    "quadrados = list(map(lambda num: num**2, numeros))\n",
    "quadrados"
   ]
  },
  {
   "cell_type": "markdown",
   "id": "689d0e15",
   "metadata": {},
   "source": [
    "Usando List Comprehension:"
   ]
  },
  {
   "cell_type": "code",
   "execution_count": 3,
   "id": "5619b8f8",
   "metadata": {},
   "outputs": [
    {
     "data": {
      "text/plain": [
       "[1, 4, 16, 49, 81, 100, 144, 289, 441, 1764]"
      ]
     },
     "execution_count": 3,
     "metadata": {},
     "output_type": "execute_result"
    }
   ],
   "source": [
    "quadrados_lista = [num**2 for num in numeros]\n",
    "quadrados_lista"
   ]
  },
  {
   "cell_type": "markdown",
   "id": "3825f051",
   "metadata": {},
   "source": [
    "Criar uma lista de numeros pares de 0 a 10:"
   ]
  },
  {
   "cell_type": "code",
   "execution_count": 4,
   "id": "62b8062a",
   "metadata": {},
   "outputs": [
    {
     "data": {
      "text/plain": [
       "[0, 2, 4, 6, 8, 10]"
      ]
     },
     "execution_count": 4,
     "metadata": {},
     "output_type": "execute_result"
    }
   ],
   "source": [
    "pares = [num for num in range(11) if num % 2 == 0]\n",
    "pares"
   ]
  },
  {
   "cell_type": "code",
   "execution_count": 5,
   "id": "b9b2240a",
   "metadata": {},
   "outputs": [
    {
     "data": {
      "text/plain": [
       "[0, 7, 14, 21, 28, 35, 42, 49, 56, 63, 70]"
      ]
     },
     "execution_count": 5,
     "metadata": {},
     "output_type": "execute_result"
    }
   ],
   "source": [
    "tabuada_7 = [n * 7 for n in range(11)]\n",
    "tabuada_7"
   ]
  },
  {
   "cell_type": "code",
   "execution_count": 6,
   "id": "73c82080",
   "metadata": {},
   "outputs": [],
   "source": [
    "frase = 'Lorem ipsum dolor sit amet, consectetur adipiscing elit. Nam eget neque sed eros sollicitudin rutrum.'\n",
    "vogais = ['a', 'e', 'i', 'o', 'u']"
   ]
  },
  {
   "cell_type": "code",
   "execution_count": 7,
   "id": "1e9fa943",
   "metadata": {},
   "outputs": [
    {
     "data": {
      "text/plain": [
       "35"
      ]
     },
     "execution_count": 7,
     "metadata": {},
     "output_type": "execute_result"
    }
   ],
   "source": [
    "lista_vogais = [v for v in frase if v in vogais]\n",
    "total = len(lista_vogais)\n",
    "total"
   ]
  },
  {
   "cell_type": "code",
   "execution_count": 8,
   "id": "028fb222",
   "metadata": {},
   "outputs": [
    {
     "name": "stdout",
     "output_type": "stream",
     "text": [
      "['o', 'e', 'i', 'u', 'o', 'o', 'i', 'a', 'e', 'o', 'e', 'e', 'u', 'a', 'i', 'i', 'i', 'e', 'i', 'a', 'e', 'e', 'e', 'u', 'e', 'e', 'e', 'o', 'o', 'i', 'i', 'u', 'i', 'u', 'u']\n"
     ]
    }
   ],
   "source": [
    "print(lista_vogais)"
   ]
  },
  {
   "cell_type": "markdown",
   "id": "8ca7bdfb",
   "metadata": {},
   "source": [
    "Operação distributiva entre duas listas:"
   ]
  },
  {
   "cell_type": "code",
   "execution_count": 9,
   "id": "01c411de",
   "metadata": {},
   "outputs": [
    {
     "data": {
      "text/plain": [
       "[20, 40, 60, 30, 60, 90, 50, 100, 150]"
      ]
     },
     "execution_count": 9,
     "metadata": {},
     "output_type": "execute_result"
    }
   ],
   "source": [
    "distributiva = [k *m for k in [2, 3, 5] for m in [10, 20, 30]]\n",
    "distributiva"
   ]
  },
  {
   "cell_type": "code",
   "execution_count": null,
   "id": "c3dfa435",
   "metadata": {},
   "outputs": [],
   "source": []
  }
 ],
 "metadata": {
  "kernelspec": {
   "display_name": "Python 3 (ipykernel)",
   "language": "python",
   "name": "python3"
  },
  "language_info": {
   "codemirror_mode": {
    "name": "ipython",
    "version": 3
   },
   "file_extension": ".py",
   "mimetype": "text/x-python",
   "name": "python",
   "nbconvert_exporter": "python",
   "pygments_lexer": "ipython3",
   "version": "3.8.10"
  }
 },
 "nbformat": 4,
 "nbformat_minor": 5
}
