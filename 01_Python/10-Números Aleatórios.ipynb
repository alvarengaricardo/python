{
 "cells": [
  {
   "cell_type": "markdown",
   "id": "bd0aa493",
   "metadata": {},
   "source": [
    "# Números Aleatórios"
   ]
  },
  {
   "cell_type": "code",
   "execution_count": 1,
   "id": "1b3c0069",
   "metadata": {},
   "outputs": [],
   "source": [
    "import random as rnd"
   ]
  },
  {
   "cell_type": "code",
   "execution_count": 2,
   "id": "f1f14c78",
   "metadata": {},
   "outputs": [
    {
     "data": {
      "text/plain": [
       "5"
      ]
     },
     "execution_count": 2,
     "metadata": {},
     "output_type": "execute_result"
    }
   ],
   "source": [
    "valor = rnd.randint(1, 20)\n",
    "valor"
   ]
  },
  {
   "cell_type": "code",
   "execution_count": 3,
   "id": "f4c1550f",
   "metadata": {},
   "outputs": [
    {
     "name": "stdout",
     "output_type": "stream",
     "text": [
      "Número: 42\n",
      "Número: 18\n",
      "Número: 16\n",
      "Número: 9\n",
      "Número: 11\n"
     ]
    }
   ],
   "source": [
    "for contador in range(5):\n",
    "    numero = rnd.randint(1, 50)\n",
    "    print(f'Número: {numero}')"
   ]
  },
  {
   "cell_type": "code",
   "execution_count": 4,
   "id": "931b26d1",
   "metadata": {},
   "outputs": [
    {
     "name": "stdout",
     "output_type": "stream",
     "text": [
      "0.2749380251552398\n",
      "0.27\n"
     ]
    }
   ],
   "source": [
    "valor = rnd.random() # gera um valor entre 0 e 1\n",
    "print(valor)\n",
    "print(f'{valor:.2f}')"
   ]
  },
  {
   "cell_type": "code",
   "execution_count": 5,
   "id": "0253bd12",
   "metadata": {},
   "outputs": [
    {
     "name": "stdout",
     "output_type": "stream",
     "text": [
      "7.20\n"
     ]
    }
   ],
   "source": [
    "# numero de ponto flutuante, entre 0 e 10\n",
    "valor = rnd.random()\n",
    "valor *= 10\n",
    "print(f'{valor:.2f}')"
   ]
  },
  {
   "cell_type": "code",
   "execution_count": 6,
   "id": "bd03c1c7",
   "metadata": {},
   "outputs": [
    {
     "data": {
      "text/plain": [
       "8.17"
      ]
     },
     "execution_count": 6,
     "metadata": {},
     "output_type": "execute_result"
    }
   ],
   "source": [
    "# numero de ponto flutuante, entre 0 e 10, alternativa\n",
    "valor = rnd.random()\n",
    "valor = round(valor * 10, 2)\n",
    "valor"
   ]
  },
  {
   "cell_type": "code",
   "execution_count": 7,
   "id": "a5468fbc",
   "metadata": {},
   "outputs": [
    {
     "data": {
      "text/plain": [
       "41.38462654992386"
      ]
     },
     "execution_count": 7,
     "metadata": {},
     "output_type": "execute_result"
    }
   ],
   "source": [
    "# gera um numero flutuante dentro de faixa especificada\n",
    "valor = rnd.uniform(1, 100)\n",
    "valor"
   ]
  },
  {
   "cell_type": "code",
   "execution_count": 8,
   "id": "32344eed",
   "metadata": {},
   "outputs": [
    {
     "data": {
      "text/plain": [
       "'d'"
      ]
     },
     "execution_count": 8,
     "metadata": {},
     "output_type": "execute_result"
    }
   ],
   "source": [
    "# sorteia uma lista\n",
    "lista = ['a', 'b', 'c', 'd', 'e']\n",
    "sorteado = rnd.choice(lista)\n",
    "sorteado"
   ]
  },
  {
   "cell_type": "code",
   "execution_count": 9,
   "id": "3113eb95",
   "metadata": {},
   "outputs": [
    {
     "data": {
      "text/plain": [
       "['c', 'b', 'd']"
      ]
     },
     "execution_count": 9,
     "metadata": {},
     "output_type": "execute_result"
    }
   ],
   "source": [
    "# gera uma amostragem a partir de uma lista\n",
    "amostra = rnd.sample(lista, 3)\n",
    "amostra"
   ]
  },
  {
   "cell_type": "code",
   "execution_count": 10,
   "id": "673139dd",
   "metadata": {},
   "outputs": [
    {
     "name": "stdout",
     "output_type": "stream",
     "text": [
      "['a', 'b', 'c', 'd', 'e']\n",
      "['b', 'e', 'a', 'd', 'c']\n"
     ]
    }
   ],
   "source": [
    "# embaralhar lista\n",
    "lista = ['a', 'b', 'c', 'd', 'e']\n",
    "print(lista)\n",
    "rnd.shuffle(lista)\n",
    "print(lista)"
   ]
  },
  {
   "cell_type": "code",
   "execution_count": null,
   "id": "49882ffe",
   "metadata": {},
   "outputs": [],
   "source": []
  }
 ],
 "metadata": {
  "kernelspec": {
   "display_name": "Python 3 (ipykernel)",
   "language": "python",
   "name": "python3"
  },
  "language_info": {
   "codemirror_mode": {
    "name": "ipython",
    "version": 3
   },
   "file_extension": ".py",
   "mimetype": "text/x-python",
   "name": "python",
   "nbconvert_exporter": "python",
   "pygments_lexer": "ipython3",
   "version": "3.8.10"
  }
 },
 "nbformat": 4,
 "nbformat_minor": 5
}
