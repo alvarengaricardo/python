{
 "cells": [
  {
   "cell_type": "markdown",
   "id": "131a9848",
   "metadata": {},
   "source": [
    "# Matemática"
   ]
  },
  {
   "cell_type": "markdown",
   "id": "b9ec408a",
   "metadata": {},
   "source": [
    "##### built-in"
   ]
  },
  {
   "cell_type": "code",
   "execution_count": 1,
   "id": "b23352ff",
   "metadata": {},
   "outputs": [],
   "source": [
    "valores = [5, 7, 2, 3, 7, 6, 3, 5, 1, 0, 9, 2]"
   ]
  },
  {
   "cell_type": "code",
   "execution_count": 2,
   "id": "5c0981fe",
   "metadata": {},
   "outputs": [
    {
     "data": {
      "text/plain": [
       "9"
      ]
     },
     "execution_count": 2,
     "metadata": {},
     "output_type": "execute_result"
    }
   ],
   "source": [
    "max(valores)"
   ]
  },
  {
   "cell_type": "code",
   "execution_count": 3,
   "id": "91b70350",
   "metadata": {},
   "outputs": [
    {
     "data": {
      "text/plain": [
       "0"
      ]
     },
     "execution_count": 3,
     "metadata": {},
     "output_type": "execute_result"
    }
   ],
   "source": [
    "min(valores)"
   ]
  },
  {
   "cell_type": "code",
   "execution_count": 4,
   "id": "0c9d6ba1",
   "metadata": {},
   "outputs": [],
   "source": [
    "a = -5\n",
    "b = 3\n",
    "c = 2.8756325145791"
   ]
  },
  {
   "cell_type": "code",
   "execution_count": 5,
   "id": "41cf10ba",
   "metadata": {},
   "outputs": [
    {
     "data": {
      "text/plain": [
       "5"
      ]
     },
     "execution_count": 5,
     "metadata": {},
     "output_type": "execute_result"
    }
   ],
   "source": [
    "abs(a)"
   ]
  },
  {
   "cell_type": "code",
   "execution_count": 6,
   "id": "332fa9c3",
   "metadata": {},
   "outputs": [
    {
     "data": {
      "text/plain": [
       "3"
      ]
     },
     "execution_count": 6,
     "metadata": {},
     "output_type": "execute_result"
    }
   ],
   "source": [
    "abs(b)"
   ]
  },
  {
   "cell_type": "code",
   "execution_count": 7,
   "id": "181b16a0",
   "metadata": {},
   "outputs": [
    {
     "data": {
      "text/plain": [
       "-125"
      ]
     },
     "execution_count": 7,
     "metadata": {},
     "output_type": "execute_result"
    }
   ],
   "source": [
    "pow(a, b)"
   ]
  },
  {
   "cell_type": "code",
   "execution_count": 8,
   "id": "405fbe44",
   "metadata": {},
   "outputs": [
    {
     "data": {
      "text/plain": [
       "2.876"
      ]
     },
     "execution_count": 8,
     "metadata": {},
     "output_type": "execute_result"
    }
   ],
   "source": [
    "round(c, 3)"
   ]
  },
  {
   "cell_type": "markdown",
   "id": "57997247",
   "metadata": {},
   "source": [
    "##### Módulo math\n",
    "\n",
    "https://docs.python.org/3/library/math.html"
   ]
  },
  {
   "cell_type": "code",
   "execution_count": 9,
   "id": "c2b6f7aa",
   "metadata": {},
   "outputs": [],
   "source": [
    "import math"
   ]
  },
  {
   "cell_type": "code",
   "execution_count": 10,
   "id": "5c9dee61",
   "metadata": {},
   "outputs": [
    {
     "data": {
      "text/plain": [
       "3.141592653589793"
      ]
     },
     "execution_count": 10,
     "metadata": {},
     "output_type": "execute_result"
    }
   ],
   "source": [
    "math.pi"
   ]
  },
  {
   "cell_type": "code",
   "execution_count": 11,
   "id": "e0c80084",
   "metadata": {},
   "outputs": [],
   "source": [
    "x = 8\n",
    "y = 100"
   ]
  },
  {
   "cell_type": "code",
   "execution_count": 12,
   "id": "0f4bbf84",
   "metadata": {},
   "outputs": [
    {
     "data": {
      "text/plain": [
       "2.8284271247461903"
      ]
     },
     "execution_count": 12,
     "metadata": {},
     "output_type": "execute_result"
    }
   ],
   "source": [
    "raiz = math.sqrt(x)\n",
    "raiz"
   ]
  },
  {
   "cell_type": "code",
   "execution_count": 13,
   "id": "63b9b376",
   "metadata": {},
   "outputs": [
    {
     "data": {
      "text/plain": [
       "3"
      ]
     },
     "execution_count": 13,
     "metadata": {},
     "output_type": "execute_result"
    }
   ],
   "source": [
    "math.ceil(raiz)"
   ]
  },
  {
   "cell_type": "code",
   "execution_count": 14,
   "id": "7283a374",
   "metadata": {},
   "outputs": [
    {
     "data": {
      "text/plain": [
       "2"
      ]
     },
     "execution_count": 14,
     "metadata": {},
     "output_type": "execute_result"
    }
   ],
   "source": [
    "math.floor(raiz)"
   ]
  },
  {
   "cell_type": "code",
   "execution_count": 15,
   "id": "8855b12c",
   "metadata": {},
   "outputs": [
    {
     "name": "stdout",
     "output_type": "stream",
     "text": [
      "2.82843\n"
     ]
    }
   ],
   "source": [
    "print(round(raiz, 5))"
   ]
  },
  {
   "cell_type": "code",
   "execution_count": 16,
   "id": "9347b557",
   "metadata": {},
   "outputs": [
    {
     "data": {
      "text/plain": [
       "2.0"
      ]
     },
     "execution_count": 16,
     "metadata": {},
     "output_type": "execute_result"
    }
   ],
   "source": [
    "logaritmo = math.log10(y)\n",
    "logaritmo"
   ]
  },
  {
   "cell_type": "code",
   "execution_count": 17,
   "id": "5395662c",
   "metadata": {},
   "outputs": [
    {
     "data": {
      "text/plain": [
       "120"
      ]
     },
     "execution_count": 17,
     "metadata": {},
     "output_type": "execute_result"
    }
   ],
   "source": [
    "math.factorial(5)"
   ]
  },
  {
   "cell_type": "code",
   "execution_count": 18,
   "id": "b54ddb72",
   "metadata": {},
   "outputs": [
    {
     "data": {
      "text/plain": [
       "inf"
      ]
     },
     "execution_count": 18,
     "metadata": {},
     "output_type": "execute_result"
    }
   ],
   "source": [
    "math.inf # número infinito"
   ]
  },
  {
   "cell_type": "code",
   "execution_count": 19,
   "id": "3fe52dd0",
   "metadata": {},
   "outputs": [
    {
     "data": {
      "text/plain": [
       "float"
      ]
     },
     "execution_count": 19,
     "metadata": {},
     "output_type": "execute_result"
    }
   ],
   "source": [
    "type(math.inf)"
   ]
  },
  {
   "cell_type": "code",
   "execution_count": 20,
   "id": "50a5683d",
   "metadata": {},
   "outputs": [
    {
     "data": {
      "text/plain": [
       "0.0"
      ]
     },
     "execution_count": 20,
     "metadata": {},
     "output_type": "execute_result"
    }
   ],
   "source": [
    "(x / math.inf)"
   ]
  },
  {
   "cell_type": "code",
   "execution_count": null,
   "id": "61a62516",
   "metadata": {},
   "outputs": [],
   "source": []
  }
 ],
 "metadata": {
  "kernelspec": {
   "display_name": "Python 3 (ipykernel)",
   "language": "python",
   "name": "python3"
  },
  "language_info": {
   "codemirror_mode": {
    "name": "ipython",
    "version": 3
   },
   "file_extension": ".py",
   "mimetype": "text/x-python",
   "name": "python",
   "nbconvert_exporter": "python",
   "pygments_lexer": "ipython3",
   "version": "3.8.10"
  }
 },
 "nbformat": 4,
 "nbformat_minor": 5
}
