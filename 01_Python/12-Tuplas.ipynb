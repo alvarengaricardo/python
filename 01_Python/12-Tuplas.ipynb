{
 "cells": [
  {
   "cell_type": "markdown",
   "id": "4a7ede71",
   "metadata": {},
   "source": [
    "# Tuplas"
   ]
  },
  {
   "cell_type": "markdown",
   "id": "76bc42b0",
   "metadata": {},
   "source": [
    "Tuplas são imutáveis"
   ]
  },
  {
   "cell_type": "markdown",
   "id": "931bcd34",
   "metadata": {},
   "source": [
    "Não aceitam funções que alterem seu conteúdo, como por exemplo .sort(), .append()..."
   ]
  },
  {
   "cell_type": "code",
   "execution_count": 1,
   "id": "2972dcc7",
   "metadata": {},
   "outputs": [
    {
     "data": {
      "text/plain": [
       "(2, 4, 6, 7, 9)"
      ]
     },
     "execution_count": 1,
     "metadata": {},
     "output_type": "execute_result"
    }
   ],
   "source": [
    "tupla = (2, 4, 6, 7, 9)\n",
    "tupla"
   ]
  },
  {
   "cell_type": "markdown",
   "id": "fdca1b9b",
   "metadata": {},
   "source": [
    "Qualquer alteração da tupla resulta em erro, exemplo: tupla[2] = 7"
   ]
  },
  {
   "cell_type": "code",
   "execution_count": 2,
   "id": "cb792bac",
   "metadata": {},
   "outputs": [],
   "source": [
    "vogais = ('a', 'e', 'i', 'o', 'u')"
   ]
  },
  {
   "cell_type": "code",
   "execution_count": 3,
   "id": "72d9f476",
   "metadata": {},
   "outputs": [
    {
     "data": {
      "text/plain": [
       "5"
      ]
     },
     "execution_count": 3,
     "metadata": {},
     "output_type": "execute_result"
    }
   ],
   "source": [
    "len(vogais)"
   ]
  },
  {
   "cell_type": "code",
   "execution_count": 4,
   "id": "a7f23b32",
   "metadata": {},
   "outputs": [
    {
     "data": {
      "text/plain": [
       "'e'"
      ]
     },
     "execution_count": 4,
     "metadata": {},
     "output_type": "execute_result"
    }
   ],
   "source": [
    "vogais[1]"
   ]
  },
  {
   "cell_type": "code",
   "execution_count": 5,
   "id": "733e8de7",
   "metadata": {},
   "outputs": [
    {
     "data": {
      "text/plain": [
       "'o'"
      ]
     },
     "execution_count": 5,
     "metadata": {},
     "output_type": "execute_result"
    }
   ],
   "source": [
    "vogais[-2]"
   ]
  },
  {
   "cell_type": "code",
   "execution_count": 6,
   "id": "f10c8543",
   "metadata": {},
   "outputs": [
    {
     "data": {
      "text/plain": [
       "('a', 'e', 'i')"
      ]
     },
     "execution_count": 6,
     "metadata": {},
     "output_type": "execute_result"
    }
   ],
   "source": [
    "vogais[:-2]"
   ]
  },
  {
   "cell_type": "code",
   "execution_count": 7,
   "id": "968a3f48",
   "metadata": {},
   "outputs": [
    {
     "data": {
      "text/plain": [
       "(2, 4, 6, 7, 9, 'a', 'e', 'i', 'o', 'u')"
      ]
     },
     "execution_count": 7,
     "metadata": {},
     "output_type": "execute_result"
    }
   ],
   "source": [
    "tupla_2 = tupla + vogais\n",
    "tupla_2"
   ]
  },
  {
   "cell_type": "code",
   "execution_count": 8,
   "id": "d8e41b19",
   "metadata": {},
   "outputs": [],
   "source": [
    "tupla_3 = (5, 6, 7, 8, 7, 7, 2, 6, 4, 4, 5, 5, 6, 7)"
   ]
  },
  {
   "cell_type": "code",
   "execution_count": 9,
   "id": "fb2f11c9",
   "metadata": {},
   "outputs": [
    {
     "data": {
      "text/plain": [
       "4"
      ]
     },
     "execution_count": 9,
     "metadata": {},
     "output_type": "execute_result"
    }
   ],
   "source": [
    "tupla_3.count(7)"
   ]
  },
  {
   "cell_type": "code",
   "execution_count": 10,
   "id": "cd7ef8fa",
   "metadata": {},
   "outputs": [
    {
     "data": {
      "text/plain": [
       "False"
      ]
     },
     "execution_count": 10,
     "metadata": {},
     "output_type": "execute_result"
    }
   ],
   "source": [
    "'z' in vogais"
   ]
  },
  {
   "cell_type": "code",
   "execution_count": 11,
   "id": "55cc4446",
   "metadata": {},
   "outputs": [
    {
     "data": {
      "text/plain": [
       "True"
      ]
     },
     "execution_count": 11,
     "metadata": {},
     "output_type": "execute_result"
    }
   ],
   "source": [
    "'a' in vogais"
   ]
  },
  {
   "cell_type": "code",
   "execution_count": 12,
   "id": "54094880",
   "metadata": {},
   "outputs": [
    {
     "data": {
      "text/plain": [
       "28"
      ]
     },
     "execution_count": 12,
     "metadata": {},
     "output_type": "execute_result"
    }
   ],
   "source": [
    "sum(tupla)"
   ]
  },
  {
   "cell_type": "code",
   "execution_count": 13,
   "id": "65044724",
   "metadata": {},
   "outputs": [
    {
     "data": {
      "text/plain": [
       "2"
      ]
     },
     "execution_count": 13,
     "metadata": {},
     "output_type": "execute_result"
    }
   ],
   "source": [
    "min(tupla)"
   ]
  },
  {
   "cell_type": "code",
   "execution_count": 14,
   "id": "96e9955f",
   "metadata": {},
   "outputs": [
    {
     "data": {
      "text/plain": [
       "9"
      ]
     },
     "execution_count": 14,
     "metadata": {},
     "output_type": "execute_result"
    }
   ],
   "source": [
    "max(tupla)"
   ]
  },
  {
   "cell_type": "markdown",
   "id": "489d604b",
   "metadata": {},
   "source": [
    "Tuplas são iteráveis e seus conteúdos podem ser copiados para outro objeto"
   ]
  },
  {
   "cell_type": "code",
   "execution_count": 15,
   "id": "84e54b93",
   "metadata": {},
   "outputs": [
    {
     "name": "stdout",
     "output_type": "stream",
     "text": [
      "2\n",
      "4\n",
      "6\n",
      "7\n",
      "9\n",
      "a\n",
      "e\n",
      "i\n",
      "o\n",
      "u\n"
     ]
    }
   ],
   "source": [
    "for elemento in tupla_2:\n",
    "    print(elemento)"
   ]
  },
  {
   "cell_type": "code",
   "execution_count": 16,
   "id": "269e6cc0",
   "metadata": {},
   "outputs": [
    {
     "data": {
      "text/plain": [
       "['a', 'e', 'i', 'o', 'u']"
      ]
     },
     "execution_count": 16,
     "metadata": {},
     "output_type": "execute_result"
    }
   ],
   "source": [
    "lista = list(vogais)\n",
    "lista"
   ]
  },
  {
   "cell_type": "code",
   "execution_count": 17,
   "id": "cc825fb1",
   "metadata": {},
   "outputs": [
    {
     "data": {
      "text/plain": [
       "list"
      ]
     },
     "execution_count": 17,
     "metadata": {},
     "output_type": "execute_result"
    }
   ],
   "source": [
    "type(lista)"
   ]
  },
  {
   "cell_type": "code",
   "execution_count": 18,
   "id": "5d20a08b",
   "metadata": {},
   "outputs": [
    {
     "data": {
      "text/plain": [
       "tuple"
      ]
     },
     "execution_count": 18,
     "metadata": {},
     "output_type": "execute_result"
    }
   ],
   "source": [
    "type(vogais)"
   ]
  },
  {
   "cell_type": "code",
   "execution_count": 19,
   "id": "85d27f00",
   "metadata": {},
   "outputs": [],
   "source": [
    "lista_2 = [1, 3, 4, 2, 7, 5, 4, 9, 2, 5, 3]"
   ]
  },
  {
   "cell_type": "code",
   "execution_count": 20,
   "id": "7755308e",
   "metadata": {},
   "outputs": [
    {
     "data": {
      "text/plain": [
       "(1, 2, 2, 3, 3, 4, 4, 5, 5, 7, 9)"
      ]
     },
     "execution_count": 20,
     "metadata": {},
     "output_type": "execute_result"
    }
   ],
   "source": [
    "tupla_4 = tuple(sorted(lista_2))\n",
    "tupla_4"
   ]
  },
  {
   "cell_type": "code",
   "execution_count": null,
   "id": "0214eeb1",
   "metadata": {},
   "outputs": [],
   "source": []
  }
 ],
 "metadata": {
  "kernelspec": {
   "display_name": "Python 3 (ipykernel)",
   "language": "python",
   "name": "python3"
  },
  "language_info": {
   "codemirror_mode": {
    "name": "ipython",
    "version": 3
   },
   "file_extension": ".py",
   "mimetype": "text/x-python",
   "name": "python",
   "nbconvert_exporter": "python",
   "pygments_lexer": "ipython3",
   "version": "3.8.10"
  }
 },
 "nbformat": 4,
 "nbformat_minor": 5
}
