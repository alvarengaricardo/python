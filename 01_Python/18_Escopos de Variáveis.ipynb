{
 "cells": [
  {
   "cell_type": "markdown",
   "id": "d17294bf",
   "metadata": {},
   "source": [
    "# Escopos de Variáveis"
   ]
  },
  {
   "cell_type": "code",
   "execution_count": 1,
   "id": "8585ffda",
   "metadata": {},
   "outputs": [
    {
     "data": {
      "text/plain": [
       "'Escopo Global'"
      ]
     },
     "execution_count": 1,
     "metadata": {},
     "output_type": "execute_result"
    }
   ],
   "source": [
    "var_global = 'Escopo Global'\n",
    "var_global"
   ]
  },
  {
   "cell_type": "code",
   "execution_count": 2,
   "id": "19242b03",
   "metadata": {},
   "outputs": [],
   "source": [
    "def escreve_texto():\n",
    "    var_local = 'Escopo Local'\n",
    "    print(f'Variável Global: {var_global}')\n",
    "    print(f'Variável Local: {var_local}')"
   ]
  },
  {
   "cell_type": "code",
   "execution_count": 3,
   "id": "31b89891",
   "metadata": {},
   "outputs": [
    {
     "name": "stdout",
     "output_type": "stream",
     "text": [
      "Variável Global: Escopo Global\n",
      "Variável Local: Escopo Local\n"
     ]
    }
   ],
   "source": [
    "escreve_texto()"
   ]
  },
  {
   "cell_type": "code",
   "execution_count": 4,
   "id": "e9b4108e",
   "metadata": {},
   "outputs": [
    {
     "data": {
      "text/plain": [
       "'Escopo Global'"
      ]
     },
     "execution_count": 4,
     "metadata": {},
     "output_type": "execute_result"
    }
   ],
   "source": [
    "var_global"
   ]
  },
  {
   "cell_type": "code",
   "execution_count": 5,
   "id": "3a74afbd",
   "metadata": {},
   "outputs": [],
   "source": [
    "def escreve_texto2():\n",
    "    var_global = 'Novo Escopo'\n",
    "    var_local = 'Escopo Local'\n",
    "    print(f'Variável Global: {var_global}')\n",
    "    print(f'Variável Local: {var_local}')"
   ]
  },
  {
   "cell_type": "code",
   "execution_count": 6,
   "id": "9c57e32e",
   "metadata": {},
   "outputs": [
    {
     "name": "stdout",
     "output_type": "stream",
     "text": [
      "Variável Global: Novo Escopo\n",
      "Variável Local: Escopo Local\n"
     ]
    }
   ],
   "source": [
    "escreve_texto2()"
   ]
  },
  {
   "cell_type": "code",
   "execution_count": 7,
   "id": "1c1d299e",
   "metadata": {},
   "outputs": [
    {
     "data": {
      "text/plain": [
       "'Escopo Global'"
      ]
     },
     "execution_count": 7,
     "metadata": {},
     "output_type": "execute_result"
    }
   ],
   "source": [
    "var_global"
   ]
  },
  {
   "cell_type": "code",
   "execution_count": 8,
   "id": "3c155edb",
   "metadata": {},
   "outputs": [],
   "source": [
    "def escreve_texto3():\n",
    "    global var_global\n",
    "    var_global = 'Novo Escopo'\n",
    "    var_local = 'Escopo Local'\n",
    "    print(f'Variável Global: {var_global}')\n",
    "    print(f'Variável Local: {var_local}')"
   ]
  },
  {
   "cell_type": "code",
   "execution_count": 9,
   "id": "e8373561",
   "metadata": {},
   "outputs": [
    {
     "name": "stdout",
     "output_type": "stream",
     "text": [
      "Variável Global: Novo Escopo\n",
      "Variável Local: Escopo Local\n"
     ]
    }
   ],
   "source": [
    "escreve_texto3()"
   ]
  },
  {
   "cell_type": "code",
   "execution_count": 10,
   "id": "456231fd",
   "metadata": {},
   "outputs": [
    {
     "data": {
      "text/plain": [
       "'Novo Escopo'"
      ]
     },
     "execution_count": 10,
     "metadata": {},
     "output_type": "execute_result"
    }
   ],
   "source": [
    "var_global"
   ]
  },
  {
   "cell_type": "code",
   "execution_count": null,
   "id": "21cb93b0",
   "metadata": {},
   "outputs": [],
   "source": []
  }
 ],
 "metadata": {
  "kernelspec": {
   "display_name": "Python 3 (ipykernel)",
   "language": "python",
   "name": "python3"
  },
  "language_info": {
   "codemirror_mode": {
    "name": "ipython",
    "version": 3
   },
   "file_extension": ".py",
   "mimetype": "text/x-python",
   "name": "python",
   "nbconvert_exporter": "python",
   "pygments_lexer": "ipython3",
   "version": "3.8.10"
  }
 },
 "nbformat": 4,
 "nbformat_minor": 5
}
