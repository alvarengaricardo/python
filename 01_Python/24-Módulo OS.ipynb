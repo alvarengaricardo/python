{
 "cells": [
  {
   "cell_type": "markdown",
   "id": "6361bce0",
   "metadata": {},
   "source": [
    "# Módulo OS"
   ]
  },
  {
   "cell_type": "markdown",
   "id": "6d4aafb3",
   "metadata": {},
   "source": [
    "Auxilia na execução de funcionalidades de Sistema Operacional"
   ]
  },
  {
   "cell_type": "markdown",
   "id": "7bfd0d4b",
   "metadata": {},
   "source": [
    "https://docs.python.org/3/library/os.html"
   ]
  },
  {
   "cell_type": "code",
   "execution_count": 1,
   "id": "c3930a0d",
   "metadata": {},
   "outputs": [],
   "source": [
    "import os"
   ]
  },
  {
   "cell_type": "code",
   "execution_count": 2,
   "id": "1d156708",
   "metadata": {},
   "outputs": [
    {
     "data": {
      "text/plain": [
       "'nt'"
      ]
     },
     "execution_count": 2,
     "metadata": {},
     "output_type": "execute_result"
    }
   ],
   "source": [
    "os.name"
   ]
  },
  {
   "cell_type": "code",
   "execution_count": 3,
   "id": "5d26ea6a",
   "metadata": {},
   "outputs": [
    {
     "data": {
      "text/plain": [
       "'D:\\\\developer\\\\python\\\\python\\\\01_Python'"
      ]
     },
     "execution_count": 3,
     "metadata": {},
     "output_type": "execute_result"
    }
   ],
   "source": [
    "os.getcwd()"
   ]
  },
  {
   "cell_type": "code",
   "execution_count": 4,
   "id": "a22efc2a",
   "metadata": {},
   "outputs": [
    {
     "data": {
      "text/plain": [
       "'.'"
      ]
     },
     "execution_count": 4,
     "metadata": {},
     "output_type": "execute_result"
    }
   ],
   "source": [
    "os.curdir"
   ]
  },
  {
   "cell_type": "code",
   "execution_count": 5,
   "id": "5f7a0385",
   "metadata": {},
   "outputs": [
    {
     "data": {
      "text/plain": [
       "['.ipynb_checkpoints',\n",
       " '01-Hello.ipynb',\n",
       " '02-Variáveis e tipos.ipynb',\n",
       " '03-Operadores Aritméticos.ipynb',\n",
       " '04-Operadores Relacionais.ipynb',\n",
       " '05-Operadores Lógicos - AND, OR, NOT.ipynb',\n",
       " '06-Condicionais - if, elif, else.ipynb',\n",
       " '07-Função print().ipynb',\n",
       " '08-Laços de Repetição.ipynb',\n",
       " '09-Módulos e Pacotes.ipynb',\n",
       " '10-Números Aleatórios.ipynb',\n",
       " '11-Listas.ipynb',\n",
       " '12-Tuplas.ipynb',\n",
       " '13-Matemática.ipynb',\n",
       " '14-Strings.ipynb',\n",
       " '15-Dicionários.ipynb',\n",
       " '16_Sets.ipynb',\n",
       " '17_Funções.ipynb',\n",
       " '18_Escopos de Variáveis.ipynb',\n",
       " '19_Erros_e_exceções.ipynb',\n",
       " '20-Recursividade.ipynb',\n",
       " '21-Funções Especiais.ipynb',\n",
       " '22-list comprehension.ipynb',\n",
       " '23-POO.ipynb',\n",
       " '24-Módulo OS.ipynb']"
      ]
     },
     "execution_count": 5,
     "metadata": {},
     "output_type": "execute_result"
    }
   ],
   "source": [
    "os.listdir()"
   ]
  },
  {
   "cell_type": "code",
   "execution_count": 6,
   "id": "5dff2f04",
   "metadata": {},
   "outputs": [
    {
     "data": {
      "text/plain": [
       "['$Recycle.Bin',\n",
       " '$WinREAgent',\n",
       " 'android',\n",
       " 'Arquivos de Programas',\n",
       " 'Arquivos de Programas RFB',\n",
       " 'bootTel.dat',\n",
       " 'CMS Files',\n",
       " 'Config.Msi',\n",
       " 'Documents and Settings',\n",
       " 'DumpStack.log.tmp',\n",
       " 'eclipse',\n",
       " 'exame',\n",
       " 'ghostwriter',\n",
       " 'gnuCobol',\n",
       " 'hiberfil.sys',\n",
       " 'instalar',\n",
       " 'Intel',\n",
       " 'MinGW',\n",
       " 'Ongame',\n",
       " 'pagefile.sys',\n",
       " 'PerfLogs',\n",
       " 'php',\n",
       " 'Program Files',\n",
       " 'Program Files (x86)',\n",
       " 'ProgramData',\n",
       " 'Recovery',\n",
       " 'swapfile.sys',\n",
       " 'SWsetup',\n",
       " 'System Volume Information',\n",
       " 'system.sav',\n",
       " 'torrent',\n",
       " 'trac_msi.log',\n",
       " 'Users',\n",
       " 'vclientLog.txt',\n",
       " 'Windows']"
      ]
     },
     "execution_count": 6,
     "metadata": {},
     "output_type": "execute_result"
    }
   ],
   "source": [
    "os.listdir(\"c:\\\\\")"
   ]
  },
  {
   "cell_type": "code",
   "execution_count": 7,
   "id": "8b13cdab",
   "metadata": {},
   "outputs": [],
   "source": [
    "os.chdir('D:\\\\developer')"
   ]
  },
  {
   "cell_type": "code",
   "execution_count": 8,
   "id": "65461af9",
   "metadata": {},
   "outputs": [
    {
     "data": {
      "text/plain": [
       "'D:\\\\developer'"
      ]
     },
     "execution_count": 8,
     "metadata": {},
     "output_type": "execute_result"
    }
   ],
   "source": [
    "os.getcwd()"
   ]
  },
  {
   "cell_type": "code",
   "execution_count": 9,
   "id": "89f2d4e9",
   "metadata": {},
   "outputs": [],
   "source": [
    "os.chdir('D:\\\\developer\\\\python\\\\python')"
   ]
  },
  {
   "cell_type": "code",
   "execution_count": 10,
   "id": "9ecd721a",
   "metadata": {},
   "outputs": [
    {
     "data": {
      "text/plain": [
       "'D:\\\\developer\\\\python\\\\python'"
      ]
     },
     "execution_count": 10,
     "metadata": {},
     "output_type": "execute_result"
    }
   ],
   "source": [
    "os.getcwd()"
   ]
  },
  {
   "cell_type": "code",
   "execution_count": 11,
   "id": "974cdaec",
   "metadata": {},
   "outputs": [],
   "source": [
    "os.mkdir('pasta_teste')"
   ]
  },
  {
   "cell_type": "code",
   "execution_count": 12,
   "id": "fc60ae8c",
   "metadata": {},
   "outputs": [
    {
     "data": {
      "text/plain": [
       "['.git',\n",
       " '.gitignore',\n",
       " '.idea',\n",
       " '.ipynb_checkpoints',\n",
       " '01_Python',\n",
       " '77_Codewars',\n",
       " '88_PCAP',\n",
       " '99_diversos',\n",
       " 'pasta_teste',\n",
       " 'Python-Logo.png',\n",
       " 'README.md',\n",
       " 'recursos']"
      ]
     },
     "execution_count": 12,
     "metadata": {},
     "output_type": "execute_result"
    }
   ],
   "source": [
    "os.listdir()"
   ]
  },
  {
   "cell_type": "code",
   "execution_count": 13,
   "id": "c67f0a54",
   "metadata": {},
   "outputs": [],
   "source": [
    "os.rmdir('pasta_teste')"
   ]
  },
  {
   "cell_type": "code",
   "execution_count": null,
   "id": "938099c4",
   "metadata": {},
   "outputs": [],
   "source": []
  }
 ],
 "metadata": {
  "kernelspec": {
   "display_name": "Python 3 (ipykernel)",
   "language": "python",
   "name": "python3"
  },
  "language_info": {
   "codemirror_mode": {
    "name": "ipython",
    "version": 3
   },
   "file_extension": ".py",
   "mimetype": "text/x-python",
   "name": "python",
   "nbconvert_exporter": "python",
   "pygments_lexer": "ipython3",
   "version": "3.8.10"
  }
 },
 "nbformat": 4,
 "nbformat_minor": 5
}
