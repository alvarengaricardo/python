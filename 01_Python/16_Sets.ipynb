{
 "cells": [
  {
   "cell_type": "markdown",
   "id": "540d875d",
   "metadata": {},
   "source": [
    "# Sets"
   ]
  },
  {
   "cell_type": "markdown",
   "id": "406eb140",
   "metadata": {},
   "source": [
    "São conjuntos, coleções não ordenadas, de valores únicos, aceita elementos de qualquer tipo que não podem ser alterados.\n",
    "Conjuntos aceitam operações matemáticas sobre conjuntos, além da remoção e inclusão de elementos."
   ]
  },
  {
   "cell_type": "code",
   "execution_count": 1,
   "id": "e38b85d7",
   "metadata": {},
   "outputs": [],
   "source": [
    "planeta_anao = {'Ceres', 'Plutão', 'Haumea', 'Makemake', 'Éris'}"
   ]
  },
  {
   "cell_type": "code",
   "execution_count": 2,
   "id": "c6ecc121",
   "metadata": {},
   "outputs": [
    {
     "data": {
      "text/plain": [
       "{'Ceres', 'Haumea', 'Makemake', 'Plutão', 'Éris'}"
      ]
     },
     "execution_count": 2,
     "metadata": {},
     "output_type": "execute_result"
    }
   ],
   "source": [
    "planeta_anao"
   ]
  },
  {
   "cell_type": "code",
   "execution_count": 3,
   "id": "c59a8a5a",
   "metadata": {},
   "outputs": [
    {
     "data": {
      "text/plain": [
       "set"
      ]
     },
     "execution_count": 3,
     "metadata": {},
     "output_type": "execute_result"
    }
   ],
   "source": [
    "type(planeta_anao)"
   ]
  },
  {
   "cell_type": "code",
   "execution_count": 4,
   "id": "26a5c48e",
   "metadata": {},
   "outputs": [
    {
     "data": {
      "text/plain": [
       "5"
      ]
     },
     "execution_count": 4,
     "metadata": {},
     "output_type": "execute_result"
    }
   ],
   "source": [
    "len(planeta_anao)"
   ]
  },
  {
   "cell_type": "code",
   "execution_count": 5,
   "id": "f90e2cce",
   "metadata": {},
   "outputs": [
    {
     "data": {
      "text/plain": [
       "True"
      ]
     },
     "execution_count": 5,
     "metadata": {},
     "output_type": "execute_result"
    }
   ],
   "source": [
    "'Ceres' in planeta_anao"
   ]
  },
  {
   "cell_type": "code",
   "execution_count": 6,
   "id": "b102cd98",
   "metadata": {},
   "outputs": [
    {
     "data": {
      "text/plain": [
       "False"
      ]
     },
     "execution_count": 6,
     "metadata": {},
     "output_type": "execute_result"
    }
   ],
   "source": [
    "'Lua' in planeta_anao"
   ]
  },
  {
   "cell_type": "code",
   "execution_count": 7,
   "id": "6932651f",
   "metadata": {},
   "outputs": [
    {
     "data": {
      "text/plain": [
       "True"
      ]
     },
     "execution_count": 7,
     "metadata": {},
     "output_type": "execute_result"
    }
   ],
   "source": [
    "'Lua' not in planeta_anao"
   ]
  },
  {
   "cell_type": "code",
   "execution_count": 8,
   "id": "b9bf9e75",
   "metadata": {},
   "outputs": [
    {
     "name": "stdout",
     "output_type": "stream",
     "text": [
      "ÉRIS MAKEMAKE HAUMEA PLUTÃO CERES "
     ]
    }
   ],
   "source": [
    "for astro in planeta_anao:\n",
    "    print(astro.upper(), end = ' ')"
   ]
  },
  {
   "cell_type": "markdown",
   "id": "10db2d14",
   "metadata": {},
   "source": [
    "Transformar uma lista em conjunto"
   ]
  },
  {
   "cell_type": "code",
   "execution_count": 9,
   "id": "63e7a377",
   "metadata": {},
   "outputs": [],
   "source": [
    "astros = ['Lua', 'Vênus', 'Sirius', 'Marte', 'Lua', 'Plutão']"
   ]
  },
  {
   "cell_type": "code",
   "execution_count": 10,
   "id": "a4521485",
   "metadata": {},
   "outputs": [
    {
     "data": {
      "text/plain": [
       "['Lua', 'Vênus', 'Sirius', 'Marte', 'Lua', 'Plutão']"
      ]
     },
     "execution_count": 10,
     "metadata": {},
     "output_type": "execute_result"
    }
   ],
   "source": [
    "astros"
   ]
  },
  {
   "cell_type": "code",
   "execution_count": 11,
   "id": "f23ab562",
   "metadata": {},
   "outputs": [
    {
     "data": {
      "text/plain": [
       "list"
      ]
     },
     "execution_count": 11,
     "metadata": {},
     "output_type": "execute_result"
    }
   ],
   "source": [
    "type(astros)"
   ]
  },
  {
   "cell_type": "code",
   "execution_count": 12,
   "id": "65cb9b38",
   "metadata": {},
   "outputs": [
    {
     "data": {
      "text/plain": [
       "6"
      ]
     },
     "execution_count": 12,
     "metadata": {},
     "output_type": "execute_result"
    }
   ],
   "source": [
    "len(astros)"
   ]
  },
  {
   "cell_type": "code",
   "execution_count": 13,
   "id": "f4303185",
   "metadata": {},
   "outputs": [],
   "source": [
    "astro_set = set(astros)"
   ]
  },
  {
   "cell_type": "code",
   "execution_count": 14,
   "id": "19f56af5",
   "metadata": {},
   "outputs": [
    {
     "data": {
      "text/plain": [
       "{'Lua', 'Marte', 'Plutão', 'Sirius', 'Vênus'}"
      ]
     },
     "execution_count": 14,
     "metadata": {},
     "output_type": "execute_result"
    }
   ],
   "source": [
    "astro_set"
   ]
  },
  {
   "cell_type": "code",
   "execution_count": 15,
   "id": "5c169d36",
   "metadata": {},
   "outputs": [
    {
     "data": {
      "text/plain": [
       "5"
      ]
     },
     "execution_count": 15,
     "metadata": {},
     "output_type": "execute_result"
    }
   ],
   "source": [
    "len(astro_set)"
   ]
  },
  {
   "cell_type": "code",
   "execution_count": 16,
   "id": "f141fc2a",
   "metadata": {},
   "outputs": [
    {
     "data": {
      "text/plain": [
       "set"
      ]
     },
     "execution_count": 16,
     "metadata": {},
     "output_type": "execute_result"
    }
   ],
   "source": [
    "type(astro_set)"
   ]
  },
  {
   "cell_type": "markdown",
   "id": "2da17c9b",
   "metadata": {},
   "source": [
    "##### Operações entre conjuntos"
   ]
  },
  {
   "cell_type": "code",
   "execution_count": 17,
   "id": "4747f3d5",
   "metadata": {},
   "outputs": [
    {
     "data": {
      "text/plain": [
       "False"
      ]
     },
     "execution_count": 17,
     "metadata": {},
     "output_type": "execute_result"
    }
   ],
   "source": [
    "planeta_anao == astro_set"
   ]
  },
  {
   "cell_type": "code",
   "execution_count": 18,
   "id": "576d904d",
   "metadata": {},
   "outputs": [
    {
     "data": {
      "text/plain": [
       "{'Ceres',\n",
       " 'Haumea',\n",
       " 'Lua',\n",
       " 'Makemake',\n",
       " 'Marte',\n",
       " 'Plutão',\n",
       " 'Sirius',\n",
       " 'Vênus',\n",
       " 'Éris'}"
      ]
     },
     "execution_count": 18,
     "metadata": {},
     "output_type": "execute_result"
    }
   ],
   "source": [
    "# uma forma de unir dois sets\n",
    "astros_1 = astro_set | planeta_anao\n",
    "astros_1"
   ]
  },
  {
   "cell_type": "code",
   "execution_count": 19,
   "id": "3e6d9261",
   "metadata": {},
   "outputs": [
    {
     "data": {
      "text/plain": [
       "{'Ceres',\n",
       " 'Haumea',\n",
       " 'Lua',\n",
       " 'Makemake',\n",
       " 'Marte',\n",
       " 'Plutão',\n",
       " 'Sirius',\n",
       " 'Vênus',\n",
       " 'Éris'}"
      ]
     },
     "execution_count": 19,
     "metadata": {},
     "output_type": "execute_result"
    }
   ],
   "source": [
    "# outra forma\n",
    "astros_2 = astro_set.union(planeta_anao)\n",
    "astros_2"
   ]
  },
  {
   "cell_type": "code",
   "execution_count": 20,
   "id": "960204f0",
   "metadata": {},
   "outputs": [
    {
     "data": {
      "text/plain": [
       "True"
      ]
     },
     "execution_count": 20,
     "metadata": {},
     "output_type": "execute_result"
    }
   ],
   "source": [
    "astros_1 == astros_2"
   ]
  },
  {
   "cell_type": "code",
   "execution_count": 21,
   "id": "4c6c2e04",
   "metadata": {},
   "outputs": [
    {
     "data": {
      "text/plain": [
       "{'Plutão'}"
      ]
     },
     "execution_count": 21,
     "metadata": {},
     "output_type": "execute_result"
    }
   ],
   "source": [
    "# intersecção de sets\n",
    "astro_set & planeta_anao"
   ]
  },
  {
   "cell_type": "code",
   "execution_count": 22,
   "id": "86f4b728",
   "metadata": {},
   "outputs": [
    {
     "data": {
      "text/plain": [
       "{'Plutão'}"
      ]
     },
     "execution_count": 22,
     "metadata": {},
     "output_type": "execute_result"
    }
   ],
   "source": [
    "# outra forma\n",
    "astro_set.intersection(planeta_anao)"
   ]
  },
  {
   "attachments": {
    "image-2.png": {
     "image/png": "[encoded data removed]"
    }
   },
   "cell_type": "markdown",
   "id": "e4958382",
   "metadata": {},
   "source": [
    "A diferença simétrica de dois conjuntos é o conjunto de elementos que estão em um dos conjuntos, e não em sua interseção.\n",
    "![image-2.png](attachment:image-2.png)"
   ]
  },
  {
   "cell_type": "code",
   "execution_count": 23,
   "id": "1aaeedb9",
   "metadata": {},
   "outputs": [
    {
     "data": {
      "text/plain": [
       "{'Ceres', 'Haumea', 'Lua', 'Makemake', 'Marte', 'Sirius', 'Vênus', 'Éris'}"
      ]
     },
     "execution_count": 23,
     "metadata": {},
     "output_type": "execute_result"
    }
   ],
   "source": [
    "# diferença simétrica entre sets\n",
    "astro_set ^ planeta_anao"
   ]
  },
  {
   "cell_type": "code",
   "execution_count": 24,
   "id": "29517711",
   "metadata": {},
   "outputs": [
    {
     "data": {
      "text/plain": [
       "set"
      ]
     },
     "execution_count": 24,
     "metadata": {},
     "output_type": "execute_result"
    }
   ],
   "source": [
    "type(astro_set ^ planeta_anao)"
   ]
  },
  {
   "cell_type": "markdown",
   "id": "2c052845",
   "metadata": {},
   "source": [
    "##### Acrescentar e remover elementos:"
   ]
  },
  {
   "cell_type": "code",
   "execution_count": 25,
   "id": "58b0665e",
   "metadata": {},
   "outputs": [
    {
     "data": {
      "text/plain": [
       "{'Lua', 'Marte', 'Plutão', 'Sirius', 'Sol', 'Vênus'}"
      ]
     },
     "execution_count": 25,
     "metadata": {},
     "output_type": "execute_result"
    }
   ],
   "source": [
    "astro_set.add('Sol')\n",
    "astro_set"
   ]
  },
  {
   "cell_type": "code",
   "execution_count": 26,
   "id": "7226059e",
   "metadata": {},
   "outputs": [
    {
     "data": {
      "text/plain": [
       "{'Lua', 'Marte', 'Plutão', 'Sol', 'Vênus'}"
      ]
     },
     "execution_count": 26,
     "metadata": {},
     "output_type": "execute_result"
    }
   ],
   "source": [
    "astro_set.remove('Sirius')\n",
    "astro_set"
   ]
  },
  {
   "cell_type": "markdown",
   "id": "cc4067e4",
   "metadata": {},
   "source": [
    "O método 'remove()' apresenta mensagem de erro, caso o elemento não exista no set. Para evitar isso, usa-se o método 'discard()'."
   ]
  },
  {
   "cell_type": "code",
   "execution_count": 27,
   "id": "fbb6b210",
   "metadata": {},
   "outputs": [
    {
     "data": {
      "text/plain": [
       "{'Lua', 'Marte', 'Plutão', 'Sol', 'Vênus'}"
      ]
     },
     "execution_count": 27,
     "metadata": {},
     "output_type": "execute_result"
    }
   ],
   "source": [
    "astro_set.discard('Sirius')\n",
    "astro_set"
   ]
  },
  {
   "cell_type": "markdown",
   "id": "a764a592",
   "metadata": {},
   "source": [
    "Realizando uma remoção aleatória:"
   ]
  },
  {
   "cell_type": "code",
   "execution_count": 28,
   "id": "8177fc85",
   "metadata": {},
   "outputs": [
    {
     "data": {
      "text/plain": [
       "'Lua'"
      ]
     },
     "execution_count": 28,
     "metadata": {},
     "output_type": "execute_result"
    }
   ],
   "source": [
    "astro_set.pop()"
   ]
  },
  {
   "cell_type": "code",
   "execution_count": 29,
   "id": "9272805e",
   "metadata": {},
   "outputs": [
    {
     "data": {
      "text/plain": [
       "{'Marte', 'Plutão', 'Sol', 'Vênus'}"
      ]
     },
     "execution_count": 29,
     "metadata": {},
     "output_type": "execute_result"
    }
   ],
   "source": [
    "astro_set"
   ]
  },
  {
   "cell_type": "markdown",
   "id": "eb618cd7",
   "metadata": {},
   "source": [
    "Para esvaziar o set:"
   ]
  },
  {
   "cell_type": "code",
   "execution_count": 30,
   "id": "40058923",
   "metadata": {},
   "outputs": [
    {
     "data": {
      "text/plain": [
       "set()"
      ]
     },
     "execution_count": 30,
     "metadata": {},
     "output_type": "execute_result"
    }
   ],
   "source": [
    "astro_set.clear()\n",
    "astro_set"
   ]
  },
  {
   "cell_type": "code",
   "execution_count": null,
   "id": "fd692aa0",
   "metadata": {},
   "outputs": [],
   "source": []
  }
 ],
 "metadata": {
  "kernelspec": {
   "display_name": "Python 3 (ipykernel)",
   "language": "python",
   "name": "python3"
  },
  "language_info": {
   "codemirror_mode": {
    "name": "ipython",
    "version": 3
   },
   "file_extension": ".py",
   "mimetype": "text/x-python",
   "name": "python",
   "nbconvert_exporter": "python",
   "pygments_lexer": "ipython3",
   "version": "3.8.10"
  }
 },
 "nbformat": 4,
 "nbformat_minor": 5
}
