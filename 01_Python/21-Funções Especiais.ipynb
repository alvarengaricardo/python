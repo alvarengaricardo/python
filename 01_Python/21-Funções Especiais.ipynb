{
 "cells": [
  {
   "cell_type": "markdown",
   "id": "33564f77",
   "metadata": {},
   "source": [
    "# Lambda (anônimas)"
   ]
  },
  {
   "cell_type": "markdown",
   "id": "b060df47",
   "metadata": {},
   "source": [
    "São funções que não tem nome e que podem ser criadas e utilizadas no mesmo momento."
   ]
  },
  {
   "cell_type": "markdown",
   "id": "a37164e3",
   "metadata": {},
   "source": [
    "Sintaxe: lambda argumentos: expressão"
   ]
  },
  {
   "cell_type": "code",
   "execution_count": 1,
   "id": "b11784f6",
   "metadata": {},
   "outputs": [],
   "source": [
    "quadrado = lambda x: x**2"
   ]
  },
  {
   "cell_type": "code",
   "execution_count": 2,
   "id": "d4fd1e65",
   "metadata": {},
   "outputs": [
    {
     "name": "stdout",
     "output_type": "stream",
     "text": [
      "1\n",
      "4\n",
      "9\n",
      "16\n",
      "25\n",
      "36\n",
      "49\n",
      "64\n",
      "81\n",
      "100\n"
     ]
    }
   ],
   "source": [
    "for i in range(1, 11):\n",
    "    print(quadrado(i))"
   ]
  },
  {
   "cell_type": "code",
   "execution_count": 3,
   "id": "0a0abeff",
   "metadata": {},
   "outputs": [],
   "source": [
    "par = lambda x: x % 2 == 0"
   ]
  },
  {
   "cell_type": "code",
   "execution_count": 4,
   "id": "6a563c21",
   "metadata": {},
   "outputs": [
    {
     "data": {
      "text/plain": [
       "False"
      ]
     },
     "execution_count": 4,
     "metadata": {},
     "output_type": "execute_result"
    }
   ],
   "source": [
    "par(9)"
   ]
  },
  {
   "cell_type": "code",
   "execution_count": 5,
   "id": "bd7ee40f",
   "metadata": {},
   "outputs": [
    {
     "data": {
      "text/plain": [
       "True"
      ]
     },
     "execution_count": 5,
     "metadata": {},
     "output_type": "execute_result"
    }
   ],
   "source": [
    "par(2)"
   ]
  },
  {
   "cell_type": "markdown",
   "id": "44694b8c",
   "metadata": {},
   "source": [
    "# map()"
   ]
  },
  {
   "cell_type": "markdown",
   "id": "292367b1",
   "metadata": {},
   "source": [
    "Permite aplicar uma função a cada elemento de um objeto iteravel.\n",
    "Vem do paradigma de programação funcional, é uma função de ordem superior, pois recebe outra função como parâmetro ou pode retornar uma função."
   ]
  },
  {
   "cell_type": "markdown",
   "id": "29bfa7f1",
   "metadata": {},
   "source": [
    "Sintaxe: map(função, iterável)"
   ]
  },
  {
   "cell_type": "code",
   "execution_count": 6,
   "id": "5583decc",
   "metadata": {},
   "outputs": [],
   "source": [
    "num = [1, 2, 3, 4, 5, 6, 7, 8, 9, 10]"
   ]
  },
  {
   "cell_type": "code",
   "execution_count": 7,
   "id": "6b0824b4",
   "metadata": {},
   "outputs": [],
   "source": [
    "# Aplica a função lambda(x*2), a cada elemento do iterável num. Objeto retornado é tipo map, necessário conversão.\n",
    "dobro = list(map(lambda x: x*2, num))"
   ]
  },
  {
   "cell_type": "code",
   "execution_count": 8,
   "id": "dbc3205e",
   "metadata": {},
   "outputs": [
    {
     "data": {
      "text/plain": [
       "[2, 4, 6, 8, 10, 12, 14, 16, 18, 20]"
      ]
     },
     "execution_count": 8,
     "metadata": {},
     "output_type": "execute_result"
    }
   ],
   "source": [
    "dobro"
   ]
  },
  {
   "cell_type": "code",
   "execution_count": 9,
   "id": "ccdd447d",
   "metadata": {},
   "outputs": [],
   "source": [
    "palavras = ['banana', 'uva', 'abacate', 'melão', 'maracujá', 'manga']"
   ]
  },
  {
   "cell_type": "code",
   "execution_count": 10,
   "id": "c2383cd9",
   "metadata": {},
   "outputs": [],
   "source": [
    "maiusculas = list(map(str.upper, palavras))"
   ]
  },
  {
   "cell_type": "code",
   "execution_count": 11,
   "id": "cce5abd5",
   "metadata": {},
   "outputs": [
    {
     "data": {
      "text/plain": [
       "['BANANA', 'UVA', 'ABACATE', 'MELÃO', 'MARACUJÁ', 'MANGA']"
      ]
     },
     "execution_count": 11,
     "metadata": {},
     "output_type": "execute_result"
    }
   ],
   "source": [
    "maiusculas"
   ]
  },
  {
   "cell_type": "markdown",
   "id": "e7ac217c",
   "metadata": {},
   "source": [
    "# filter()"
   ]
  },
  {
   "cell_type": "markdown",
   "id": "4fb7dc6d",
   "metadata": {},
   "source": [
    "Filtra elementos de um objeto iterável."
   ]
  },
  {
   "cell_type": "markdown",
   "id": "fd03eefd",
   "metadata": {},
   "source": [
    "Sintaxe: filter(função, sequência)"
   ]
  },
  {
   "cell_type": "code",
   "execution_count": 12,
   "id": "2e1d8e94",
   "metadata": {},
   "outputs": [],
   "source": [
    "def eh_par(numero):\n",
    "    return numero % 2 == 0"
   ]
  },
  {
   "cell_type": "code",
   "execution_count": 13,
   "id": "ee2d2e27",
   "metadata": {},
   "outputs": [],
   "source": [
    "numeros = [1, 2, 3, 4, 5, 6, 7, 8, 9, 10, 11, 12, 13, 14, 15]"
   ]
  },
  {
   "cell_type": "code",
   "execution_count": 14,
   "id": "5d36c3d1",
   "metadata": {},
   "outputs": [],
   "source": [
    "num_par = list(filter(eh_par, numeros))"
   ]
  },
  {
   "cell_type": "code",
   "execution_count": 15,
   "id": "4375f4fc",
   "metadata": {},
   "outputs": [
    {
     "data": {
      "text/plain": [
       "[2, 4, 6, 8, 10, 12, 14]"
      ]
     },
     "execution_count": 15,
     "metadata": {},
     "output_type": "execute_result"
    }
   ],
   "source": [
    "num_par"
   ]
  },
  {
   "cell_type": "code",
   "execution_count": 16,
   "id": "5f342591",
   "metadata": {},
   "outputs": [],
   "source": [
    "num_impar = list(filter(lambda x: x %2 != 0, numeros))"
   ]
  },
  {
   "cell_type": "code",
   "execution_count": 17,
   "id": "5558fb94",
   "metadata": {},
   "outputs": [
    {
     "data": {
      "text/plain": [
       "[1, 3, 5, 7, 9, 11, 13, 15]"
      ]
     },
     "execution_count": 17,
     "metadata": {},
     "output_type": "execute_result"
    }
   ],
   "source": [
    "num_impar"
   ]
  },
  {
   "cell_type": "markdown",
   "id": "e91b36cb",
   "metadata": {},
   "source": [
    "# reduce()"
   ]
  },
  {
   "cell_type": "markdown",
   "id": "8581d66c",
   "metadata": {},
   "source": [
    "Realiza operações cumulativas em objetos iteráveis."
   ]
  },
  {
   "cell_type": "markdown",
   "id": "9ccd60cb",
   "metadata": {},
   "source": [
    "sintaxe: reduce(função, sequência, valor_inicial)"
   ]
  },
  {
   "cell_type": "code",
   "execution_count": 18,
   "id": "eebcbdc6",
   "metadata": {},
   "outputs": [],
   "source": [
    "from functools import reduce"
   ]
  },
  {
   "cell_type": "code",
   "execution_count": 19,
   "id": "f869eda2",
   "metadata": {},
   "outputs": [],
   "source": [
    "def mult(x, y):\n",
    "    return x * y"
   ]
  },
  {
   "cell_type": "code",
   "execution_count": 20,
   "id": "45a431b2",
   "metadata": {},
   "outputs": [],
   "source": [
    "numeros = [1, 2, 3, 4, 5, 6]"
   ]
  },
  {
   "cell_type": "code",
   "execution_count": 21,
   "id": "f19bbe33",
   "metadata": {},
   "outputs": [],
   "source": [
    "produto = reduce(mult, numeros) # multiplica todos os elementos da lista números, acumulando em produto (neste caso é n!)"
   ]
  },
  {
   "cell_type": "code",
   "execution_count": 22,
   "id": "10fee505",
   "metadata": {},
   "outputs": [
    {
     "data": {
      "text/plain": [
       "720"
      ]
     },
     "execution_count": 22,
     "metadata": {},
     "output_type": "execute_result"
    }
   ],
   "source": [
    "produto"
   ]
  },
  {
   "cell_type": "code",
   "execution_count": null,
   "id": "a8f937a4",
   "metadata": {},
   "outputs": [],
   "source": []
  }
 ],
 "metadata": {
  "kernelspec": {
   "display_name": "Python 3 (ipykernel)",
   "language": "python",
   "name": "python3"
  },
  "language_info": {
   "codemirror_mode": {
    "name": "ipython",
    "version": 3
   },
   "file_extension": ".py",
   "mimetype": "text/x-python",
   "name": "python",
   "nbconvert_exporter": "python",
   "pygments_lexer": "ipython3",
   "version": "3.8.10"
  }
 },
 "nbformat": 4,
 "nbformat_minor": 5
}
