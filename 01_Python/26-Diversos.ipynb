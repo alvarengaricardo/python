{
 "cells": [
  {
   "cell_type": "markdown",
   "id": "04ce6225",
   "metadata": {},
   "source": [
    "# Diversos"
   ]
  },
  {
   "cell_type": "code",
   "execution_count": 1,
   "id": "afb4538f",
   "metadata": {},
   "outputs": [
    {
     "name": "stdout",
     "output_type": "stream",
     "text": [
      "var1: 42, var2: 20\n"
     ]
    }
   ],
   "source": [
    "# trocar valores de variáveis\n",
    "\n",
    "var1 = 20\n",
    "var2 = 42\n",
    "\n",
    "var2, var1 = var1, var2\n",
    "\n",
    "print(f'var1: {var1}, var2: {var2}')"
   ]
  },
  {
   "cell_type": "code",
   "execution_count": 2,
   "id": "0e7dd121",
   "metadata": {},
   "outputs": [
    {
     "data": {
      "text/plain": [
       "20"
      ]
     },
     "execution_count": 2,
     "metadata": {},
     "output_type": "execute_result"
    }
   ],
   "source": [
    "# Operador Ternário\n",
    "\n",
    "menor = var1 if var1 < var2 else var2\n",
    "menor"
   ]
  },
  {
   "cell_type": "code",
   "execution_count": 3,
   "id": "cfd12768",
   "metadata": {},
   "outputs": [
    {
     "data": {
      "text/plain": [
       "[1, 4, 9, 25, 49, 121, 169, 225]"
      ]
     },
     "execution_count": 3,
     "metadata": {},
     "output_type": "execute_result"
    }
   ],
   "source": [
    "# Generator\n",
    "\n",
    "valores = [1, 2, 3, 5, 7, 11, 13, 15]\n",
    "quadrados = (item**2 for item in valores)\n",
    "list(quadrados)"
   ]
  },
  {
   "cell_type": "code",
   "execution_count": 4,
   "id": "c0a16eb1",
   "metadata": {},
   "outputs": [
    {
     "name": "stdout",
     "output_type": "stream",
     "text": [
      "Índice: 0, item: Morango\n",
      "Índice: 1, item: Abacate\n",
      "Índice: 2, item: Uva\n",
      "Índice: 3, item: Abacaxi\n",
      "Índice: 4, item: Banana\n"
     ]
    }
   ],
   "source": [
    "# Enumerate\n",
    "# Itera sobre lista e retorna tupla de indice e elemento\n",
    "\n",
    "frutas = ['Morango', 'Abacate', 'Uva', 'Abacaxi', 'Banana']\n",
    "for i, item in enumerate(frutas):\n",
    "    print(f'Índice: {i}, item: {item}')"
   ]
  },
  {
   "cell_type": "code",
   "execution_count": 5,
   "id": "487ea276",
   "metadata": {},
   "outputs": [
    {
     "name": "stdout",
     "output_type": "stream",
     "text": [
      "Morango\n",
      "Abacate\n",
      "Uva\n",
      "Abacaxi\n",
      "Banana"
     ]
    }
   ],
   "source": [
    "# Gerenciamento de contexto com With\n",
    "\n",
    "with open('frutas.txt', 'r', encoding = 'utf-8') as a:\n",
    "    for linha in a:\n",
    "        print(linha, end = \"\")"
   ]
  },
  {
   "cell_type": "code",
   "execution_count": null,
   "id": "a8c13ad5",
   "metadata": {},
   "outputs": [],
   "source": []
  }
 ],
 "metadata": {
  "kernelspec": {
   "display_name": "Python 3 (ipykernel)",
   "language": "python",
   "name": "python3"
  },
  "language_info": {
   "codemirror_mode": {
    "name": "ipython",
    "version": 3
   },
   "file_extension": ".py",
   "mimetype": "text/x-python",
   "name": "python",
   "nbconvert_exporter": "python",
   "pygments_lexer": "ipython3",
   "version": "3.8.10"
  }
 },
 "nbformat": 4,
 "nbformat_minor": 5
}
