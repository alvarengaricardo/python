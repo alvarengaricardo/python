{
 "cells": [
  {
   "cell_type": "markdown",
   "id": "739fc252",
   "metadata": {},
   "source": [
    "# Inverter uma lista em Python\n",
    "\n",
    "*Inverta uma lista com n elementos.*"
   ]
  },
  {
   "cell_type": "markdown",
   "id": "73632576",
   "metadata": {},
   "source": [
    "Como **NÃO** fazer:"
   ]
  },
  {
   "cell_type": "code",
   "execution_count": 1,
   "id": "749df2a7",
   "metadata": {},
   "outputs": [],
   "source": [
    "x = [0, 1, 2, 3, 4, 5, 6, 7, 8, 9, 10, 11, 12, 13, 14, 15]"
   ]
  },
  {
   "cell_type": "code",
   "execution_count": 2,
   "id": "304799df",
   "metadata": {},
   "outputs": [],
   "source": [
    "y = []"
   ]
  },
  {
   "cell_type": "code",
   "execution_count": 3,
   "id": "8102c884",
   "metadata": {},
   "outputs": [],
   "source": [
    "for i in range(len(x)-1, -1, -1):\n",
    "    y.append(x[i])"
   ]
  },
  {
   "cell_type": "code",
   "execution_count": 4,
   "id": "f64a5bfb",
   "metadata": {},
   "outputs": [
    {
     "name": "stdout",
     "output_type": "stream",
     "text": [
      "[15, 14, 13, 12, 11, 10, 9, 8, 7, 6, 5, 4, 3, 2, 1, 0]\n"
     ]
    }
   ],
   "source": [
    "print(y)"
   ]
  },
  {
   "cell_type": "markdown",
   "id": "f3b4d8ba",
   "metadata": {},
   "source": [
    "##### Problemas:"
   ]
  },
  {
   "cell_type": "markdown",
   "id": "8bdd8816",
   "metadata": {},
   "source": [
    "- Problema inicialmente consumindo espaço *O(n)*, solução consome *O(2n)*\n",
    "- Complexidade de tempo *O(n)*"
   ]
  },
  {
   "cell_type": "markdown",
   "id": "1bc73f24",
   "metadata": {},
   "source": [
    "Uma solução otimizada:"
   ]
  },
  {
   "cell_type": "code",
   "execution_count": 5,
   "id": "2e1313d7",
   "metadata": {},
   "outputs": [],
   "source": [
    "fim = len(x) - 1\n",
    "for i in range(len(x) // 2):\n",
    "    aux = x[i]\n",
    "    x[i] = x[fim]\n",
    "    x[fim] = aux\n",
    "    fim -= 1"
   ]
  },
  {
   "cell_type": "code",
   "execution_count": 6,
   "id": "ec131af2",
   "metadata": {},
   "outputs": [
    {
     "name": "stdout",
     "output_type": "stream",
     "text": [
      "[15, 14, 13, 12, 11, 10, 9, 8, 7, 6, 5, 4, 3, 2, 1, 0]\n"
     ]
    }
   ],
   "source": [
    "print(x)"
   ]
  },
  {
   "cell_type": "markdown",
   "id": "794837da",
   "metadata": {},
   "source": [
    "##### Vantagens:"
   ]
  },
  {
   "cell_type": "markdown",
   "id": "4d99ad57",
   "metadata": {},
   "source": [
    "- O espaço consumido aumenta em apenas dois valores inteiros, o que mantém *O(n)*\n",
    "- A complexidade de tempo cai para *O(n/2)*"
   ]
  },
  {
   "cell_type": "markdown",
   "id": "a5040a50",
   "metadata": {},
   "source": [
    "Pode-se, em Python, utilizar **atribuição múltipla**:"
   ]
  },
  {
   "cell_type": "code",
   "execution_count": 7,
   "id": "cb1499ed",
   "metadata": {},
   "outputs": [
    {
     "data": {
      "text/plain": [
       "[0, 1, 2, 3, 4, 5, 6, 7, 8, 9, 10, 11, 12, 13, 14, 15]"
      ]
     },
     "execution_count": 7,
     "metadata": {},
     "output_type": "execute_result"
    }
   ],
   "source": [
    "x = [0, 1, 2, 3, 4, 5, 6, 7, 8, 9, 10, 11, 12, 13, 14, 15]\n",
    "x"
   ]
  },
  {
   "cell_type": "code",
   "execution_count": 8,
   "id": "e2029bc2",
   "metadata": {},
   "outputs": [
    {
     "data": {
      "text/plain": [
       "[15, 14, 13, 12, 11, 10, 9, 8, 7, 6, 5, 4, 3, 2, 1, 0]"
      ]
     },
     "execution_count": 8,
     "metadata": {},
     "output_type": "execute_result"
    }
   ],
   "source": [
    "fim = len(x) - 1\n",
    "\n",
    "for i in range(len(x) // 2):\n",
    "    x[i], x[fim] = x[fim], x[i]\n",
    "    fim -= 1\n",
    "\n",
    "x"
   ]
  }
 ],
 "metadata": {
  "kernelspec": {
   "display_name": "Python 3 (ipykernel)",
   "language": "python",
   "name": "python3"
  },
  "language_info": {
   "codemirror_mode": {
    "name": "ipython",
    "version": 3
   },
   "file_extension": ".py",
   "mimetype": "text/x-python",
   "name": "python",
   "nbconvert_exporter": "python",
   "pygments_lexer": "ipython3",
   "version": "3.8.10"
  }
 },
 "nbformat": 4,
 "nbformat_minor": 5
}
