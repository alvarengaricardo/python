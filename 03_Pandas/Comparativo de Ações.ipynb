{
 "cells": [
  {
   "cell_type": "markdown",
   "id": "58ba97ea",
   "metadata": {},
   "source": [
    "# Comparativo de Ações"
   ]
  },
  {
   "cell_type": "code",
   "execution_count": 1,
   "id": "aab1f0ee",
   "metadata": {},
   "outputs": [],
   "source": [
    "import pandas as pd\n",
    "import matplotlib.pyplot as plt"
   ]
  },
  {
   "cell_type": "markdown",
   "id": "4a7d243c",
   "metadata": {},
   "source": [
    "https://www.infomoney.com.br/"
   ]
  },
  {
   "cell_type": "code",
   "execution_count": 2,
   "id": "f8be2eef",
   "metadata": {},
   "outputs": [],
   "source": [
    "# importar csv\n",
    "df1 = pd.read_csv(\"BBAS3.csv\")\n",
    "df2 = pd.read_csv(\"ITUB3F.csv\")\n",
    "df3 = pd.read_csv(\"GOLL4.csv\")"
   ]
  },
  {
   "cell_type": "code",
   "execution_count": 3,
   "id": "8bcddd96",
   "metadata": {},
   "outputs": [],
   "source": [
    "# NovoS dfS\n",
    "df1_resumo = df1[['DATA', 'FECHAMENTO']].copy()\n",
    "df1_resumo.columns = ['Data', 'Fechamento']\n",
    "\n",
    "df2_resumo = df2[['DATA', 'FECHAMENTO']].copy()\n",
    "df2_resumo.columns = ['Data', 'Fechamento']\n",
    "\n",
    "df3_resumo = df3[['DATA', 'FECHAMENTO']].copy()\n",
    "df3_resumo.columns = ['Data', 'Fechamento']"
   ]
  },
  {
   "cell_type": "code",
   "execution_count": 4,
   "id": "14825082",
   "metadata": {},
   "outputs": [],
   "source": [
    "# Substituir vírgulas por pontos na coluna Fechamento\n",
    "df1_resumo['Fechamento'] = df1_resumo['Fechamento'].str.replace(',', '.').astype(float)\n",
    "\n",
    "df2_resumo['Fechamento'] = df2_resumo['Fechamento'].str.replace(',', '.').astype(float)\n",
    "\n",
    "df3_resumo['Fechamento'] = df3_resumo['Fechamento'].str.replace(',', '.').astype(float)"
   ]
  },
  {
   "cell_type": "code",
   "execution_count": 5,
   "id": "aa6a1c65",
   "metadata": {},
   "outputs": [],
   "source": [
    "# Exportar df para arquivo.csv\n",
    "df1_resumo.to_csv('DF1_RESUMO.csv', index = False)\n",
    "\n",
    "df2_resumo.to_csv('DF2_RESUMO.csv', index = False)\n",
    "\n",
    "df3_resumo.to_csv('DF3_RESUMO.csv', index = False)"
   ]
  },
  {
   "cell_type": "code",
   "execution_count": 6,
   "id": "ca08ae6a",
   "metadata": {},
   "outputs": [],
   "source": [
    "# Preço médio dos papeis no período\n",
    "preco_medio1 = df1_resumo['Fechamento'].mean()\n",
    "\n",
    "preco_medio2 = df2_resumo['Fechamento'].mean()\n",
    "\n",
    "preco_medio3 = df3_resumo['Fechamento'].mean()"
   ]
  },
  {
   "cell_type": "code",
   "execution_count": 7,
   "id": "46451105",
   "metadata": {},
   "outputs": [
    {
     "name": "stdout",
     "output_type": "stream",
     "text": [
      "Evolução (%) das ações(1): 84.300% - R$ 30.51 - R$ 56.23\n",
      "Evolução (%) das ações(2): 30.787% - R$ 21.34 - R$ 27.91\n",
      "Evolução (%) das ações(3): -58.285% - R$ 6.88 - R$ 2.87\n"
     ]
    }
   ],
   "source": [
    "# Variação % no período\n",
    "df1_ultimo = df1_resumo.at[0, 'Fechamento']\n",
    "df1_primeiro = df1_resumo.at[df1_resumo.index[-1], 'Fechamento']\n",
    "variacao1 = ((df1_ultimo/df1_primeiro) - 1) * 100\n",
    "\n",
    "df2_ultimo = df2_resumo.at[0, 'Fechamento']\n",
    "df2_primeiro = df2_resumo.at[df2_resumo.index[-1], 'Fechamento']\n",
    "variacao2 = ((df2_ultimo/df2_primeiro) - 1) * 100\n",
    "\n",
    "df3_ultimo = df3_resumo.at[0, 'Fechamento']\n",
    "df3_primeiro = df3_resumo.at[df3_resumo.index[-1], 'Fechamento']\n",
    "variacao3 = ((df3_ultimo/df3_primeiro) - 1) * 100\n",
    "\n",
    "print(f'Evolução (%) das ações(1): {variacao1:.3f}% - R$ {df1_primeiro:.2f} - R$ {df1_ultimo:.2f}')\n",
    "print(f'Evolução (%) das ações(2): {variacao2:.3f}% - R$ {df2_primeiro:.2f} - R$ {df2_ultimo:.2f}')\n",
    "print(f'Evolução (%) das ações(3): {variacao3:.3f}% - R$ {df3_primeiro:.2f} - R$ {df3_ultimo:.2f}')"
   ]
  },
  {
   "cell_type": "code",
   "execution_count": 8,
   "id": "63645013",
   "metadata": {},
   "outputs": [
    {
     "data": {
      "text/plain": [
       "30.51"
      ]
     },
     "execution_count": 8,
     "metadata": {},
     "output_type": "execute_result"
    }
   ],
   "source": [
    "df1_primeiro = df1_resumo.at[df1_resumo.index[-1], 'Fechamento']\n",
    "df1_primeiro"
   ]
  },
  {
   "cell_type": "code",
   "execution_count": 9,
   "id": "de753783",
   "metadata": {},
   "outputs": [],
   "source": [
    "# Preços máximos e mínimos dos papeis no período\n",
    "preco_maximo1 = df1_resumo['Fechamento'].max()\n",
    "data_maximo1 = df1_resumo.loc[df1_resumo['Fechamento'].idxmax(), 'Data']\n",
    "\n",
    "preco_minimo1 = df1_resumo['Fechamento'].min()\n",
    "data_minimo1 = df1_resumo.loc[df1_resumo['Fechamento'].idxmin(), 'Data']\n",
    "\n",
    "preco_maximo2 = df2_resumo['Fechamento'].max()\n",
    "data_maximo2 = df2_resumo.loc[df2_resumo['Fechamento'].idxmax(), 'Data']\n",
    "\n",
    "preco_minimo2 = df2_resumo['Fechamento'].min()\n",
    "data_minimo2 = df2_resumo.loc[df2_resumo['Fechamento'].idxmin(), 'Data']"
   ]
  },
  {
   "cell_type": "code",
   "execution_count": 10,
   "id": "d630b144",
   "metadata": {},
   "outputs": [
    {
     "name": "stdout",
     "output_type": "stream",
     "text": [
      "1. Preço médio das ações(1): R$ 44.59\n",
      "2. Preço máximo das ações(1): R$ 56.97 no dia 26/01/2024\n",
      "3. Preço minimo das ações(1): R$ 29.94 no dia 03/01/2023\n",
      "\n",
      "1. Preço médio das ações(2): R$ 24.39\n",
      "2. Preço máximo das ações(2): R$ 28.81 no dia 28/12/2023\n",
      "3. Preço minimo das ações(2): R$ 20.89 no dia 10/03/2023\n",
      "\n",
      "1. Preço médio das ações(3): R$ 7.98\n"
     ]
    }
   ],
   "source": [
    "print(f'1. Preço médio das ações(1): R$ {preco_medio1:.2f}')\n",
    "print(f'2. Preço máximo das ações(1): R$ {preco_maximo1:.2f} no dia {data_maximo1}')\n",
    "print(f'3. Preço minimo das ações(1): R$ {preco_minimo1:.2f} no dia {data_minimo1}\\n')\n",
    "\n",
    "print(f'1. Preço médio das ações(2): R$ {preco_medio2:.2f}')\n",
    "print(f'2. Preço máximo das ações(2): R$ {preco_maximo2:.2f} no dia {data_maximo2}')\n",
    "print(f'3. Preço minimo das ações(2): R$ {preco_minimo2:.2f} no dia {data_minimo2}\\n')\n",
    "\n",
    "print(f'1. Preço médio das ações(3): R$ {preco_medio3:.2f}')"
   ]
  },
  {
   "cell_type": "markdown",
   "id": "c431f645",
   "metadata": {},
   "source": [
    "Compra de 2k ações no 10º dia do período. Qual a posição no 70º dia? Valor total e indicativo de lucro ou prejuízo."
   ]
  },
  {
   "cell_type": "code",
   "execution_count": 11,
   "id": "8d847f34",
   "metadata": {},
   "outputs": [],
   "source": [
    "acoes_adquiridas = 2000\n",
    "data_aquisicao1 = df1_resumo.iloc[9]['Data']\n",
    "preco_aquisicao1 = df1_resumo.iloc[9]['Fechamento']\n",
    "\n",
    "data_venda1 = df1_resumo.iloc[69]['Data']\n",
    "preco_venda1 = df1_resumo.iloc[69]['Fechamento']\n",
    "\n",
    "valor_investido1 = acoes_adquiridas * preco_aquisicao1\n",
    "valor_venda1 = acoes_adquiridas * preco_venda1\n",
    "\n",
    "lucro_prejuizo1 = valor_venda1 - valor_investido1\n",
    "\n",
    "###\n",
    "\n",
    "data_aquisicao2 = df2_resumo.iloc[9]['Data']\n",
    "preco_aquisicao2 = df2_resumo.iloc[9]['Fechamento']\n",
    "\n",
    "data_venda2 = df2_resumo.iloc[69]['Data']\n",
    "preco_venda2 = df2_resumo.iloc[69]['Fechamento']\n",
    "\n",
    "valor_investido2 = acoes_adquiridas * preco_aquisicao2\n",
    "valor_venda2 = acoes_adquiridas * preco_venda2\n",
    "\n",
    "lucro_prejuizo2 = valor_venda2 - valor_investido2"
   ]
  },
  {
   "cell_type": "code",
   "execution_count": 12,
   "id": "d9d206be",
   "metadata": {},
   "outputs": [
    {
     "name": "stdout",
     "output_type": "stream",
     "text": [
      "4. Valor total das ações(1) no dia 70: R$ 96400.00\n",
      "5. O investidor teve prejuizo de R$ 15580.00\n",
      "\n",
      "4. Valor total das ações(2) no dia 70: R$ 46840.00\n",
      "5. O investidor teve prejuizo de R$ 8980.00\n"
     ]
    }
   ],
   "source": [
    "print(f'4. Valor total das ações(1) no dia 70: R$ {valor_venda1:.2f}')\n",
    "print(f'5. O investidor teve {\"lucro\" if lucro_prejuizo1 > 0 else \"prejuizo\"} de R$ {abs(lucro_prejuizo1):.2f}\\n')\n",
    "\n",
    "print(f'4. Valor total das ações(2) no dia 70: R$ {valor_venda2:.2f}')\n",
    "print(f'5. O investidor teve {\"lucro\" if lucro_prejuizo2 > 0 else \"prejuizo\"} de R$ {abs(lucro_prejuizo2):.2f}')"
   ]
  },
  {
   "cell_type": "code",
   "execution_count": 13,
   "id": "0de87d24",
   "metadata": {},
   "outputs": [
    {
     "data": {
      "image/png": "[encoded data removed]",
      "text/plain": [
       "<Figure size 864x432 with 1 Axes>"
      ]
     },
     "metadata": {
      "needs_background": "light"
     },
     "output_type": "display_data"
    }
   ],
   "source": [
    "# Gráfico de evolução dos preços\n",
    "# Converter coluna Data para o formato datetime\n",
    "\n",
    "df1_resumo['Data'] = pd.to_datetime(df1_resumo['Data'], format = \"%d/%m/%Y\")\n",
    "df2_resumo['Data'] = pd.to_datetime(df2_resumo['Data'], format = \"%d/%m/%Y\")\n",
    "df3_resumo['Data'] = pd.to_datetime(df3_resumo['Data'], format = \"%d/%m/%Y\")\n",
    "\n",
    "# Criar Gráfico\n",
    "plt.figure(figsize=(12, 6))\n",
    "plt.plot(df1_resumo['Data'], df1_resumo['Fechamento'], label = 'BB', color = 'green')\n",
    "plt.plot(df2_resumo['Data'], df2_resumo['Fechamento'], label = 'ITAU', color = 'orange')\n",
    "plt.plot(df3_resumo['Data'], df3_resumo['Fechamento'], label = 'GOL', color = 'red')\n",
    "plt.title('Preço Fechamento no Período')\n",
    "plt.xlabel('Data')\n",
    "plt.ylabel('Preço de Fechamento')\n",
    "plt.legend()\n",
    "plt.grid(True)\n",
    "plt.show()"
   ]
  },
  {
   "cell_type": "code",
   "execution_count": null,
   "id": "601554fe",
   "metadata": {},
   "outputs": [],
   "source": []
  }
 ],
 "metadata": {
  "kernelspec": {
   "display_name": "Python 3 (ipykernel)",
   "language": "python",
   "name": "python3"
  },
  "language_info": {
   "codemirror_mode": {
    "name": "ipython",
    "version": 3
   },
   "file_extension": ".py",
   "mimetype": "text/x-python",
   "name": "python",
   "nbconvert_exporter": "python",
   "pygments_lexer": "ipython3",
   "version": "3.8.10"
  }
 },
 "nbformat": 4,
 "nbformat_minor": 5
}
