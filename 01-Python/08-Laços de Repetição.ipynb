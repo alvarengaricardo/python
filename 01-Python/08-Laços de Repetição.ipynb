{
 "cells": [
  {
   "cell_type": "markdown",
   "id": "8d0895f5",
   "metadata": {},
   "source": [
    "# Laços de Repetição"
   ]
  },
  {
   "cell_type": "markdown",
   "id": "1c598d1f",
   "metadata": {},
   "source": [
    "##### while"
   ]
  },
  {
   "cell_type": "code",
   "execution_count": 1,
   "id": "6f9300d9",
   "metadata": {},
   "outputs": [
    {
     "name": "stdout",
     "output_type": "stream",
     "text": [
      "10\n",
      "9\n",
      "8\n",
      "7\n",
      "6\n",
      "5\n",
      "4\n",
      "3\n",
      "2\n",
      "1\n",
      "0\n"
     ]
    }
   ],
   "source": [
    "# while tradicional\n",
    "\n",
    "numero = 10\n",
    "\n",
    "while numero >= 0:\n",
    "    print(numero)\n",
    "    numero -= 1"
   ]
  },
  {
   "cell_type": "code",
   "execution_count": 4,
   "id": "b8775781",
   "metadata": {},
   "outputs": [
    {
     "name": "stdout",
     "output_type": "stream",
     "text": [
      "Nome, ou x para parar: Ricardo\n",
      "--> Ricardo\n",
      "Nome, ou x para parar: Max\n",
      "--> Max\n",
      "Nome, ou x para parar: Lexxi\n",
      "--> Lexxi\n",
      "Nome, ou x para parar: Iva\n",
      "--> Iva\n",
      "Nome, ou x para parar: .\n",
      "--> .\n",
      "Nome, ou x para parar: x\n"
     ]
    }
   ],
   "source": [
    "# while que simula \"do while\"\n",
    "\n",
    "nome = None\n",
    "\n",
    "while True:\n",
    "    nome = input('Nome, ou x para parar: ')\n",
    "    if nome == 'x' or nome == 'X':\n",
    "        break\n",
    "    print(f'--> {nome}')"
   ]
  },
  {
   "cell_type": "markdown",
   "id": "481ef6c6",
   "metadata": {},
   "source": [
    "##### for"
   ]
  },
  {
   "cell_type": "markdown",
   "id": "7f7db3bd",
   "metadata": {},
   "source": [
    "Laço executado sobre um iterável"
   ]
  },
  {
   "cell_type": "code",
   "execution_count": 5,
   "id": "70b58213",
   "metadata": {},
   "outputs": [
    {
     "name": "stdout",
     "output_type": "stream",
     "text": [
      "1\n",
      "2\n",
      "3\n",
      "5\n",
      "7\n",
      "11\n",
      "13\n",
      "17\n"
     ]
    }
   ],
   "source": [
    "lista = [1, 2, 3, 5, 7, 11, 13, 17]\n",
    "\n",
    "for item in lista:\n",
    "    print(item)"
   ]
  },
  {
   "cell_type": "code",
   "execution_count": 6,
   "id": "26a4026d",
   "metadata": {},
   "outputs": [
    {
     "name": "stdout",
     "output_type": "stream",
     "text": [
      "I\n",
      "r\n",
      "o\n",
      "n\n",
      " \n",
      "M\n",
      "a\n",
      "i\n",
      "d\n",
      "e\n",
      "n\n"
     ]
    }
   ],
   "source": [
    "banda = 'Iron Maiden'\n",
    "\n",
    "for letra in banda:\n",
    "    print(letra)"
   ]
  },
  {
   "cell_type": "code",
   "execution_count": 7,
   "id": "639048a7",
   "metadata": {},
   "outputs": [
    {
     "name": "stdout",
     "output_type": "stream",
     "text": [
      "1\n",
      "2\n",
      "3\n",
      "4\n",
      "5\n",
      "6\n",
      "7\n",
      "8\n",
      "9\n",
      "10\n"
     ]
    }
   ],
   "source": [
    "for x in range(1, 11):\n",
    "    print(x)"
   ]
  },
  {
   "cell_type": "code",
   "execution_count": 11,
   "id": "a96b32a1",
   "metadata": {},
   "outputs": [
    {
     "name": "stdout",
     "output_type": "stream",
     "text": [
      "0\n",
      "1\n",
      "2\n",
      "3\n",
      "4\n",
      "5\n",
      "6\n",
      "7\n",
      "8\n",
      "9\n"
     ]
    }
   ],
   "source": [
    "# executa o laço for 'n' vezes, o valor não é importante, mas o número de repetições sim\n",
    "\n",
    "i = 10\n",
    "\n",
    "for i in range(i):\n",
    "    print(i)"
   ]
  },
  {
   "cell_type": "markdown",
   "id": "629faec6",
   "metadata": {},
   "source": [
    "range(inicial, final, incremento)"
   ]
  },
  {
   "cell_type": "code",
   "execution_count": 13,
   "id": "1553bc0f",
   "metadata": {},
   "outputs": [
    {
     "name": "stdout",
     "output_type": "stream",
     "text": [
      "2\n",
      "4\n",
      "6\n",
      "8\n",
      "10\n",
      "12\n",
      "14\n",
      "16\n",
      "18\n",
      "20\n"
     ]
    }
   ],
   "source": [
    "for x in range(2, 21, 2):\n",
    "    print(x)"
   ]
  },
  {
   "cell_type": "code",
   "execution_count": 15,
   "id": "d9a430ad",
   "metadata": {},
   "outputs": [
    {
     "name": "stdout",
     "output_type": "stream",
     "text": [
      "20\n",
      "18\n",
      "16\n",
      "14\n",
      "12\n",
      "10\n",
      "8\n",
      "6\n",
      "4\n",
      "2\n"
     ]
    }
   ],
   "source": [
    "for x in range(20, 1, -2):\n",
    "    print(x)"
   ]
  },
  {
   "cell_type": "code",
   "execution_count": 17,
   "id": "302a6080",
   "metadata": {},
   "outputs": [
    {
     "name": "stdout",
     "output_type": "stream",
     "text": [
      "abacate\n",
      "banana\n",
      "melância\n",
      "melão\n"
     ]
    }
   ],
   "source": [
    "frutas = ('abacate', 'banana', 'melância', 'abacaxi', 'melão')\n",
    "\n",
    "for fruta in frutas:\n",
    "    if fruta == 'abacaxi':\n",
    "        continue # este comando retorna o fluxo de execução para a 1ª linha do laço\n",
    "    print(fruta)"
   ]
  },
  {
   "cell_type": "code",
   "execution_count": 18,
   "id": "17741e19",
   "metadata": {},
   "outputs": [
    {
     "name": "stdout",
     "output_type": "stream",
     "text": [
      "abacate\n",
      "banana\n",
      "melância\n"
     ]
    }
   ],
   "source": [
    "frutas = ('abacate', 'banana', 'melância', 'abacaxi', 'melão')\n",
    "\n",
    "for fruta in frutas:\n",
    "    if fruta == 'abacaxi':\n",
    "        break # este comando aborta o fluxo de execução do laço\n",
    "    print(fruta)"
   ]
  },
  {
   "cell_type": "markdown",
   "id": "e76435d3",
   "metadata": {},
   "source": [
    "##### Laços encadeados"
   ]
  },
  {
   "cell_type": "code",
   "execution_count": 21,
   "id": "c1a85e76",
   "metadata": {},
   "outputs": [
    {
     "name": "stdout",
     "output_type": "stream",
     "text": [
      "* Externo: 1\n",
      "Interno: 5\n",
      "Interno: 4\n",
      "Interno: 3\n",
      "Interno: 2\n",
      "Interno: 1\n",
      "* Externo: 2\n",
      "Interno: 5\n",
      "Interno: 4\n",
      "Interno: 3\n",
      "Interno: 2\n",
      "Interno: 1\n",
      "* Externo: 3\n",
      "Interno: 5\n",
      "Interno: 4\n",
      "Interno: 3\n",
      "Interno: 2\n",
      "Interno: 1\n",
      "* Externo: 4\n",
      "Interno: 5\n",
      "Interno: 4\n",
      "Interno: 3\n",
      "Interno: 2\n",
      "Interno: 1\n",
      "* Externo: 5\n",
      "Interno: 5\n",
      "Interno: 4\n",
      "Interno: 3\n",
      "Interno: 2\n",
      "Interno: 1\n"
     ]
    }
   ],
   "source": [
    "for externo in range(1, 6):\n",
    "    print(f'* Externo: {externo}')\n",
    "    for interno in range(5, 0, -1):\n",
    "        print(f'Interno: {interno}')"
   ]
  },
  {
   "cell_type": "code",
   "execution_count": 22,
   "id": "023d86ba",
   "metadata": {},
   "outputs": [],
   "source": [
    "import random"
   ]
  },
  {
   "cell_type": "code",
   "execution_count": 27,
   "id": "f20a4d49",
   "metadata": {},
   "outputs": [
    {
     "name": "stdout",
     "output_type": "stream",
     "text": [
      "\n",
      "Conjunto 1:\n",
      "Valor: 20\n",
      "Valor: 17\n",
      "Valor: 61\n",
      "Valor: 62\n",
      "Valor: 50\n",
      "\n",
      "Conjunto 2:\n",
      "Valor: 72\n",
      "Valor: 69\n",
      "Valor: 71\n",
      "Valor: 62\n",
      "Valor: 94\n",
      "\n",
      "Conjunto 3:\n",
      "Valor: 62\n",
      "Valor: 14\n",
      "Valor: 62\n",
      "Valor: 76\n",
      "Valor: 22\n",
      "\n",
      "Conjunto 4:\n",
      "Valor: 48\n",
      "Valor: 74\n",
      "Valor: 50\n",
      "Valor: 24\n",
      "Valor: 26\n",
      "\n",
      "Conjunto 5:\n",
      "Valor: 64\n",
      "Valor: 68\n",
      "Valor: 73\n",
      "Valor: 13\n",
      "Valor: 90\n"
     ]
    }
   ],
   "source": [
    "for A in range(1, 6):\n",
    "    print(f'\\nConjunto {A}:')\n",
    "    for B in range(5):\n",
    "        num = random.randint(1, 100)\n",
    "        print(f'Valor: {num}')"
   ]
  },
  {
   "cell_type": "code",
   "execution_count": null,
   "id": "620bcf9e",
   "metadata": {},
   "outputs": [],
   "source": []
  }
 ],
 "metadata": {
  "kernelspec": {
   "display_name": "Python 3 (ipykernel)",
   "language": "python",
   "name": "python3"
  },
  "language_info": {
   "codemirror_mode": {
    "name": "ipython",
    "version": 3
   },
   "file_extension": ".py",
   "mimetype": "text/x-python",
   "name": "python",
   "nbconvert_exporter": "python",
   "pygments_lexer": "ipython3",
   "version": "3.8.10"
  }
 },
 "nbformat": 4,
 "nbformat_minor": 5
}
