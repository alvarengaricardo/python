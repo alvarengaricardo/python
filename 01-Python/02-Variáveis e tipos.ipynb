{
 "cells": [
  {
   "cell_type": "markdown",
   "id": "cb33fd47",
   "metadata": {},
   "source": [
    "# Variáveis e Tipos de Dados"
   ]
  },
  {
   "cell_type": "markdown",
   "id": "55d3b268",
   "metadata": {},
   "source": [
    "### Regras e boas práticas:\n",
    "\n",
    "* Utilize nomes descritivos, mas concisos;\n",
    "* Nomes podem conter letras, números e underscores '_';\n",
    "* Utilize letras minúsculas. Python é case sensitive;\n",
    "* Unicie o nome, somente, com letra ou underscore, nunca com números;\n",
    "* Não aceita espaços em branco;\n",
    "* Utilize underscores _ para separar palavras em nomes compostos (snake_case);\n",
    "* Não use palavras reservadas."
   ]
  },
  {
   "cell_type": "markdown",
   "id": "da90b499",
   "metadata": {},
   "source": [
    "##### Variáveis Numéricas"
   ]
  },
  {
   "cell_type": "code",
   "execution_count": 1,
   "id": "ff2d3b4e",
   "metadata": {},
   "outputs": [
    {
     "data": {
      "text/plain": [
       "int"
      ]
     },
     "execution_count": 1,
     "metadata": {},
     "output_type": "execute_result"
    }
   ],
   "source": [
    "idade = 25\n",
    "type(idade)"
   ]
  },
  {
   "cell_type": "code",
   "execution_count": 2,
   "id": "bb3ac409",
   "metadata": {},
   "outputs": [
    {
     "name": "stdout",
     "output_type": "stream",
     "text": [
      "<class 'int'>\n"
     ]
    }
   ],
   "source": [
    "print(type(idade))"
   ]
  },
  {
   "cell_type": "code",
   "execution_count": 3,
   "id": "d90c5531",
   "metadata": {},
   "outputs": [
    {
     "data": {
      "text/plain": [
       "float"
      ]
     },
     "execution_count": 3,
     "metadata": {},
     "output_type": "execute_result"
    }
   ],
   "source": [
    "altura = 1.75\n",
    "type(altura)"
   ]
  },
  {
   "cell_type": "code",
   "execution_count": 4,
   "id": "ae049dc7",
   "metadata": {},
   "outputs": [
    {
     "data": {
      "text/plain": [
       "complex"
      ]
     },
     "execution_count": 4,
     "metadata": {},
     "output_type": "execute_result"
    }
   ],
   "source": [
    "x = (1 + 2j)\n",
    "type(x)"
   ]
  },
  {
   "cell_type": "markdown",
   "id": "fc5b4b89",
   "metadata": {},
   "source": [
    "##### Variáveis de Texto"
   ]
  },
  {
   "cell_type": "code",
   "execution_count": 5,
   "id": "6cd7d7d9",
   "metadata": {},
   "outputs": [
    {
     "data": {
      "text/plain": [
       "str"
      ]
     },
     "execution_count": 5,
     "metadata": {},
     "output_type": "execute_result"
    }
   ],
   "source": [
    "nome = 'Maria'\n",
    "type(nome)"
   ]
  },
  {
   "cell_type": "code",
   "execution_count": 26,
   "id": "03b8c3cd",
   "metadata": {},
   "outputs": [
    {
     "name": "stdout",
     "output_type": "stream",
     "text": [
      "I told my friend, \"Python is my favorite language!\"\n",
      "The language 'Python' is named after Monty Python, not the snake.\n",
      "One of Python's strenghs is its diverse and supportive community.\n"
     ]
    }
   ],
   "source": [
    "# strings podem ser delimitadas por aspas simples ou duplas. O que facilita a utilização de aspas e apóstrofos em strings\n",
    "\n",
    "str_1 = 'I told my friend, \"Python is my favorite language!\"'\n",
    "str_2 = \"The language 'Python' is named after Monty Python, not the snake.\"\n",
    "str_3 = \"One of Python's strenghs is its diverse and supportive community.\"\n",
    "\n",
    "print(str_1)\n",
    "print(str_2)\n",
    "print(str_3)"
   ]
  },
  {
   "cell_type": "markdown",
   "id": "1da9c0c3",
   "metadata": {},
   "source": [
    "##### Variáveis lógicas"
   ]
  },
  {
   "cell_type": "code",
   "execution_count": 6,
   "id": "f6f0cad4",
   "metadata": {},
   "outputs": [
    {
     "data": {
      "text/plain": [
       "bool"
      ]
     },
     "execution_count": 6,
     "metadata": {},
     "output_type": "execute_result"
    }
   ],
   "source": [
    "possui_carro = True\n",
    "type(possui_carro)"
   ]
  },
  {
   "cell_type": "markdown",
   "id": "513d333f",
   "metadata": {},
   "source": [
    "##### Escopo de variáveis"
   ]
  },
  {
   "cell_type": "markdown",
   "id": "054d4449",
   "metadata": {},
   "source": [
    "Uma variável declarada fora de qualquer função ou bloco de código é considerada global e pode ser acessada de qualquer lugar do programa."
   ]
  },
  {
   "cell_type": "code",
   "execution_count": 7,
   "id": "2f0eb93e",
   "metadata": {},
   "outputs": [],
   "source": [
    "x = 10"
   ]
  },
  {
   "cell_type": "code",
   "execution_count": 8,
   "id": "4009e74c",
   "metadata": {},
   "outputs": [],
   "source": [
    "def minha_funcao():\n",
    "    print(x)"
   ]
  },
  {
   "cell_type": "code",
   "execution_count": 9,
   "id": "eff4392d",
   "metadata": {},
   "outputs": [
    {
     "name": "stdout",
     "output_type": "stream",
     "text": [
      "10\n"
     ]
    }
   ],
   "source": [
    "minha_funcao()  # irá imprimir 10"
   ]
  },
  {
   "cell_type": "markdown",
   "id": "35a0dd1c",
   "metadata": {},
   "source": [
    "Se uma variável é declarada dentro de uma função ou bloco de código, ela é considerada local e só pode ser acessada dentro desse escopo."
   ]
  },
  {
   "cell_type": "code",
   "execution_count": 10,
   "id": "49eebe51",
   "metadata": {},
   "outputs": [],
   "source": [
    "def minha_funcao():\n",
    "    y = 20\n",
    "    print(y)"
   ]
  },
  {
   "cell_type": "code",
   "execution_count": 11,
   "id": "6718ce74",
   "metadata": {},
   "outputs": [
    {
     "name": "stdout",
     "output_type": "stream",
     "text": [
      "20\n"
     ]
    }
   ],
   "source": [
    "minha_funcao()  # irá imprimir 20"
   ]
  },
  {
   "cell_type": "markdown",
   "id": "071776cd",
   "metadata": {},
   "source": [
    "print(y) gera erro"
   ]
  },
  {
   "cell_type": "markdown",
   "id": "66c8123f",
   "metadata": {},
   "source": [
    "##### Boas práticas\n",
    "\n",
    "* Evite utilizar variáveis globais;\n",
    "* Utilize parâmetros de função para passar valores entre diferentes partes do programa;\n",
    "* Evite utilizar o mesmo nome para variáveis globais e locais;\n",
    "* Utilize o comando “global” para acessar variáveis globais dentro de uma função."
   ]
  },
  {
   "cell_type": "code",
   "execution_count": 13,
   "id": "7206104b",
   "metadata": {},
   "outputs": [],
   "source": [
    "x = 10\n",
    "\n",
    "def minha_funcao():\n",
    "    global x\n",
    "    x = 20\n",
    "    print(x)"
   ]
  },
  {
   "cell_type": "code",
   "execution_count": 14,
   "id": "358c71c7",
   "metadata": {},
   "outputs": [
    {
     "name": "stdout",
     "output_type": "stream",
     "text": [
      "20\n"
     ]
    }
   ],
   "source": [
    "minha_funcao()  # irá imprimir 20"
   ]
  },
  {
   "cell_type": "code",
   "execution_count": 15,
   "id": "77cfad22",
   "metadata": {},
   "outputs": [
    {
     "name": "stdout",
     "output_type": "stream",
     "text": [
      "20\n"
     ]
    }
   ],
   "source": [
    "print(x)  # irá imprimir 20, pois a variável global x foi modificada dentro da função"
   ]
  },
  {
   "cell_type": "markdown",
   "id": "679d6647",
   "metadata": {},
   "source": [
    "##### Atribuições"
   ]
  },
  {
   "cell_type": "code",
   "execution_count": 16,
   "id": "a436a78c",
   "metadata": {},
   "outputs": [
    {
     "data": {
      "text/plain": [
       "0"
      ]
     },
     "execution_count": 16,
     "metadata": {},
     "output_type": "execute_result"
    }
   ],
   "source": [
    "media = 0\n",
    "media"
   ]
  },
  {
   "cell_type": "code",
   "execution_count": 17,
   "id": "e18069d7",
   "metadata": {},
   "outputs": [],
   "source": [
    "n1 = n2 = n3 = n4 = 0.0"
   ]
  },
  {
   "cell_type": "code",
   "execution_count": 18,
   "id": "b0fb07bb",
   "metadata": {},
   "outputs": [
    {
     "data": {
      "text/plain": [
       "0.0"
      ]
     },
     "execution_count": 18,
     "metadata": {},
     "output_type": "execute_result"
    }
   ],
   "source": [
    "n1"
   ]
  },
  {
   "cell_type": "code",
   "execution_count": 19,
   "id": "00d1e50b",
   "metadata": {},
   "outputs": [],
   "source": [
    "nome, idade = 'João', 42"
   ]
  },
  {
   "cell_type": "code",
   "execution_count": 20,
   "id": "84b498ab",
   "metadata": {},
   "outputs": [
    {
     "data": {
      "text/plain": [
       "'João'"
      ]
     },
     "execution_count": 20,
     "metadata": {},
     "output_type": "execute_result"
    }
   ],
   "source": [
    "nome"
   ]
  },
  {
   "cell_type": "code",
   "execution_count": 21,
   "id": "a46c20d7",
   "metadata": {},
   "outputs": [
    {
     "data": {
      "text/plain": [
       "42"
      ]
     },
     "execution_count": 21,
     "metadata": {},
     "output_type": "execute_result"
    }
   ],
   "source": [
    "idade"
   ]
  },
  {
   "cell_type": "markdown",
   "id": "d5a1dc0b",
   "metadata": {},
   "source": [
    "##### Instâncias"
   ]
  },
  {
   "cell_type": "code",
   "execution_count": 22,
   "id": "fca51fd0",
   "metadata": {},
   "outputs": [],
   "source": [
    "a = 10\n",
    "b = 'Sol'"
   ]
  },
  {
   "cell_type": "code",
   "execution_count": 23,
   "id": "df3a658a",
   "metadata": {},
   "outputs": [
    {
     "data": {
      "text/plain": [
       "True"
      ]
     },
     "execution_count": 23,
     "metadata": {},
     "output_type": "execute_result"
    }
   ],
   "source": [
    "isinstance(a, int)"
   ]
  },
  {
   "cell_type": "code",
   "execution_count": 24,
   "id": "c6712ea6",
   "metadata": {},
   "outputs": [
    {
     "data": {
      "text/plain": [
       "False"
      ]
     },
     "execution_count": 24,
     "metadata": {},
     "output_type": "execute_result"
    }
   ],
   "source": [
    "isinstance(b, int)"
   ]
  },
  {
   "cell_type": "code",
   "execution_count": 25,
   "id": "7abe2b0f",
   "metadata": {},
   "outputs": [
    {
     "data": {
      "text/plain": [
       "True"
      ]
     },
     "execution_count": 25,
     "metadata": {},
     "output_type": "execute_result"
    }
   ],
   "source": [
    "isinstance(b, str)"
   ]
  },
  {
   "cell_type": "code",
   "execution_count": null,
   "id": "eb21c961",
   "metadata": {},
   "outputs": [],
   "source": []
  }
 ],
 "metadata": {
  "kernelspec": {
   "display_name": "Python 3 (ipykernel)",
   "language": "python",
   "name": "python3"
  },
  "language_info": {
   "codemirror_mode": {
    "name": "ipython",
    "version": 3
   },
   "file_extension": ".py",
   "mimetype": "text/x-python",
   "name": "python",
   "nbconvert_exporter": "python",
   "pygments_lexer": "ipython3",
   "version": "3.8.10"
  }
 },
 "nbformat": 4,
 "nbformat_minor": 5
}
