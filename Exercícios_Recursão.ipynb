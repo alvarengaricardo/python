{
 "cells": [
  {
   "cell_type": "markdown",
   "metadata": {
    "colab_type": "text",
    "id": "view-in-github"
   },
   "source": [
    "<a href=\"https://colab.research.google.com/github/alvarengaricardo/python/blob/main/Exerc%C3%ADcios_Recurs%C3%A3o.ipynb\" target=\"_parent\"><img src=\"https://colab.research.google.com/assets/colab-badge.svg\" alt=\"Open In Colab\"/></a>"
   ]
  },
  {
   "cell_type": "markdown",
   "metadata": {
    "id": "vN5dGU1I7nNg"
   },
   "source": [
    "# Exercícios recursão"
   ]
  },
  {
   "cell_type": "markdown",
   "metadata": {
    "id": "Tqg0Orl18B49"
   },
   "source": [
    "## Fatorial\n",
    "\n",
    "O fatorial de um número inteiro m não negativo, é indicado por m! (lê-se \"m fatorial\") e é definido pela relação:\n",
    "\n",
    "m!=m⋅(m−1)⋅(m−2)⋅(m−3)...3⋅2⋅1, para m ≥ 2.\n",
    "\n",
    "Algumas definições são:\n",
    "\n",
    "- 1! = 1 (fatorial de 1) - critério de parada\n",
    "- 0! = 1 (fatorial de 0)\n",
    "\n",
    "Exemplos:\n",
    "\n",
    "- 3! = 3 . 2 . 1 = 6\n",
    "- 4! = 4 . 3 . 2 . 1 = 24\n",
    "- 6! = 6 . 5 . 4 . 3 . 2 . 1 = 720\n",
    "\n",
    "Fonte: https://www.infoescola.com/matematica/fatorial/"
   ]
  },
  {
   "cell_type": "code",
   "execution_count": 1,
   "metadata": {
    "id": "AqJ0U7hJ7kQa"
   },
   "outputs": [],
   "source": [
    "def fatorial(n):\n",
    "  if n == 0:\n",
    "    return 1\n",
    "  return n * fatorial(n - 1)"
   ]
  },
  {
   "cell_type": "code",
   "execution_count": 2,
   "metadata": {
    "colab": {
     "base_uri": "https://localhost:8080/",
     "height": 55
    },
    "id": "jP0ZUMfvgaJK",
    "outputId": "430b8446-8c68-4b34-8ef6-6ecb2ac297ab"
   },
   "outputs": [
    {
     "data": {
      "text/plain": [
       "6"
      ]
     },
     "execution_count": 2,
     "metadata": {},
     "output_type": "execute_result"
    }
   ],
   "source": [
    "fatorial(3)"
   ]
  },
  {
   "cell_type": "code",
   "execution_count": 3,
   "metadata": {
    "colab": {
     "base_uri": "https://localhost:8080/",
     "height": 55
    },
    "id": "IztVJm9agg2q",
    "outputId": "ba3f1dce-3cf6-487a-9d7a-3f29ba24a243"
   },
   "outputs": [
    {
     "data": {
      "text/plain": [
       "24"
      ]
     },
     "execution_count": 3,
     "metadata": {},
     "output_type": "execute_result"
    }
   ],
   "source": [
    "fatorial(4)"
   ]
  },
  {
   "cell_type": "code",
   "execution_count": 4,
   "metadata": {
    "colab": {
     "base_uri": "https://localhost:8080/",
     "height": 55
    },
    "id": "A-yuzfcWgi1S",
    "outputId": "8f5254c2-3eaa-4202-9e3b-93ebd7b11977"
   },
   "outputs": [
    {
     "data": {
      "text/plain": [
       "720"
      ]
     },
     "execution_count": 4,
     "metadata": {},
     "output_type": "execute_result"
    }
   ],
   "source": [
    "fatorial(6)"
   ]
  },
  {
   "cell_type": "markdown",
   "metadata": {
    "id": "TUD8Y4wkPPZ_"
   },
   "source": [
    "## Exponenciação\n",
    "\n",
    "Crie uma função recursiva que calcule o valor de a (base) elevado a b (expoente)\n",
    "\n",
    "- Se o expoente for zero, a potência é igual 1 (critério de parada)\n",
    "- Não considere exponenciação de números negativos"
   ]
  },
  {
   "cell_type": "code",
   "execution_count": 5,
   "metadata": {
    "id": "Ixazo1wKiGC6"
   },
   "outputs": [],
   "source": [
    "def potencia(base, expoente):\n",
    "  if expoente == 0:\n",
    "    return 1\n",
    "\n",
    "  return base * potencia(base, expoente - 1)"
   ]
  },
  {
   "cell_type": "code",
   "execution_count": 6,
   "metadata": {
    "colab": {
     "base_uri": "https://localhost:8080/",
     "height": 55
    },
    "id": "ixrUCgJ2iXc0",
    "outputId": "0cd16461-a4c7-4bde-bdec-163139a22908"
   },
   "outputs": [
    {
     "data": {
      "text/plain": [
       "4"
      ]
     },
     "execution_count": 6,
     "metadata": {},
     "output_type": "execute_result"
    }
   ],
   "source": [
    "potencia(2, 2)"
   ]
  },
  {
   "cell_type": "code",
   "execution_count": 7,
   "metadata": {
    "colab": {
     "base_uri": "https://localhost:8080/",
     "height": 55
    },
    "id": "3WZd4NIciZ-q",
    "outputId": "fe7ef4d9-4225-45c4-ec1d-bfd4728cf05a"
   },
   "outputs": [
    {
     "data": {
      "text/plain": [
       "8"
      ]
     },
     "execution_count": 7,
     "metadata": {},
     "output_type": "execute_result"
    }
   ],
   "source": [
    "potencia(2, 3)"
   ]
  },
  {
   "cell_type": "code",
   "execution_count": 9,
   "metadata": {
    "colab": {
     "base_uri": "https://localhost:8080/",
     "height": 55
    },
    "id": "QqLle9kGicIr",
    "outputId": "23659183-b42f-4de6-bcd3-a0a12b796242"
   },
   "outputs": [
    {
     "data": {
      "text/plain": [
       "32"
      ]
     },
     "execution_count": 9,
     "metadata": {},
     "output_type": "execute_result"
    }
   ],
   "source": [
    "potencia(2, 5)"
   ]
  },
  {
   "cell_type": "code",
   "execution_count": null,
   "metadata": {},
   "outputs": [],
   "source": []
  }
 ],
 "metadata": {
  "colab": {
   "include_colab_link": true,
   "provenance": []
  },
  "kernelspec": {
   "display_name": "Python 3 (ipykernel)",
   "language": "python",
   "name": "python3"
  },
  "language_info": {
   "codemirror_mode": {
    "name": "ipython",
    "version": 3
   },
   "file_extension": ".py",
   "mimetype": "text/x-python",
   "name": "python",
   "nbconvert_exporter": "python",
   "pygments_lexer": "ipython3",
   "version": "3.8.10"
  }
 },
 "nbformat": 4,
 "nbformat_minor": 1
}
