{
  "nbformat": 4,
  "nbformat_minor": 0,
  "metadata": {
    "colab": {
      "provenance": [],
      "include_colab_link": true
    },
    "kernelspec": {
      "name": "python3",
      "display_name": "Python 3"
    }
  },
  "cells": [
    {
      "cell_type": "markdown",
      "metadata": {
        "id": "view-in-github",
        "colab_type": "text"
      },
      "source": [
        "<a href=\"https://colab.research.google.com/github/alvarengaricardo/python/blob/main/Exerc%C3%ADcios_Recurs%C3%A3o.ipynb\" target=\"_parent\"><img src=\"https://colab.research.google.com/assets/colab-badge.svg\" alt=\"Open In Colab\"/></a>"
      ]
    },
    {
      "cell_type": "markdown",
      "metadata": {
        "id": "vN5dGU1I7nNg"
      },
      "source": [
        "# Exercícios recursão"
      ]
    },
    {
      "cell_type": "markdown",
      "metadata": {
        "id": "Tqg0Orl18B49"
      },
      "source": [
        "## Fatorial\n",
        "\n",
        "O fatorial de um número inteiro m não negativo, é indicado por m! (lê-se \"m fatorial\") e é definido pela relação:\n",
        "\n",
        "m!=m⋅(m−1)⋅(m−2)⋅(m−3)...3⋅2⋅1, para m ≥ 2.\n",
        "\n",
        "Algumas definições são:\n",
        "\n",
        "- 1! = 1 (fatorial de 1) - critério de parada\n",
        "- 0! = 1 (fatorial de 0)\n",
        "\n",
        "Exemplos:\n",
        "\n",
        "- 3! = 3 . 2 . 1 = 6\n",
        "- 4! = 4 . 3 . 2 . 1 = 24\n",
        "- 6! = 6 . 5 . 4 . 3 . 2 . 1 = 720\n",
        "\n",
        "Fonte: https://www.infoescola.com/matematica/fatorial/"
      ]
    },
    {
      "cell_type": "code",
      "metadata": {
        "id": "AqJ0U7hJ7kQa"
      },
      "source": [
        "def fatorial(n):\n",
        "  if n == 0:\n",
        "    return 1\n",
        "  return n * fatorial(n - 1)"
      ],
      "execution_count": null,
      "outputs": []
    },
    {
      "cell_type": "code",
      "metadata": {
        "id": "jP0ZUMfvgaJK",
        "colab": {
          "base_uri": "https://localhost:8080/",
          "height": 55
        },
        "outputId": "430b8446-8c68-4b34-8ef6-6ecb2ac297ab"
      },
      "source": [
        "fatorial(3)"
      ],
      "execution_count": null,
      "outputs": [
        {
          "output_type": "execute_result",
          "data": {
            "text/plain": [
              "6"
            ]
          },
          "metadata": {
            "tags": []
          },
          "execution_count": 2
        }
      ]
    },
    {
      "cell_type": "code",
      "metadata": {
        "id": "IztVJm9agg2q",
        "colab": {
          "base_uri": "https://localhost:8080/",
          "height": 55
        },
        "outputId": "ba3f1dce-3cf6-487a-9d7a-3f29ba24a243"
      },
      "source": [
        "fatorial(4)"
      ],
      "execution_count": null,
      "outputs": [
        {
          "output_type": "execute_result",
          "data": {
            "text/plain": [
              "24"
            ]
          },
          "metadata": {
            "tags": []
          },
          "execution_count": 3
        }
      ]
    },
    {
      "cell_type": "code",
      "metadata": {
        "id": "A-yuzfcWgi1S",
        "colab": {
          "base_uri": "https://localhost:8080/",
          "height": 55
        },
        "outputId": "8f5254c2-3eaa-4202-9e3b-93ebd7b11977"
      },
      "source": [
        "fatorial(6)"
      ],
      "execution_count": null,
      "outputs": [
        {
          "output_type": "execute_result",
          "data": {
            "text/plain": [
              "720"
            ]
          },
          "metadata": {
            "tags": []
          },
          "execution_count": 4
        }
      ]
    },
    {
      "cell_type": "markdown",
      "metadata": {
        "id": "TUD8Y4wkPPZ_"
      },
      "source": [
        "## Exponenciação\n",
        "\n",
        "Crie uma função recursiva que calcule o valor de a (base) elevado a b (expoente)\n",
        "\n",
        "- Se o expoente for zero, a potência é igual 1 (critério de parada)\n",
        "- Não considere exponenciação de números negativos"
      ]
    },
    {
      "cell_type": "code",
      "metadata": {
        "id": "Ixazo1wKiGC6"
      },
      "source": [
        "def potencia(base, expoente):\n",
        "  if expoente == 0:\n",
        "    return 1\n",
        "\n",
        "  return base * potencia(base, expoente - 1)"
      ],
      "execution_count": null,
      "outputs": []
    },
    {
      "cell_type": "code",
      "metadata": {
        "id": "ixrUCgJ2iXc0",
        "colab": {
          "base_uri": "https://localhost:8080/",
          "height": 55
        },
        "outputId": "0cd16461-a4c7-4bde-bdec-163139a22908"
      },
      "source": [
        "potencia(2, 2)"
      ],
      "execution_count": null,
      "outputs": [
        {
          "output_type": "execute_result",
          "data": {
            "text/plain": [
              "4"
            ]
          },
          "metadata": {
            "tags": []
          },
          "execution_count": 6
        }
      ]
    },
    {
      "cell_type": "code",
      "metadata": {
        "id": "3WZd4NIciZ-q",
        "colab": {
          "base_uri": "https://localhost:8080/",
          "height": 55
        },
        "outputId": "fe7ef4d9-4225-45c4-ec1d-bfd4728cf05a"
      },
      "source": [
        "potencia(2, 3)"
      ],
      "execution_count": null,
      "outputs": [
        {
          "output_type": "execute_result",
          "data": {
            "text/plain": [
              "8"
            ]
          },
          "metadata": {
            "tags": []
          },
          "execution_count": 7
        }
      ]
    },
    {
      "cell_type": "code",
      "metadata": {
        "id": "QqLle9kGicIr",
        "colab": {
          "base_uri": "https://localhost:8080/",
          "height": 55
        },
        "outputId": "23659183-b42f-4de6-bcd3-a0a12b796242"
      },
      "source": [
        "potencia(2, 4)"
      ],
      "execution_count": null,
      "outputs": [
        {
          "output_type": "execute_result",
          "data": {
            "text/plain": [
              "16"
            ]
          },
          "metadata": {
            "tags": []
          },
          "execution_count": 8
        }
      ]
    }
  ]
}