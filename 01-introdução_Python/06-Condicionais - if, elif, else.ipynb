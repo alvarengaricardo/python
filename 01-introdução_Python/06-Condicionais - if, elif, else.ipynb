{
 "cells": [
  {
   "cell_type": "markdown",
   "id": "d2baed78",
   "metadata": {},
   "source": [
    "# Condicionais - if, elif, else"
   ]
  },
  {
   "cell_type": "code",
   "execution_count": 1,
   "id": "467bb6ec",
   "metadata": {},
   "outputs": [],
   "source": [
    "def verifica(media):\n",
    "    if (media >= 7):\n",
    "        return 'Aprovado'\n",
    "    elif (media >= 5):\n",
    "        return 'Exame'\n",
    "    else:\n",
    "        return 'Reprovado'"
   ]
  },
  {
   "cell_type": "code",
   "execution_count": 2,
   "id": "e782c816",
   "metadata": {},
   "outputs": [
    {
     "data": {
      "text/plain": [
       "'Aprovado'"
      ]
     },
     "execution_count": 2,
     "metadata": {},
     "output_type": "execute_result"
    }
   ],
   "source": [
    "verifica(10)"
   ]
  },
  {
   "cell_type": "code",
   "execution_count": 3,
   "id": "e3485262",
   "metadata": {},
   "outputs": [
    {
     "data": {
      "text/plain": [
       "'Aprovado'"
      ]
     },
     "execution_count": 3,
     "metadata": {},
     "output_type": "execute_result"
    }
   ],
   "source": [
    "verifica(7)"
   ]
  },
  {
   "cell_type": "code",
   "execution_count": 4,
   "id": "4bab29ed",
   "metadata": {},
   "outputs": [
    {
     "data": {
      "text/plain": [
       "'Exame'"
      ]
     },
     "execution_count": 4,
     "metadata": {},
     "output_type": "execute_result"
    }
   ],
   "source": [
    "verifica(6.9)"
   ]
  },
  {
   "cell_type": "code",
   "execution_count": 5,
   "id": "e419e317",
   "metadata": {},
   "outputs": [
    {
     "data": {
      "text/plain": [
       "'Exame'"
      ]
     },
     "execution_count": 5,
     "metadata": {},
     "output_type": "execute_result"
    }
   ],
   "source": [
    "verifica(5)"
   ]
  },
  {
   "cell_type": "code",
   "execution_count": 6,
   "id": "e7a8a19b",
   "metadata": {},
   "outputs": [
    {
     "data": {
      "text/plain": [
       "'Reprovado'"
      ]
     },
     "execution_count": 6,
     "metadata": {},
     "output_type": "execute_result"
    }
   ],
   "source": [
    "verifica(4.9)"
   ]
  },
  {
   "cell_type": "code",
   "execution_count": 7,
   "id": "97c81741",
   "metadata": {},
   "outputs": [],
   "source": [
    "# deselegante, mas funciona\n",
    "def funcao(valor):\n",
    "    if (valor > 10):\n",
    "        return 'Maior que 10.'\n",
    "    if (valor >= 8):\n",
    "        return 'Entre 10 e 8'\n",
    "    elif (valor >= 6):\n",
    "        return 'Entre 8 e 6'\n",
    "    elif (valor >= 4):\n",
    "        return 'Entre 6 e 4'\n",
    "    else:\n",
    "        return 'Valor muito baixo'"
   ]
  },
  {
   "cell_type": "code",
   "execution_count": 8,
   "id": "ffbf4ed4",
   "metadata": {},
   "outputs": [
    {
     "data": {
      "text/plain": [
       "'Maior que 10.'"
      ]
     },
     "execution_count": 8,
     "metadata": {},
     "output_type": "execute_result"
    }
   ],
   "source": [
    "funcao(11)"
   ]
  },
  {
   "cell_type": "code",
   "execution_count": 9,
   "id": "4ce3af68",
   "metadata": {},
   "outputs": [
    {
     "data": {
      "text/plain": [
       "'Entre 10 e 8'"
      ]
     },
     "execution_count": 9,
     "metadata": {},
     "output_type": "execute_result"
    }
   ],
   "source": [
    "funcao(9)"
   ]
  },
  {
   "cell_type": "code",
   "execution_count": 10,
   "id": "d040dd3b",
   "metadata": {},
   "outputs": [
    {
     "data": {
      "text/plain": [
       "'Entre 8 e 6'"
      ]
     },
     "execution_count": 10,
     "metadata": {},
     "output_type": "execute_result"
    }
   ],
   "source": [
    "funcao(7)"
   ]
  },
  {
   "cell_type": "code",
   "execution_count": 11,
   "id": "169f4151",
   "metadata": {},
   "outputs": [
    {
     "data": {
      "text/plain": [
       "'Entre 6 e 4'"
      ]
     },
     "execution_count": 11,
     "metadata": {},
     "output_type": "execute_result"
    }
   ],
   "source": [
    "funcao(5)"
   ]
  },
  {
   "cell_type": "code",
   "execution_count": 12,
   "id": "2da95988",
   "metadata": {},
   "outputs": [
    {
     "data": {
      "text/plain": [
       "'Valor muito baixo'"
      ]
     },
     "execution_count": 12,
     "metadata": {},
     "output_type": "execute_result"
    }
   ],
   "source": [
    "funcao(3)"
   ]
  },
  {
   "cell_type": "code",
   "execution_count": null,
   "id": "f214e9e8",
   "metadata": {},
   "outputs": [],
   "source": []
  }
 ],
 "metadata": {
  "kernelspec": {
   "display_name": "Python 3 (ipykernel)",
   "language": "python",
   "name": "python3"
  },
  "language_info": {
   "codemirror_mode": {
    "name": "ipython",
    "version": 3
   },
   "file_extension": ".py",
   "mimetype": "text/x-python",
   "name": "python",
   "nbconvert_exporter": "python",
   "pygments_lexer": "ipython3",
   "version": "3.8.10"
  }
 },
 "nbformat": 4,
 "nbformat_minor": 5
}
