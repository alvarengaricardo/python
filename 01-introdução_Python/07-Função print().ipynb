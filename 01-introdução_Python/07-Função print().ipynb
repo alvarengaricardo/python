{
 "cells": [
  {
   "cell_type": "markdown",
   "id": "fb4f85d5",
   "metadata": {},
   "source": [
    "# Função print()"
   ]
  },
  {
   "cell_type": "markdown",
   "id": "f17787e8",
   "metadata": {},
   "source": [
    "Formato: print(objetos, argumentos)"
   ]
  },
  {
   "cell_type": "code",
   "execution_count": 1,
   "id": "54ef91ec",
   "metadata": {},
   "outputs": [
    {
     "name": "stdout",
     "output_type": "stream",
     "text": [
      "Função print()\n"
     ]
    }
   ],
   "source": [
    "mensagem = 'Função print()'\n",
    "print(mensagem)"
   ]
  },
  {
   "cell_type": "code",
   "execution_count": 2,
   "id": "f0c8ba84",
   "metadata": {},
   "outputs": [
    {
     "name": "stdout",
     "output_type": "stream",
     "text": [
      "Aula de Python\n"
     ]
    }
   ],
   "source": [
    "print('Aula de Python')"
   ]
  },
  {
   "cell_type": "code",
   "execution_count": 3,
   "id": "ecf29597",
   "metadata": {},
   "outputs": [
    {
     "name": "stdout",
     "output_type": "stream",
     "text": [
      "6\n"
     ]
    }
   ],
   "source": [
    "a = 5\n",
    "print(a + 1)"
   ]
  },
  {
   "cell_type": "code",
   "execution_count": 4,
   "id": "4af05ba8",
   "metadata": {},
   "outputs": [
    {
     "name": "stdout",
     "output_type": "stream",
     "text": [
      "Aula de Python - João Silva\n"
     ]
    }
   ],
   "source": [
    "nome = 'João Silva'\n",
    "print('Aula de Python -', nome)"
   ]
  },
  {
   "cell_type": "code",
   "execution_count": 5,
   "id": "3d194954",
   "metadata": {},
   "outputs": [
    {
     "name": "stdout",
     "output_type": "stream",
     "text": [
      "Olá João Silva\n"
     ]
    }
   ],
   "source": [
    "nome = 'João'\n",
    "sobrenome = 'Silva'\n",
    "msg = 'Olá ' + nome + ' ' + sobrenome\n",
    "print(msg)"
   ]
  },
  {
   "cell_type": "code",
   "execution_count": 6,
   "id": "ef0a301e",
   "metadata": {},
   "outputs": [
    {
     "name": "stdout",
     "output_type": "stream",
     "text": [
      "Imprime e muda de linha.\n",
      "Imprime e permanece na linha. * - * Mesma linha.\n"
     ]
    }
   ],
   "source": [
    "print('Imprime e muda de linha.')\n",
    "print('Imprime e permanece na linha. ', end = '* - *') ## substitui '\\n' pelo valor de 'end'\n",
    "print(' Mesma linha.')"
   ]
  },
  {
   "cell_type": "code",
   "execution_count": 7,
   "id": "e224dfe5",
   "metadata": {},
   "outputs": [
    {
     "name": "stdout",
     "output_type": "stream",
     "text": [
      "Nome: Maria, idade: 30\n"
     ]
    }
   ],
   "source": [
    "nome = 'Maria'\n",
    "idade = 30\n",
    "msg_formatada = 'Nome: {0}, idade: {1}'.format(nome, idade)\n",
    "print(msg_formatada)"
   ]
  },
  {
   "cell_type": "code",
   "execution_count": 8,
   "id": "bd99b47d",
   "metadata": {},
   "outputs": [
    {
     "name": "stdout",
     "output_type": "stream",
     "text": [
      "Nome: Maria, idade: 30\n"
     ]
    }
   ],
   "source": [
    "msg_formatada2 = (f'Nome: {nome}, idade: {idade}')\n",
    "print(msg_formatada2)"
   ]
  },
  {
   "cell_type": "code",
   "execution_count": 9,
   "id": "165fae5b",
   "metadata": {},
   "outputs": [
    {
     "name": "stdout",
     "output_type": "stream",
     "text": [
      "Nome: Maria, idade: 30\n"
     ]
    }
   ],
   "source": [
    "print(f'Nome: {nome}, idade: {idade}') # preferível"
   ]
  },
  {
   "cell_type": "code",
   "execution_count": 10,
   "id": "43132b4d",
   "metadata": {},
   "outputs": [
    {
     "name": "stdout",
     "output_type": "stream",
     "text": [
      "\tNome: Maria\tIdade: 30\n"
     ]
    }
   ],
   "source": [
    "print(f'\\tNome: {nome}\\tIdade: {idade}') # \\t tabula a impressão"
   ]
  },
  {
   "cell_type": "code",
   "execution_count": 11,
   "id": "e459a2ab",
   "metadata": {},
   "outputs": [
    {
     "name": "stdout",
     "output_type": "stream",
     "text": [
      "\tNome:\tMaria\n",
      "\tIdade:\t30\n"
     ]
    }
   ],
   "source": [
    "print(f'\\tNome:\\t{nome}\\n\\tIdade:\\t{idade}')"
   ]
  },
  {
   "cell_type": "code",
   "execution_count": 12,
   "id": "150dbfef",
   "metadata": {},
   "outputs": [
    {
     "name": "stdout",
     "output_type": "stream",
     "text": [
      "a + b = 15\n"
     ]
    }
   ],
   "source": [
    "a = 10\n",
    "b = 5\n",
    "print(f'a + b = {a+b}')"
   ]
  },
  {
   "cell_type": "code",
   "execution_count": 13,
   "id": "95b08f5e",
   "metadata": {},
   "outputs": [
    {
     "name": "stdout",
     "output_type": "stream",
     "text": [
      "Valor: 53.8573159845\n",
      "Valor: 53.86\n",
      "Valor: '53.86'\n"
     ]
    }
   ],
   "source": [
    "valor = 53.8573159845\n",
    "print(f'Valor: {valor}')\n",
    "print(f'Valor: {valor:.2f}')\n",
    "print(f'Valor: \\'{valor:.2f}\\'')"
   ]
  },
  {
   "cell_type": "code",
   "execution_count": 14,
   "id": "e15ad8cf",
   "metadata": {},
   "outputs": [
    {
     "name": "stdout",
     "output_type": "stream",
     "text": [
      "c:\\pasta1\\pasta2\n"
     ]
    }
   ],
   "source": [
    "print('c:\\\\pasta1\\\\pasta2')"
   ]
  },
  {
   "cell_type": "code",
   "execution_count": null,
   "id": "14acb2ab",
   "metadata": {},
   "outputs": [],
   "source": []
  }
 ],
 "metadata": {
  "kernelspec": {
   "display_name": "Python 3 (ipykernel)",
   "language": "python",
   "name": "python3"
  },
  "language_info": {
   "codemirror_mode": {
    "name": "ipython",
    "version": 3
   },
   "file_extension": ".py",
   "mimetype": "text/x-python",
   "name": "python",
   "nbconvert_exporter": "python",
   "pygments_lexer": "ipython3",
   "version": "3.8.10"
  }
 },
 "nbformat": 4,
 "nbformat_minor": 5
}
