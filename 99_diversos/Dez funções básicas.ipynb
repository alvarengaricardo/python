{
 "cells": [
  {
   "cell_type": "markdown",
   "id": "840f40f8",
   "metadata": {},
   "source": [
    "# Dez Funções Básicas"
   ]
  },
  {
   "cell_type": "markdown",
   "id": "25a37bde",
   "metadata": {},
   "source": [
    "##### print()\n",
    "Exibe valor ou mensagem."
   ]
  },
  {
   "cell_type": "code",
   "execution_count": 1,
   "id": "fd4f56b8",
   "metadata": {},
   "outputs": [
    {
     "name": "stdout",
     "output_type": "stream",
     "text": [
      "Olá mundo!\n",
      "8\n"
     ]
    }
   ],
   "source": [
    "print('Olá mundo!')\n",
    "print(5 + 3)"
   ]
  },
  {
   "cell_type": "markdown",
   "id": "a17c4451",
   "metadata": {},
   "source": [
    "##### len()\n",
    "Retorna o comprimento/tamanho."
   ]
  },
  {
   "cell_type": "code",
   "execution_count": 2,
   "id": "cb5f8068",
   "metadata": {},
   "outputs": [
    {
     "data": {
      "text/plain": [
       "4"
      ]
     },
     "execution_count": 2,
     "metadata": {},
     "output_type": "execute_result"
    }
   ],
   "source": [
    "len('casa')"
   ]
  },
  {
   "cell_type": "code",
   "execution_count": 3,
   "id": "7c463f38",
   "metadata": {},
   "outputs": [
    {
     "data": {
      "text/plain": [
       "6"
      ]
     },
     "execution_count": 3,
     "metadata": {},
     "output_type": "execute_result"
    }
   ],
   "source": [
    "lista = ([0, 1, 2, 3, 4, 5])\n",
    "len(lista)"
   ]
  },
  {
   "cell_type": "markdown",
   "id": "b1905f8e",
   "metadata": {},
   "source": [
    "##### type()\n",
    "Retorna o tipo do objeto."
   ]
  },
  {
   "cell_type": "code",
   "execution_count": 4,
   "id": "321f16e6",
   "metadata": {},
   "outputs": [
    {
     "data": {
      "text/plain": [
       "str"
      ]
     },
     "execution_count": 4,
     "metadata": {},
     "output_type": "execute_result"
    }
   ],
   "source": [
    "type('a')"
   ]
  },
  {
   "cell_type": "code",
   "execution_count": 5,
   "id": "9f6e5d81",
   "metadata": {},
   "outputs": [
    {
     "data": {
      "text/plain": [
       "int"
      ]
     },
     "execution_count": 5,
     "metadata": {},
     "output_type": "execute_result"
    }
   ],
   "source": [
    "type(42)"
   ]
  },
  {
   "cell_type": "code",
   "execution_count": 6,
   "id": "82fe5481",
   "metadata": {},
   "outputs": [
    {
     "data": {
      "text/plain": [
       "float"
      ]
     },
     "execution_count": 6,
     "metadata": {},
     "output_type": "execute_result"
    }
   ],
   "source": [
    "type(3.14)"
   ]
  },
  {
   "cell_type": "code",
   "execution_count": 7,
   "id": "a2cb6dc2",
   "metadata": {},
   "outputs": [
    {
     "data": {
      "text/plain": [
       "bool"
      ]
     },
     "execution_count": 7,
     "metadata": {},
     "output_type": "execute_result"
    }
   ],
   "source": [
    "type(True)"
   ]
  },
  {
   "cell_type": "code",
   "execution_count": 8,
   "id": "b54318df",
   "metadata": {},
   "outputs": [
    {
     "data": {
      "text/plain": [
       "list"
      ]
     },
     "execution_count": 8,
     "metadata": {},
     "output_type": "execute_result"
    }
   ],
   "source": [
    "type(lista)"
   ]
  },
  {
   "cell_type": "markdown",
   "id": "e2774162",
   "metadata": {},
   "source": [
    "##### str()\n",
    "Retorna o string do objeto fornecido."
   ]
  },
  {
   "cell_type": "code",
   "execution_count": 9,
   "id": "966f4e1b",
   "metadata": {},
   "outputs": [
    {
     "data": {
      "text/plain": [
       "'42'"
      ]
     },
     "execution_count": 9,
     "metadata": {},
     "output_type": "execute_result"
    }
   ],
   "source": [
    "a = 42\n",
    "str(a)"
   ]
  },
  {
   "cell_type": "code",
   "execution_count": 10,
   "id": "7372f825",
   "metadata": {},
   "outputs": [
    {
     "data": {
      "text/plain": [
       "'[0, 1, 2, 3, 4, 5]'"
      ]
     },
     "execution_count": 10,
     "metadata": {},
     "output_type": "execute_result"
    }
   ],
   "source": [
    "str(lista)"
   ]
  },
  {
   "cell_type": "code",
   "execution_count": 11,
   "id": "37b34a3e",
   "metadata": {},
   "outputs": [
    {
     "name": "stdout",
     "output_type": "stream",
     "text": [
      "teste 42\n"
     ]
    }
   ],
   "source": [
    "print('teste ' + str(a))"
   ]
  },
  {
   "cell_type": "markdown",
   "id": "9e700962",
   "metadata": {},
   "source": [
    "##### int()\n",
    "Retorna o valor inteiro do objeto fornecido."
   ]
  },
  {
   "cell_type": "code",
   "execution_count": 12,
   "id": "59057a5b",
   "metadata": {},
   "outputs": [
    {
     "data": {
      "text/plain": [
       "123"
      ]
     },
     "execution_count": 12,
     "metadata": {},
     "output_type": "execute_result"
    }
   ],
   "source": [
    "b = '123'\n",
    "int(b)"
   ]
  },
  {
   "cell_type": "code",
   "execution_count": 13,
   "id": "4af9d35c",
   "metadata": {},
   "outputs": [
    {
     "data": {
      "text/plain": [
       "135"
      ]
     },
     "execution_count": 13,
     "metadata": {},
     "output_type": "execute_result"
    }
   ],
   "source": [
    "12 + int(b)"
   ]
  },
  {
   "cell_type": "markdown",
   "id": "96077727",
   "metadata": {},
   "source": [
    "##### float()\n",
    "Retorna o valor float do objeto fornecido."
   ]
  },
  {
   "cell_type": "code",
   "execution_count": 14,
   "id": "d81bbd08",
   "metadata": {},
   "outputs": [
    {
     "data": {
      "text/plain": [
       "12.33"
      ]
     },
     "execution_count": 14,
     "metadata": {},
     "output_type": "execute_result"
    }
   ],
   "source": [
    "c = '12.33'\n",
    "float(c)"
   ]
  },
  {
   "cell_type": "code",
   "execution_count": 15,
   "id": "e3c876e6",
   "metadata": {},
   "outputs": [
    {
     "data": {
      "text/plain": [
       "12"
      ]
     },
     "execution_count": 15,
     "metadata": {},
     "output_type": "execute_result"
    }
   ],
   "source": [
    "int(float(c))"
   ]
  },
  {
   "cell_type": "code",
   "execution_count": 16,
   "id": "d3659456",
   "metadata": {},
   "outputs": [
    {
     "data": {
      "text/plain": [
       "12.0"
      ]
     },
     "execution_count": 16,
     "metadata": {},
     "output_type": "execute_result"
    }
   ],
   "source": [
    "float(int(float(c)))"
   ]
  },
  {
   "cell_type": "markdown",
   "id": "0fa0ee84",
   "metadata": {},
   "source": [
    "##### list()\n",
    "Retorna um objeto tipo lista do objeto iterável fornecido."
   ]
  },
  {
   "cell_type": "code",
   "execution_count": 17,
   "id": "327791c4",
   "metadata": {},
   "outputs": [
    {
     "data": {
      "text/plain": [
       "['P', 'y', 't', 'h', 'o', 'n']"
      ]
     },
     "execution_count": 17,
     "metadata": {},
     "output_type": "execute_result"
    }
   ],
   "source": [
    "list('Python')"
   ]
  },
  {
   "cell_type": "code",
   "execution_count": 18,
   "id": "11830a0f",
   "metadata": {},
   "outputs": [
    {
     "data": {
      "text/plain": [
       "['1', '2', '3']"
      ]
     },
     "execution_count": 18,
     "metadata": {},
     "output_type": "execute_result"
    }
   ],
   "source": [
    "list(b)"
   ]
  },
  {
   "cell_type": "code",
   "execution_count": 19,
   "id": "04565991",
   "metadata": {},
   "outputs": [
    {
     "data": {
      "text/plain": [
       "['1', '2', '.', '3', '3']"
      ]
     },
     "execution_count": 19,
     "metadata": {},
     "output_type": "execute_result"
    }
   ],
   "source": [
    "list(c)"
   ]
  },
  {
   "cell_type": "code",
   "execution_count": 20,
   "id": "82c5c725",
   "metadata": {},
   "outputs": [
    {
     "data": {
      "text/plain": [
       "['P', 'y', 't', 'h', 'o', 'n', ' ', 'é', ' ', 'f', 'á', 'c', 'i', 'l', '!']"
      ]
     },
     "execution_count": 20,
     "metadata": {},
     "output_type": "execute_result"
    }
   ],
   "source": [
    "list('Python é fácil!')"
   ]
  },
  {
   "cell_type": "markdown",
   "id": "19ea98d0",
   "metadata": {},
   "source": [
    "##### input()\n",
    "Retorna um objeto representado o que foi digitado pelo usuário."
   ]
  },
  {
   "cell_type": "code",
   "execution_count": null,
   "id": "619a6c8d",
   "metadata": {},
   "outputs": [],
   "source": [
    "nome = input('Nome: ')"
   ]
  },
  {
   "cell_type": "code",
   "execution_count": null,
   "id": "57bd432b",
   "metadata": {},
   "outputs": [],
   "source": [
    "print(list(nome))"
   ]
  },
  {
   "cell_type": "markdown",
   "id": "538c00ad",
   "metadata": {},
   "source": [
    "##### abs()\n",
    "Retorna o valor absoluto de um valor fornecido."
   ]
  },
  {
   "cell_type": "code",
   "execution_count": null,
   "id": "ab52f900",
   "metadata": {},
   "outputs": [],
   "source": [
    "abs(42)"
   ]
  },
  {
   "cell_type": "code",
   "execution_count": null,
   "id": "810efcbd",
   "metadata": {},
   "outputs": [],
   "source": [
    "abs(-42)"
   ]
  },
  {
   "cell_type": "markdown",
   "id": "d174dc66",
   "metadata": {},
   "source": [
    "##### sum()\n",
    "Retorna a soma de todos os valores de um objeto iterável."
   ]
  },
  {
   "cell_type": "code",
   "execution_count": null,
   "id": "9c03d8dc",
   "metadata": {},
   "outputs": [],
   "source": [
    "lista"
   ]
  },
  {
   "cell_type": "code",
   "execution_count": null,
   "id": "a6c35745",
   "metadata": {},
   "outputs": [],
   "source": [
    "sum(lista)"
   ]
  }
 ],
 "metadata": {
  "kernelspec": {
   "display_name": "Python 3 (ipykernel)",
   "language": "python",
   "name": "python3"
  },
  "language_info": {
   "codemirror_mode": {
    "name": "ipython",
    "version": 3
   },
   "file_extension": ".py",
   "mimetype": "text/x-python",
   "name": "python",
   "nbconvert_exporter": "python",
   "pygments_lexer": "ipython3",
   "version": "3.8.10"
  }
 },
 "nbformat": 4,
 "nbformat_minor": 5
}
