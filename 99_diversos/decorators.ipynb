{
 "cells": [
  {
   "cell_type": "markdown",
   "id": "dc19e3e8",
   "metadata": {},
   "source": [
    "# Decorators\n"
   ]
  },
  {
   "cell_type": "markdown",
   "id": "4557421a",
   "metadata": {},
   "source": [
    "Um decorador é um padrão de projetos em Python que permite ao desenvolvedor adicionar novas funcionalidades a um objeto existente sem modificar sua estrutura. Os decoradores são normalmente aplicados a funções e desempenham um papel crucial no aprimoramento ou modificação do comportamento das funções."
   ]
  },
  {
   "cell_type": "markdown",
   "id": "9ad61d82",
   "metadata": {},
   "source": [
    "##### Atribuindo funções a variáveis"
   ]
  },
  {
   "cell_type": "code",
   "execution_count": 1,
   "id": "3b772ce4",
   "metadata": {},
   "outputs": [],
   "source": [
    "def plus_one(number):\n",
    "    return number + 1"
   ]
  },
  {
   "cell_type": "code",
   "execution_count": 2,
   "id": "54595b62",
   "metadata": {},
   "outputs": [],
   "source": [
    "add_one = plus_one"
   ]
  },
  {
   "cell_type": "code",
   "execution_count": 3,
   "id": "98c64f7a",
   "metadata": {},
   "outputs": [
    {
     "data": {
      "text/plain": [
       "6"
      ]
     },
     "execution_count": 3,
     "metadata": {},
     "output_type": "execute_result"
    }
   ],
   "source": [
    "add_one(5)"
   ]
  },
  {
   "cell_type": "markdown",
   "id": "b2cee41c",
   "metadata": {},
   "source": [
    "##### Definindo funções dentro de outras funções"
   ]
  },
  {
   "cell_type": "code",
   "execution_count": 4,
   "id": "75d3ad86",
   "metadata": {},
   "outputs": [],
   "source": [
    "def plus_one(number):\n",
    "    def add_one(number):\n",
    "        return number + 1\n",
    "\n",
    "\n",
    "    result = add_one(number)\n",
    "    return result"
   ]
  },
  {
   "cell_type": "code",
   "execution_count": 5,
   "id": "9302d11d",
   "metadata": {},
   "outputs": [
    {
     "data": {
      "text/plain": [
       "5"
      ]
     },
     "execution_count": 5,
     "metadata": {},
     "output_type": "execute_result"
    }
   ],
   "source": [
    "plus_one(4)"
   ]
  },
  {
   "cell_type": "markdown",
   "id": "4d119bf8",
   "metadata": {},
   "source": [
    "##### Passando funções como argumentos para outras funções"
   ]
  },
  {
   "cell_type": "code",
   "execution_count": 6,
   "id": "b79bea59",
   "metadata": {},
   "outputs": [],
   "source": [
    "def plus_one(number):\n",
    "    return number + 1\n",
    "\n",
    "def function_call(function):\n",
    "    number_to_add = 8\n",
    "    return function(number_to_add)"
   ]
  },
  {
   "cell_type": "code",
   "execution_count": 7,
   "id": "28acaea4",
   "metadata": {},
   "outputs": [
    {
     "data": {
      "text/plain": [
       "9"
      ]
     },
     "execution_count": 7,
     "metadata": {},
     "output_type": "execute_result"
    }
   ],
   "source": [
    "function_call(plus_one)"
   ]
  },
  {
   "cell_type": "markdown",
   "id": "c16dffda",
   "metadata": {},
   "source": [
    "##### Funções retornando outras funções"
   ]
  },
  {
   "cell_type": "code",
   "execution_count": 8,
   "id": "c08074a6",
   "metadata": {},
   "outputs": [],
   "source": [
    "def hello_function():\n",
    "    def say_hi():\n",
    "        return \"Hi\"\n",
    "    return say_hi"
   ]
  },
  {
   "cell_type": "code",
   "execution_count": 9,
   "id": "318dbcce",
   "metadata": {},
   "outputs": [],
   "source": [
    "hello = hello_function()"
   ]
  },
  {
   "cell_type": "code",
   "execution_count": 10,
   "id": "4343ce99",
   "metadata": {},
   "outputs": [
    {
     "data": {
      "text/plain": [
       "'Hi'"
      ]
     },
     "execution_count": 10,
     "metadata": {},
     "output_type": "execute_result"
    }
   ],
   "source": [
    "hello()"
   ]
  },
  {
   "cell_type": "markdown",
   "id": "a6419efd",
   "metadata": {},
   "source": [
    "##### Funções aninhadas têm acesso ao escopo variável da função externa"
   ]
  },
  {
   "cell_type": "code",
   "execution_count": 11,
   "id": "38e6c945",
   "metadata": {},
   "outputs": [],
   "source": [
    "def print_message(message):\n",
    "    \"Enclosong Function\"\n",
    "    def message_sender():\n",
    "        \"Nested Function\"\n",
    "        print(message)\n",
    "\n",
    "    message_sender()"
   ]
  },
  {
   "cell_type": "code",
   "execution_count": 12,
   "id": "8874a12f",
   "metadata": {},
   "outputs": [
    {
     "name": "stdout",
     "output_type": "stream",
     "text": [
      "Some random message\n"
     ]
    }
   ],
   "source": [
    "print_message(\"Some random message\")"
   ]
  },
  {
   "cell_type": "markdown",
   "id": "a95ff70e",
   "metadata": {},
   "source": [
    "### Criando Decorators"
   ]
  },
  {
   "cell_type": "markdown",
   "id": "0274460f",
   "metadata": {},
   "source": [
    "Com esses pré-requisitos resolvidos, vamos em frente e criar um decorator simples que converterá uma frase em maiúsculas. Fazemos isso definindo um wrapper dentro de uma função fechada. Como você pode ver, é muito semelhante à função dentro de outra função que criamos anteriormente."
   ]
  },
  {
   "cell_type": "code",
   "execution_count": 13,
   "id": "a020f878",
   "metadata": {},
   "outputs": [],
   "source": [
    "def uppercase_decorator(function):\n",
    "    def wrapper():\n",
    "        func = function()\n",
    "        make_uppercase = func.upper()\n",
    "        return make_uppercase\n",
    "\n",
    "    return wrapper"
   ]
  },
  {
   "cell_type": "markdown",
   "id": "280abc09",
   "metadata": {},
   "source": [
    "Nossa função decorator recebe uma função como argumento e devemos, portanto, definir uma função e passá-la para nosso decorator. Aprendemos anteriormente que poderíamos atribuir uma função a uma variável. Usaremos esse truque para chamar nossa função \"decoradora\"."
   ]
  },
  {
   "cell_type": "code",
   "execution_count": 14,
   "id": "a52d7382",
   "metadata": {},
   "outputs": [],
   "source": [
    "def say_hi():\n",
    "    return 'hello there'"
   ]
  },
  {
   "cell_type": "code",
   "execution_count": 15,
   "id": "b905f1f7",
   "metadata": {},
   "outputs": [],
   "source": [
    "decorate = uppercase_decorator(say_hi)"
   ]
  },
  {
   "cell_type": "code",
   "execution_count": 16,
   "id": "093b0426",
   "metadata": {},
   "outputs": [
    {
     "data": {
      "text/plain": [
       "'HELLO THERE'"
      ]
     },
     "execution_count": 16,
     "metadata": {},
     "output_type": "execute_result"
    }
   ],
   "source": [
    "decorate()"
   ]
  },
  {
   "cell_type": "markdown",
   "id": "2e83bf57",
   "metadata": {},
   "source": [
    "No entanto, Python oferece uma maneira muito mais fácil de aplicar decoradotors. Simplesmente usamos o símbolo @ antes da função que gostaríamos de \"decorar\". Vamos mostrar isso na prática abaixo."
   ]
  },
  {
   "cell_type": "code",
   "execution_count": 17,
   "id": "ba128811",
   "metadata": {},
   "outputs": [],
   "source": [
    "@uppercase_decorator\n",
    "def say_hi():\n",
    "    return 'hello there'"
   ]
  },
  {
   "cell_type": "code",
   "execution_count": 18,
   "id": "d6f6ddc7",
   "metadata": {},
   "outputs": [
    {
     "data": {
      "text/plain": [
       "'HELLO THERE'"
      ]
     },
     "execution_count": 18,
     "metadata": {},
     "output_type": "execute_result"
    }
   ],
   "source": [
    "say_hi()"
   ]
  },
  {
   "cell_type": "markdown",
   "id": "6ec84f83",
   "metadata": {},
   "source": [
    "##### Utilizando Multiplos Decorators em uma única função"
   ]
  },
  {
   "cell_type": "markdown",
   "id": "86416a04",
   "metadata": {},
   "source": [
    "Podemos usar vários decorators para uma única função. Porém, os decorators serão aplicados na ordem em que os chamamos. Abaixo definiremos outro decorator que divide a frase em uma lista. Em seguida, aplicaremos o decorator uppercase_decorator e split_string a uma única função."
   ]
  },
  {
   "cell_type": "code",
   "execution_count": 19,
   "id": "a0ca2dae",
   "metadata": {},
   "outputs": [],
   "source": [
    "import functools\n",
    "def split_string(function):\n",
    "    @functools.wraps(function)\n",
    "    def wrapper():\n",
    "        func = function()\n",
    "        splitted_string = func.split()\n",
    "        return splitted_string\n",
    "\n",
    "    return wrapper "
   ]
  },
  {
   "cell_type": "code",
   "execution_count": 20,
   "id": "6cd1ce20",
   "metadata": {},
   "outputs": [
    {
     "data": {
      "text/plain": [
       "['HELLO', 'THERE']"
      ]
     },
     "execution_count": 20,
     "metadata": {},
     "output_type": "execute_result"
    }
   ],
   "source": [
    "@split_string\n",
    "@uppercase_decorator\n",
    "def say_hi():\n",
    "    return 'hello there'\n",
    "say_hi()"
   ]
  },
  {
   "cell_type": "markdown",
   "id": "b3ac5b1b",
   "metadata": {},
   "source": [
    "Pela saída acima, notamos que a aplicação dos decorators é de baixo para cima. Se tivéssemos trocado a ordem, teríamos visto um erro, pois as listas não possuem um atributo superior. A frase foi primeiro convertida para maiúsculas e depois dividida em uma lista."
   ]
  },
  {
   "cell_type": "markdown",
   "id": "09fb3c23",
   "metadata": {},
   "source": [
    "Nota: Ao empilhar decorators, é uma prática comum usar functools.wraps para garantir que os metadados da função original sejam preservados durante todo o processo de empilhamento. Isso ajuda a manter a clareza e a consistência na depuração e na compreensão das propriedades da função \"decorada\"."
   ]
  },
  {
   "cell_type": "markdown",
   "id": "3e4f96a0",
   "metadata": {},
   "source": [
    "https://www.datacamp.com/tutorial/decorators-python?utm_source=google&utm_medium=paid_search&utm_campaignid=19589720824&utm_adgroupid=157156376311&utm_device=c&utm_keyword=&utm_matchtype=&utm_network=g&utm_adpostion=&utm_creative=684753664945&utm_targetid=dsa-2218886984100&utm_loc_interest_ms=&utm_loc_physical_ms=9100240&utm_content=&utm_campaign=230119_1-sea~dsa~tofu_2-b2c_3-row-p2_4-prc_5-na_6-na_7-le_8-pdsh-go_9-na_10-na_11-na-jan24&gad_source=1&gclid=CjwKCAiA5L2tBhBTEiwAdSxJX6DvF_Zs5ONOvF7IGhraJZGvc2-OMO-7hHcbrEaUW3zgSYzWPEtDjhoCbs0QAvD_BwE"
   ]
  },
  {
   "cell_type": "code",
   "execution_count": null,
   "id": "39ba3cdc",
   "metadata": {},
   "outputs": [],
   "source": []
  }
 ],
 "metadata": {
  "kernelspec": {
   "display_name": "Python 3 (ipykernel)",
   "language": "python",
   "name": "python3"
  },
  "language_info": {
   "codemirror_mode": {
    "name": "ipython",
    "version": 3
   },
   "file_extension": ".py",
   "mimetype": "text/x-python",
   "name": "python",
   "nbconvert_exporter": "python",
   "pygments_lexer": "ipython3",
   "version": "3.8.10"
  }
 },
 "nbformat": 4,
 "nbformat_minor": 5
}
