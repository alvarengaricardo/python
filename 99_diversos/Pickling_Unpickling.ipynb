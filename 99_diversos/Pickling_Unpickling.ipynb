{
 "cells": [
  {
   "cell_type": "markdown",
   "id": "f1015364",
   "metadata": {},
   "source": [
    "# Pickling e Unpickling"
   ]
  },
  {
   "cell_type": "markdown",
   "id": "0c7c3858",
   "metadata": {},
   "source": [
    "Pickling em Python refere-se ao processo de serialização de objetos Python em uma sequência de bytes. Isso é feito usando o módulo pickle que é parte da biblioteca padrão do Python. A serialização é o processo de converter a representação interna de um objeto em uma forma que pode ser facilmente armazenada, transmitida ou reconstruída.\n",
    "\n",
    "Por outro lado, \"unpickling\" é o processo inverso, onde a sequência de bytes é reconstruída em um objeto Python. O pickle é útil quando você deseja salvar o estado de um objeto ou transmitir dados entre diferentes partes de um programa ou até mesmo entre diferentes programas Python."
   ]
  },
  {
   "cell_type": "code",
   "execution_count": 1,
   "id": "94bea319",
   "metadata": {},
   "outputs": [],
   "source": [
    "import pickle"
   ]
  },
  {
   "cell_type": "code",
   "execution_count": 2,
   "id": "6f79595e",
   "metadata": {},
   "outputs": [],
   "source": [
    "# Objeto Python (dicionário)\n",
    "dados = {'nome': 'Alice', 'idade': 30, 'cidade': 'Wonderland'}"
   ]
  },
  {
   "cell_type": "code",
   "execution_count": 3,
   "id": "fe356bf8",
   "metadata": {},
   "outputs": [
    {
     "data": {
      "text/plain": [
       "{'nome': 'Alice', 'idade': 30, 'cidade': 'Wonderland'}"
      ]
     },
     "execution_count": 3,
     "metadata": {},
     "output_type": "execute_result"
    }
   ],
   "source": [
    "dados"
   ]
  },
  {
   "cell_type": "code",
   "execution_count": 4,
   "id": "bce4f7af",
   "metadata": {},
   "outputs": [],
   "source": [
    "# Pickling: Convertendo o objeto em uma sequência de bytes\n",
    "dados_pickled = pickle.dumps(dados)"
   ]
  },
  {
   "cell_type": "code",
   "execution_count": 5,
   "id": "e75fa773",
   "metadata": {},
   "outputs": [],
   "source": [
    "# Salvando em um arquivo\n",
    "with open('dados.pkl', 'wb') as arquivo_out:\n",
    "    arquivo_out.write(dados_pickled)"
   ]
  },
  {
   "cell_type": "code",
   "execution_count": 6,
   "id": "224df960",
   "metadata": {},
   "outputs": [
    {
     "name": "stdout",
     "output_type": "stream",
     "text": [
      "€\u0004•4\u0000\u0000\u0000\u0000\u0000\u0000\u0000}”(Œ\u0004nome”Œ\u0005Alice”Œ\u0005idade”K\u001e",
      "Œ\u0006cidade”Œ\n",
      "Wonderland”u.\n"
     ]
    }
   ],
   "source": [
    "!type dados.pkl"
   ]
  },
  {
   "cell_type": "code",
   "execution_count": 7,
   "id": "9deb72c6",
   "metadata": {},
   "outputs": [],
   "source": [
    "# Lendo a sequência de bytes do arquivo\n",
    "with open('dados.pkl', 'rb') as arquivo_in:\n",
    "    dados_pickled_in = arquivo_in.read()"
   ]
  },
  {
   "cell_type": "code",
   "execution_count": 8,
   "id": "cf17cdad",
   "metadata": {},
   "outputs": [],
   "source": [
    "# Unpickling: Convertendo a sequência de bytes de volta para o objeto\n",
    "dados_deserializados = pickle.loads(dados_pickled_in)"
   ]
  },
  {
   "cell_type": "code",
   "execution_count": 9,
   "id": "1e813e76",
   "metadata": {},
   "outputs": [
    {
     "name": "stdout",
     "output_type": "stream",
     "text": [
      "{'nome': 'Alice', 'idade': 30, 'cidade': 'Wonderland'}\n"
     ]
    }
   ],
   "source": [
    "# Exibindo os dados deserializados\n",
    "print(dados_deserializados)"
   ]
  },
  {
   "cell_type": "code",
   "execution_count": null,
   "id": "ef212c07",
   "metadata": {},
   "outputs": [],
   "source": []
  }
 ],
 "metadata": {
  "kernelspec": {
   "display_name": "Python 3 (ipykernel)",
   "language": "python",
   "name": "python3"
  },
  "language_info": {
   "codemirror_mode": {
    "name": "ipython",
    "version": 3
   },
   "file_extension": ".py",
   "mimetype": "text/x-python",
   "name": "python",
   "nbconvert_exporter": "python",
   "pygments_lexer": "ipython3",
   "version": "3.8.10"
  }
 },
 "nbformat": 4,
 "nbformat_minor": 5
}
