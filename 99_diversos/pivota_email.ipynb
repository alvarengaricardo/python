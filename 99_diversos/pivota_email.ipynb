{
 "cells": [
  {
   "cell_type": "code",
   "execution_count": null,
   "metadata": {
    "id": "D62ar_GihIUx"
   },
   "outputs": [],
   "source": [
    "import pandas as pd"
   ]
  },
  {
   "cell_type": "code",
   "execution_count": null,
   "metadata": {
    "id": "rEGQP6zhhKHg"
   },
   "outputs": [],
   "source": [
    "df = pd.read_csv('email.CSV', sep = ';')"
   ]
  },
  {
   "cell_type": "code",
   "execution_count": null,
   "metadata": {
    "colab": {
     "base_uri": "https://localhost:8080/",
     "height": 206
    },
    "id": "HL8vcAb3iio3",
    "outputId": "49db31ee-a5d2-4a1e-96b5-1d9bba1520bc"
   },
   "outputs": [],
   "source": [
    "df.head()"
   ]
  },
  {
   "cell_type": "code",
   "execution_count": null,
   "metadata": {
    "colab": {
     "base_uri": "https://localhost:8080/",
     "height": 437
    },
    "id": "VKG9xJ0fik-1",
    "outputId": "afb29967-1f4d-4ea9-aeb0-a7a2eca65a2e"
   },
   "outputs": [],
   "source": [
    "df2 = pd.pivot_table(df, index=['MCI', 'email'])\n",
    "df2"
   ]
  },
  {
   "cell_type": "code",
   "execution_count": null,
   "metadata": {
    "colab": {
     "base_uri": "https://localhost:8080/",
     "height": 423
    },
    "id": "A0y48OGOjW0l",
    "outputId": "319d2ef2-9cc7-4cb8-a70e-59a51cd812cb"
   },
   "outputs": [],
   "source": [
    "df2 = pd.pivot_table(df, index=[\"MCI\"], columns=\"email\", fill_value=0)\n",
    "df2"
   ]
  },
  {
   "cell_type": "code",
   "execution_count": null,
   "metadata": {
    "colab": {
     "base_uri": "https://localhost:8080/",
     "height": 475
    },
    "id": "iV3D3f5qkWkG",
    "outputId": "6300c914-f0ee-4a10-f886-61c3f2b98244"
   },
   "outputs": [],
   "source": [
    "df2 = df.groupby('MCI')['email'].unique().apply(pd.Series)\n",
    "df2"
   ]
  },
  {
   "cell_type": "code",
   "execution_count": null,
   "metadata": {
    "colab": {
     "base_uri": "https://localhost:8080/",
     "height": 475
    },
    "id": "p2wk5K4U9Y6x",
    "outputId": "250d11f1-6cdc-4180-c337-8faf42bcb24e"
   },
   "outputs": [],
   "source": [
    "df3 = df2.astype(str).replace(r'\\.0$', '', regex=True)\n",
    "df3"
   ]
  },
  {
   "cell_type": "code",
   "execution_count": null,
   "metadata": {
    "colab": {
     "base_uri": "https://localhost:8080/"
    },
    "id": "-z9_FclAsQV-",
    "outputId": "2cf49300-293e-43b3-afbf-e40e269f1f77"
   },
   "outputs": [],
   "source": [
    "list(df3.columns)"
   ]
  },
  {
   "cell_type": "code",
   "execution_count": null,
   "metadata": {
    "id": "1wWbCXVXAEIE"
   },
   "outputs": [],
   "source": [
    "# df3['detalhe'] =df3[0] + ' - ' + df3[1] + ' - ' + df3[2] + ' - ' + df3[3] + ' - ' + df3[4] + ' - ' + df3[5] + ' - ' + df3[6] + ' - ' + df3[7] + ' - ' + df3[8] + ' - ' + df3[9] + ' - ' + df3[10] + ' - ' + df3[11] + ' - ' + df3[12] + ' - ' + df3[13]"
   ]
  },
  {
   "cell_type": "code",
   "execution_count": null,
   "metadata": {
    "id": "ojoremTl-73V"
   },
   "outputs": [],
   "source": [
    "df3.to_csv(\"email-pivotado.txt\", encoding = 'utf-8')"
   ]
  },
  {
   "cell_type": "code",
   "execution_count": null,
   "metadata": {
    "id": "N3RVkeg0YutQ"
   },
   "outputs": [],
   "source": []
  }
 ],
 "metadata": {
  "colab": {
   "provenance": []
  },
  "kernelspec": {
   "display_name": "Python 3 (ipykernel)",
   "language": "python",
   "name": "python3"
  },
  "language_info": {
   "codemirror_mode": {
    "name": "ipython",
    "version": 3
   },
   "file_extension": ".py",
   "mimetype": "text/x-python",
   "name": "python",
   "nbconvert_exporter": "python",
   "pygments_lexer": "ipython3",
   "version": "3.8.10"
  }
 },
 "nbformat": 4,
 "nbformat_minor": 1
}
