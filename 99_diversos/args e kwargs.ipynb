{
 "cells": [
  {
   "cell_type": "markdown",
   "id": "5a02ce46",
   "metadata": {},
   "source": [
    "# *args e **kwargs"
   ]
  },
  {
   "cell_type": "markdown",
   "id": "ecdbc58a",
   "metadata": {},
   "source": [
    "Exemplo utilizando *args"
   ]
  },
  {
   "cell_type": "code",
   "execution_count": 1,
   "id": "3e388e50",
   "metadata": {},
   "outputs": [],
   "source": [
    "# não precisa ser '*args', pode ter qualquer outro nome, mas precisa do '*'.\n",
    "def f1_titles(pilot, *args):\n",
    "    print('Pilot: ', pilot)\n",
    "    for title in args:\n",
    "        print('year: ', title)"
   ]
  },
  {
   "cell_type": "code",
   "execution_count": 2,
   "id": "7e16bb95",
   "metadata": {},
   "outputs": [
    {
     "name": "stdout",
     "output_type": "stream",
     "text": [
      "Pilot:  Senna\n",
      "year:  1988\n",
      "year:  1990\n",
      "year:  1991\n"
     ]
    }
   ],
   "source": [
    "f1_titles('Senna', 1988, 1990, 1991)"
   ]
  },
  {
   "cell_type": "code",
   "execution_count": 3,
   "id": "c36eddfc",
   "metadata": {},
   "outputs": [
    {
     "name": "stdout",
     "output_type": "stream",
     "text": [
      "Pilot:  Fittipaldi\n",
      "year:  1972\n",
      "year:  1974\n"
     ]
    }
   ],
   "source": [
    "f1_titles('Fittipaldi', 1972, 1974)"
   ]
  },
  {
   "cell_type": "code",
   "execution_count": 4,
   "id": "c97d260e",
   "metadata": {},
   "outputs": [
    {
     "name": "stdout",
     "output_type": "stream",
     "text": [
      "Pilot:  Lauda\n",
      "year:  1975\n",
      "year:  1977\n",
      "year:  1984\n"
     ]
    }
   ],
   "source": [
    "f1_titles('Lauda', 1975, 1977, 1984)"
   ]
  },
  {
   "cell_type": "code",
   "execution_count": 5,
   "id": "06a586c6",
   "metadata": {},
   "outputs": [],
   "source": [
    "# não precisa ser '*kwargs', pode ter qualquer outro nome, mas precisa dos '**'.\n",
    "def calculate_price(value, **kwargs):\n",
    "    tax_percentage = kwargs.get('tax_percentage')\n",
    "    discount = kwargs.get('discount')\n",
    "    if tax_percentage:\n",
    "        value += value * (tax_percentage / 100)\n",
    "    if discount:\n",
    "        value -= discount\n",
    "    return value"
   ]
  },
  {
   "cell_type": "code",
   "execution_count": 6,
   "id": "c1d8b38e",
   "metadata": {},
   "outputs": [
    {
     "data": {
      "text/plain": [
       "100.0"
      ]
     },
     "execution_count": 6,
     "metadata": {},
     "output_type": "execute_result"
    }
   ],
   "source": [
    "final_price = calculate_price(100.0)\n",
    "final_price"
   ]
  },
  {
   "cell_type": "code",
   "execution_count": 7,
   "id": "2f5fcc58",
   "metadata": {},
   "outputs": [
    {
     "data": {
      "text/plain": [
       "95.0"
      ]
     },
     "execution_count": 7,
     "metadata": {},
     "output_type": "execute_result"
    }
   ],
   "source": [
    "final_price = calculate_price(100.0, discount=5.0)\n",
    "final_price"
   ]
  },
  {
   "cell_type": "code",
   "execution_count": 8,
   "id": "f281a76b",
   "metadata": {},
   "outputs": [
    {
     "data": {
      "text/plain": [
       "107.0"
      ]
     },
     "execution_count": 8,
     "metadata": {},
     "output_type": "execute_result"
    }
   ],
   "source": [
    "final_price = calculate_price(100.0, tax_percentage=7)\n",
    "final_price"
   ]
  },
  {
   "cell_type": "code",
   "execution_count": 9,
   "id": "6307dd3b",
   "metadata": {},
   "outputs": [
    {
     "data": {
      "text/plain": [
       "102.0"
      ]
     },
     "execution_count": 9,
     "metadata": {},
     "output_type": "execute_result"
    }
   ],
   "source": [
    "final_price = calculate_price(100.0, tax_percentage=7, discount=5.0)\n",
    "final_price"
   ]
  },
  {
   "cell_type": "markdown",
   "id": "bea2f2fd",
   "metadata": {},
   "source": [
    "Observe no exemplo acima que o nome dos argumentos variáveis é extremamente importante, já que por ele é possível saber se o valor se trata de um imposto ou um desconto a ser aplicado! Não se trata de uma lista de argumentos a serem iterados, e sim de argumentos opcionais com finalidades completamente diferentes, identificados por seus nomes!"
   ]
  },
  {
   "cell_type": "code",
   "execution_count": null,
   "id": "1a977494",
   "metadata": {},
   "outputs": [],
   "source": []
  }
 ],
 "metadata": {
  "kernelspec": {
   "display_name": "Python 3 (ipykernel)",
   "language": "python",
   "name": "python3"
  },
  "language_info": {
   "codemirror_mode": {
    "name": "ipython",
    "version": 3
   },
   "file_extension": ".py",
   "mimetype": "text/x-python",
   "name": "python",
   "nbconvert_exporter": "python",
   "pygments_lexer": "ipython3",
   "version": "3.8.10"
  }
 },
 "nbformat": 4,
 "nbformat_minor": 5
}
